{
 "cells": [
  {
   "cell_type": "markdown",
   "metadata": {},
   "source": [
    "## Наибольший общий делитель.  \n",
    "\n",
    "**Определение**  \n",
    "\n",
    "Наибольшим общим делителем (НОД) для двух целых чисел $m$ и $n$, называется наибольший из их общих делителей. \n",
    "Наибольший общий делитель существует и однозначно определён, если хотя бы одно из чисел $m$ или $n$ не равно нулю.  \n",
    "  \n",
    "Возможные обозначения наибольшего общего делителя чисел $m$ и $n$:\n",
    "\n",
    "НОД(m, n)  \n",
    "$(m,n)$  \n",
    "$gcd(m,n)$ (от англ. greatest common divisor);\n",
    "  \n",
    "**Пример**  \n",
    "  \n",
    "  Найдем НОД(12, 44):  \n",
    "  $d(12) = [1, 2, 3, 4, 6, 12]$  \n",
    "  $d(44) = [1, 2, 4, 11, 22, 44]$  \n",
    "  НОД(12, 44) = 4\n",
    "\n"
   ]
  },
  {
   "cell_type": "markdown",
   "metadata": {},
   "source": [
    "### Нахождение НОД(n, m).\n",
    "\n",
    "#### 1. Наивный алгоритм.\n"
   ]
  },
  {
   "cell_type": "markdown",
   "metadata": {},
   "source": [
    "Найдем все делители числа $n$ и числа $m$. Пройдем по списку делителей числа $n$, отмечая те, которые входят в список делителей числа $m$.Наибольшее из отмеченных чисел будет наибольшим общим делителем чисел $n$ и $m$."
   ]
  },
  {
   "cell_type": "code",
   "execution_count": 19,
   "metadata": {},
   "outputs": [],
   "source": [
    "def divisor(n):\n",
    "    d = []\n",
    "    for x in range(1, 1 + int(n ** .5)):\n",
    "        if n % x == 0:\n",
    "            d.append(x)\n",
    "            y = n // x\n",
    "            if y != x:\n",
    "                d.append(y)\n",
    "    d.sort()\n",
    "    return d"
   ]
  },
  {
   "cell_type": "code",
   "execution_count": 20,
   "metadata": {},
   "outputs": [
    {
     "name": "stdout",
     "output_type": "stream",
     "text": [
      "[1, 2, 3, 4, 6, 9, 12, 18, 36]\n",
      "[1, 2, 4, 31, 62, 124]\n"
     ]
    }
   ],
   "source": [
    "n = 36\n",
    "m = 124\n",
    "dn = divisor(n)\n",
    "\n",
    "dm = divisor(m)\n",
    "\n",
    "print(dn)\n",
    "print(dm)"
   ]
  },
  {
   "cell_type": "code",
   "execution_count": 21,
   "metadata": {},
   "outputs": [
    {
     "name": "stdout",
     "output_type": "stream",
     "text": [
      "4\n"
     ]
    }
   ],
   "source": [
    "for i in dn:\n",
    "    if i in dm:\n",
    "        ans = i\n",
    "print(ans)"
   ]
  },
  {
   "cell_type": "markdown",
   "metadata": {},
   "source": [
    "#### 2. Алгоритм c использованием факторизации чисел $n$ и $m$."
   ]
  },
  {
   "cell_type": "markdown",
   "metadata": {},
   "source": [
    "Разложим $n$ и $m$ на простые множители. Общая часть этих разложений является наибольшим общим делителем чисел $n$ и $m$."
   ]
  },
  {
   "cell_type": "markdown",
   "metadata": {},
   "source": [
    "$n=p_{1}^{{d_{1}}}\\cdot \\dots \\cdot p_{k}^{{d_{k}}}$  \n",
    "\n",
    "${\\displaystyle m=p_{1}^{e_{1}}\\cdot \\dots \\cdot p_{k}^{e_{k}}}$  \n",
    "тогда"
   ]
  },
  {
   "cell_type": "markdown",
   "metadata": {},
   "source": [
    "$(n,m)=p_{1}^{{\\min(d_{1},e_{1})}}\\cdot \\dots \\cdot p_{k}^{{\\min(d_{k},e_{k})}}$"
   ]
  },
  {
   "cell_type": "code",
   "execution_count": 22,
   "metadata": {},
   "outputs": [],
   "source": [
    "def factor(x):\n",
    "    d = 2\n",
    "    p = []\n",
    "    while d * d <= x:\n",
    "        while x % d == 0:\n",
    "            x //= d\n",
    "            p.append(d)\n",
    "        else:\n",
    "            d += 1\n",
    "    if x > 1:\n",
    "        p.append(x)\n",
    "    return p\n",
    "    "
   ]
  },
  {
   "cell_type": "code",
   "execution_count": 23,
   "metadata": {},
   "outputs": [
    {
     "name": "stdout",
     "output_type": "stream",
     "text": [
      "[2, 2, 3, 3]\n",
      "[2, 2, 31]\n"
     ]
    }
   ],
   "source": [
    "pn = factor(n)\n",
    "pm = factor(m)\n",
    "\n",
    "print(pn)\n",
    "print(pm)"
   ]
  },
  {
   "cell_type": "code",
   "execution_count": 24,
   "metadata": {},
   "outputs": [
    {
     "name": "stdout",
     "output_type": "stream",
     "text": [
      "{2, 3}\n"
     ]
    }
   ],
   "source": [
    "c = set(pn)\n",
    "print(c)\n"
   ]
  },
  {
   "cell_type": "code",
   "execution_count": 26,
   "metadata": {},
   "outputs": [
    {
     "name": "stdout",
     "output_type": "stream",
     "text": [
      "[2, 2]\n"
     ]
    }
   ],
   "source": [
    "g = []\n",
    "for i in c:\n",
    "    k = min(pn.count(i), pm.count(i))\n",
    "    g += [i] * k\n",
    "print(g)"
   ]
  },
  {
   "cell_type": "code",
   "execution_count": 27,
   "metadata": {},
   "outputs": [
    {
     "name": "stdout",
     "output_type": "stream",
     "text": [
      "4\n"
     ]
    }
   ],
   "source": [
    "d = 1\n",
    "for i in g:\n",
    "    d *= i\n",
    "    \n",
    "print(d)"
   ]
  },
  {
   "cell_type": "markdown",
   "metadata": {},
   "source": [
    "#### 3. Алгоритм Евклида."
   ]
  },
  {
   "cell_type": "markdown",
   "metadata": {},
   "source": [
    "Алгоритм Евклида - эффективный способ быстро находить наибольший общий делитель двух целых неотрицательных чисел $n$ и $m$. "
   ]
  },
  {
   "cell_type": "markdown",
   "metadata": {},
   "source": [
    "+ **3.1 Алгоритм Евклида вычитанием.**"
   ]
  },
  {
   "cell_type": "markdown",
   "metadata": {},
   "source": [
    "Заметим, что  \n",
    "\n",
    "           НОД(n, n) = n                                          (1)\n",
    "           НОД(n, 0) = n                                          (2)\n",
    "           НОД(n, 1) = 1                                          (3) \n",
    "           НОД(n, m) = НОД(n - m, m)   при n > m                  (4)\n"
   ]
  },
  {
   "cell_type": "markdown",
   "metadata": {},
   "source": [
    "НОД(8, 26) = 2  \n",
    "НОД(26 - 8, 8) = (18, 8) = (18 - 8, 8) = (10, 8) = (10 - 8, 8) = (2, 8) = (8 - 2, 2) = (6, 2)\n",
    "(6 - 2, 2) = (4, 2) = (2, 2) = (2, 0)"
   ]
  },
  {
   "cell_type": "markdown",
   "metadata": {},
   "source": [
    "Последнее равенство позволяет нам организовать следующий  процесс для чисел $a$ и $b$:\n"
   ]
  },
  {
   "cell_type": "code",
   "execution_count": 28,
   "metadata": {},
   "outputs": [],
   "source": [
    "if n > m:\n",
    "    n, m = n - m, m\n",
    "else:\n",
    "    n, m = n, m - n"
   ]
  },
  {
   "cell_type": "markdown",
   "metadata": {},
   "source": [
    "Остановим процесс, когда $n$ и $m$ станут равными. Текущее значение $n$ будет наибольшим общим делителем чисел ($n$, $m$).\n"
   ]
  },
  {
   "cell_type": "markdown",
   "metadata": {},
   "source": [
    "Пример реализации \"вручную\" для чисел $n = 36, m = 124$ \n",
    "  \n",
    "  \n",
    "НОД(36, 124) ->  \n",
    "НОД(36, 124 - 36) ->  \n",
    "НОД(36, 88) ->   \n",
    "НОД(36, 88 - 36) ->  \n",
    "НОД(36,52) ->   \n",
    "НОД(36, 52 - 36) ->   \n",
    "НОД(36, 16) ->   \n",
    "НОД(36 - 16, 16) ->   \n",
    "НОД(20, 36) ->   \n",
    "НОД(36 - 20, 20) ->   \n",
    "НОД(16, 20) ->   \n",
    "НОД(16, 20 - 16) ->   \n",
    "НОД(16, 4) ->   \n",
    "НОД(16 - 4, 4) ->   \n",
    "НОД(12, 4) ->   \n",
    "НОД(12 - 4, 4) ->   \n",
    "НОД(8, 4) ->   \n",
    "НОД(8 - 4, 4) ->  \n",
    "НОД(4, 4) ->   \n",
    "НОД(4 - 4, 4) ->   \n",
    "НОД(0, 4) = 4."
   ]
  },
  {
   "cell_type": "code",
   "execution_count": 29,
   "metadata": {},
   "outputs": [],
   "source": [
    "def gcd(a, b):\n",
    "    while b > 0:\n",
    "        if a > b:\n",
    "            a -= b\n",
    "        else:\n",
    "            b -= a\n",
    "    return a\n"
   ]
  },
  {
   "cell_type": "code",
   "execution_count": 30,
   "metadata": {},
   "outputs": [
    {
     "name": "stdout",
     "output_type": "stream",
     "text": [
      "4\n"
     ]
    }
   ],
   "source": [
    "print(gcd(n, m))\n"
   ]
  },
  {
   "cell_type": "markdown",
   "metadata": {},
   "source": [
    "+ **3.2 Алгоритм Евклида делением.**\n",
    "\n",
    "    Вместо того, чтобы много раз вычитать из числа $a$ число $b$, можно сразу от  \n",
    "\tчисла $a$ отнять выражение $k\\cdot b$, где $k = a\\div b$ (целочисленное деление $a$ на $b$).   \n",
    "    Помним, что  $a - (a\\div b)\\cdot b = a$ % $b$  \n",
    "    В результате получим процесс $(a, b) -> (b, a$ % $b$). \n",
    "    Процесс продолжаем, пока $b > 0$. На выходе получим пару $(a, 0)$, НОД которой равен $a$.\n"
   ]
  },
  {
   "cell_type": "markdown",
   "metadata": {},
   "source": [
    "Реализация алгоритма Евклида делением\"вручную\" для чисел $n = 36, m = 124$:  \n",
    "  \n",
    "  НОД(36, 124)  \n",
    "  НОД(36, 124 % 36)  \n",
    "  НОД(36, 16)  \n",
    "  НОД(36 % 16, 16)\n",
    "  НОД(4, 16)  \n",
    "  НОД(4, 16 % 4)  \n",
    "  НОД(4, 0) \n",
    "  \n"
   ]
  },
  {
   "cell_type": "markdown",
   "metadata": {},
   "source": [
    "Программная реализация:"
   ]
  },
  {
   "cell_type": "code",
   "execution_count": 14,
   "metadata": {},
   "outputs": [],
   "source": [
    "def gcd(a, b):\n",
    "    while b > 0:\n",
    "        a, b = b, a % b\n",
    "    return a + b\n"
   ]
  },
  {
   "cell_type": "code",
   "execution_count": 15,
   "metadata": {},
   "outputs": [
    {
     "name": "stdout",
     "output_type": "stream",
     "text": [
      "4\n"
     ]
    }
   ],
   "source": [
    "print(gcd(n, m))"
   ]
  },
  {
   "cell_type": "markdown",
   "metadata": {},
   "source": [
    "### Библиотека math."
   ]
  },
  {
   "cell_type": "markdown",
   "metadata": {},
   "source": [
    "Начиная с версии 3.x в языке программирования Python появилась библиотечная реализация нахождения НОД."
   ]
  },
  {
   "cell_type": "code",
   "execution_count": 3,
   "metadata": {},
   "outputs": [
    {
     "name": "stdout",
     "output_type": "stream",
     "text": [
      "36 12\n",
      "12\n"
     ]
    }
   ],
   "source": [
    "from math import gcd\n",
    "\n",
    "a, b = map(int, input().split())\n",
    "print(gcd(a, b))"
   ]
  },
  {
   "cell_type": "markdown",
   "metadata": {},
   "source": [
    "### НОД нескольких чисел."
   ]
  },
  {
   "cell_type": "markdown",
   "metadata": {},
   "source": [
    "1. $НОД(a, b, c) = НОД(НОД(a, b), c)$  \n",
    "2. $НОД(a_1, a_2,..., a_{n})$:  \n",
    "    $d_2 = gcd(a_1, a_2)$  \n",
    "    $d_3 = gcd(d_2, a_3)$  \n",
    "    $d_4 = gcd(d_3, a_4)$  \n",
    "    $\\cdot \\cdot \\cdot \\cdot \\cdot \\cdot \\cdot \\cdot \\cdot \\cdot \\cdot \\cdot \\cdot \\cdot  $  \n",
    "    $d_n = gcd(d_{n - 1}, a_n)$\n",
    "    "
   ]
  },
  {
   "cell_type": "markdown",
   "metadata": {},
   "source": [
    "## Наименьшее общее кратное.\n",
    "\n",
    "**Наиме́ньшее о́бщее кра́тное (${\\displaystyle \\mathrm {HOK} }$)** двух целых чисел $m$ и $n$ есть наименьшее натуральное число, которое делится на $m$ и $n$ без остатка, то есть кратно им обоим. Обозначается одним из следующих способов:"
   ]
  },
  {
   "cell_type": "markdown",
   "metadata": {},
   "source": [
    "+ ${\\displaystyle \\mathrm {HOK} (m,n)}$;  \n",
    "+ ${\\displaystyle [m,n]}$;  \n",
    "+ ${\\displaystyle \\mathrm {LCM} (m,n)}\\, или\\, {\\displaystyle \\mathrm {lcm} (m,n)}$    (от англ. least common multiple)"
   ]
  },
  {
   "cell_type": "markdown",
   "metadata": {},
   "source": [
    "**Наименьшее общее кратное для нескольких чисел** — это наименьшее натуральное число, которое делится на каждое из этих чисел."
   ]
  },
  {
   "cell_type": "markdown",
   "metadata": {},
   "source": [
    "### Нахождение НОК."
   ]
  },
  {
   "cell_type": "markdown",
   "metadata": {},
   "source": [
    "1. Пусть известно каноническое разложение  чисел $a$ и $b$ на простые множители:\n",
    "\n",
    "    ${\\displaystyle a=p_{1}^{d_{1}}\\cdot \\dots \\cdot p_{k}^{d_{k}},}$  \n",
    "    ${\\displaystyle b=p_{1}^{e_{1}}\\cdot \\dots \\cdot p_{k}^{e_{k}},}$"
   ]
  },
  {
   "cell_type": "markdown",
   "metadata": {},
   "source": [
    "Тогда ${\\displaystyle \\mathrm {HOK} (a,b)}$ вычисляется по формуле:  \n",
    "\n",
    "${\\displaystyle \\operatorname {lcm} (a,b)=p_{1}^{\\max(d_{1},e_{1})}\\cdot \\dots \\cdot p_{k}^{\\max(d_{k},e_{k})}.}$"
   ]
  },
  {
   "cell_type": "markdown",
   "metadata": {},
   "source": [
    "**Задание:** найдите lcm(36, 124)"
   ]
  },
  {
   "cell_type": "markdown",
   "metadata": {},
   "source": [
    "2. Связь НОК(a, b) c НОД(a, b).  \n",
    "  \n",
    "  $\\operatorname {lcm}[a,b]={\\frac  {|a\\cdot b|}{\\operatorname {gcd}(a,b)}}$"
   ]
  },
  {
   "cell_type": "markdown",
   "metadata": {},
   "source": [
    "gcd(6,12, 3) = 3\n",
    "gcd(6, 9, 12) = gcd(gcd(6, 9), 12) = gcd(3, 12) = 3"
   ]
  }
 ],
 "metadata": {
  "kernelspec": {
   "display_name": "Python 3",
   "language": "python",
   "name": "python3"
  },
  "language_info": {
   "codemirror_mode": {
    "name": "ipython",
    "version": 3
   },
   "file_extension": ".py",
   "mimetype": "text/x-python",
   "name": "python",
   "nbconvert_exporter": "python",
   "pygments_lexer": "ipython3",
   "version": "3.7.2"
  }
 },
 "nbformat": 4,
 "nbformat_minor": 2
}
