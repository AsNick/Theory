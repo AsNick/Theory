{
 "cells": [
  {
   "cell_type": "markdown",
   "metadata": {},
   "source": [
    "### Определение.  \n",
    "  \n",
    "  **Простое число** (prime number) - это натуральное число, имеющее ровно два натуральных делителя, единицу и самого себя.  \n",
    "  Иными словами:  \n",
    "    \n",
    "    \n",
    "  $n \\in \\mathbb{P}$ если $\\sigma _0(n) = 2$  \n",
    "  и  \n",
    "  ($d_1 = 1$, $d_2 = n$)  \n",
    "    \n",
    "  **Составное число** (composite number) - число, имеющее больше двух делителей ($\\sigma _0(n) >= 2$). \n",
    "    \n",
    "    \n",
    "  Особо нужно сказать про $1$. В нашей математической традиции число $1$ не является простым, а во французской математической школе Бурбаки является."
   ]
  },
  {
   "cell_type": "markdown",
   "metadata": {},
   "source": [
    "### 1. Проверка числа на простоту."
   ]
  },
  {
   "cell_type": "markdown",
   "metadata": {},
   "source": [
    "#### 1.1 Решение за $O(N)$ (наивный алгоритм):"
   ]
  },
  {
   "cell_type": "code",
   "execution_count": 1,
   "metadata": {},
   "outputs": [],
   "source": [
    "def is_prime(x):\n",
    "    for d in range(2, x):\n",
    "        if x % d == 0:\n",
    "            return False\n",
    "    return True"
   ]
  },
  {
   "cell_type": "markdown",
   "metadata": {},
   "source": [
    "Или так:"
   ]
  },
  {
   "cell_type": "code",
   "execution_count": 2,
   "metadata": {},
   "outputs": [],
   "source": [
    "def is_prime(n):\n",
    "    d = 2\n",
    "    while n % d != 0:\n",
    "        d += 1\n",
    "    return d == n"
   ]
  },
  {
   "cell_type": "markdown",
   "metadata": {},
   "source": [
    "В данной записи алгоритма реализована идея линейного поиска с барьерным элементом. Мы хотим найти наименьший делитель числа $n$. Для этого берем число $d$ и пока $n$ не делится на $d$ переходим к следующему возможному делителю. Алгоритм остановится на числе, которое будет делителем числа $n$. Если алгоритм остановился на числе $n$, то число $n$ простое, иначе — составное.\n"
   ]
  },
  {
   "cell_type": "markdown",
   "metadata": {},
   "source": [
    "#### 1.2 Решение за $O(\\sqrt N)$."
   ]
  },
  {
   "cell_type": "markdown",
   "metadata": {},
   "source": [
    "Проверку числа $n$ на простоту можно реализовать исходя из определения, а именно, найти все делители числа $n$ и если $\\sigma _0(n) = 2$, то число $n$ - простое, иначе нет.  "
   ]
  },
  {
   "cell_type": "code",
   "execution_count": 3,
   "metadata": {},
   "outputs": [],
   "source": [
    "def divisor(x):\n",
    "    d = []\n",
    "    for x in range(1, 1 + int(n ** .5)):\n",
    "        if n % x == 0:\n",
    "            if x not in d:\n",
    "                d.append(x)\n",
    "                y = n // x\n",
    "                if y > x:\n",
    "                    d.append(y)\n",
    "            else:\n",
    "                break\n",
    "    return len(d)\n",
    "\n",
    "\n",
    "def is_prime(x):\n",
    "    if divisor(x) == 2:\n",
    "        return True\n",
    "    return False"
   ]
  },
  {
   "cell_type": "markdown",
   "metadata": {},
   "source": [
    "Это решение можно ускорить: если в процессе поиска делителей числа мы найдем его третий делитель, то число является состовным, иначе - простым. "
   ]
  },
  {
   "cell_type": "code",
   "execution_count": 4,
   "metadata": {},
   "outputs": [],
   "source": [
    "def is_prime(n):\n",
    "    d = 2\n",
    "    while d * d <= n and n % d != 0:\n",
    "        d += 1\n",
    "    return d * d > n"
   ]
  },
  {
   "cell_type": "markdown",
   "metadata": {},
   "source": [
    "Или так:"
   ]
  },
  {
   "cell_type": "code",
   "execution_count": 5,
   "metadata": {},
   "outputs": [],
   "source": [
    "def is_prime(n):\n",
    "    if n == 1:\n",
    "        return False\n",
    "    for x in range(2, 1 + int(n ** .5)):\n",
    "        if n % x == 0:\n",
    "            return False\n",
    "    return True\n",
    "  "
   ]
  },
  {
   "cell_type": "code",
   "execution_count": 6,
   "metadata": {},
   "outputs": [],
   "source": [
    "a = [i for i in range(1, 51)]  # создали список натуральных чисел от 1 до 50, найдем среди них простые и составные"
   ]
  },
  {
   "cell_type": "code",
   "execution_count": 7,
   "metadata": {},
   "outputs": [
    {
     "name": "stdout",
     "output_type": "stream",
     "text": [
      "n = 1   False\n",
      "n = 2   True\n",
      "n = 3   True\n",
      "n = 4   False\n",
      "n = 5   True\n",
      "n = 6   False\n",
      "n = 7   True\n",
      "n = 8   False\n",
      "n = 9   False\n",
      "n = 10   False\n",
      "n = 11   True\n",
      "n = 12   False\n",
      "n = 13   True\n",
      "n = 14   False\n",
      "n = 15   False\n",
      "n = 16   False\n",
      "n = 17   True\n",
      "n = 18   False\n",
      "n = 19   True\n",
      "n = 20   False\n",
      "n = 21   False\n",
      "n = 22   False\n",
      "n = 23   True\n",
      "n = 24   False\n",
      "n = 25   False\n",
      "n = 26   False\n",
      "n = 27   False\n",
      "n = 28   False\n",
      "n = 29   True\n",
      "n = 30   False\n",
      "n = 31   True\n",
      "n = 32   False\n",
      "n = 33   False\n",
      "n = 34   False\n",
      "n = 35   False\n",
      "n = 36   False\n",
      "n = 37   True\n",
      "n = 38   False\n",
      "n = 39   False\n",
      "n = 40   False\n",
      "n = 41   True\n",
      "n = 42   False\n",
      "n = 43   True\n",
      "n = 44   False\n",
      "n = 45   False\n",
      "n = 46   False\n",
      "n = 47   True\n",
      "n = 48   False\n",
      "n = 49   False\n",
      "n = 50   False\n"
     ]
    }
   ],
   "source": [
    "for i in a:\n",
    "    print(f'n = {i}  ', is_prime(i))\n"
   ]
  },
  {
   "cell_type": "markdown",
   "metadata": {},
   "source": [
    "Ускорим работу функции **is_prime**, сразу отсекая все четные числа кроме двойки и в цикле **for** организуя проход только по нечетным:"
   ]
  },
  {
   "cell_type": "code",
   "execution_count": 8,
   "metadata": {},
   "outputs": [],
   "source": [
    "def is_prime(n):\n",
    "    if n == 2:\n",
    "        return True\n",
    "    if n < 2 or n % 2 == 0:\n",
    "        return False\n",
    "    for x in range(3, 1 + int(n ** .5), 2):\n",
    "        if n % x == 0:\n",
    "            return False\n",
    "    return True"
   ]
  },
  {
   "cell_type": "markdown",
   "metadata": {},
   "source": [
    "Или так:"
   ]
  },
  {
   "cell_type": "code",
   "execution_count": 1,
   "metadata": {},
   "outputs": [],
   "source": [
    "def is_prime(n):\n",
    "    if n % 2 == 0:\n",
    "        return n == 2\n",
    "    d = 3\n",
    "    while d * d <= n and n % d != 0:\n",
    "        d += 2\n",
    "    return d * d > n"
   ]
  },
  {
   "cell_type": "markdown",
   "metadata": {},
   "source": [
    "Вычислительная сложность приведенной выше реализации остается равной O($\\sqrt N$)."
   ]
  },
  {
   "cell_type": "markdown",
   "metadata": {},
   "source": [
    "### 2. Нахождение всех простых чисел на интервале $[1, n]$."
   ]
  },
  {
   "cell_type": "markdown",
   "metadata": {},
   "source": [
    "#### 2.1 Наивное решение за $O(N \\cdot \\sqrt{N})$."
   ]
  },
  {
   "cell_type": "markdown",
   "metadata": {},
   "source": [
    "С помощью функции **is_prime()** найдем все простые числа, лежащие в интервале от 1 до 100 включительно и посчитаем их количество:"
   ]
  },
  {
   "cell_type": "code",
   "execution_count": 10,
   "metadata": {},
   "outputs": [
    {
     "name": "stdout",
     "output_type": "stream",
     "text": [
      "25\n",
      "[2, 3, 5, 7, 11, 13, 17, 19, 23, 29, 31, 37, 41, 43, 47, 53, 59, 61, 67, 71, 73, 79, 83, 89, 97]\n"
     ]
    }
   ],
   "source": [
    "p = []\n",
    "for n in range(1, 101):\n",
    "    if is_prime(n):\n",
    "        p.append(n)\n",
    "\n",
    "print(len(p))\n",
    "print(p)"
   ]
  },
  {
   "cell_type": "markdown",
   "metadata": {},
   "source": [
    "Мы решили задачу **нахождения всех простых чисел на интервале $\\left [ 1,\\,  n \\right ]$**, решили медленным алгоритмом, вычислительная сложность которого $O(N\\cdot \\sqrt{N})$."
   ]
  },
  {
   "cell_type": "markdown",
   "metadata": {},
   "source": [
    "#### 2.2 Решето Эратосфена.\n",
    "\n",
    "Решето Эратосфена - это быстрый алгоритм нахождения **всех** простых чисел на интервале от $1$ до $n$.  \n",
    "**Описание алгоритма:**  \n",
    "1. Имеем массив чисел от $1$ до $n$.\n",
    "2. Вычеркиваем $1$, число, которое не является простым по определению.  \n",
    "3. Первая итерация: фиксируем число $2$, наименьшее простое число.\n",
    "4. Вычеркиваем число $4 = 2 \\cdot 2$, первое кратное двойке и идем далее с шагом \"два\" до конца массива, вычеркивая все четные числа.Первое после двойки невычеркнутое число, число $3$,будет следующим найденным нами простым числом.  \n",
    "5. Вторая итерация: фиксируем \"тройку\",последнее найденное нами простое число.  \n",
    "6. Вычеркиваем число $9 = 3 \\cdot 3$, и идем далее с шагом \"три\" до конца массива, вычеркивая все числа, кратные трем.Первое после тройки невычеркнутое число, число \"пять\",будет следующим найденным нами простым числом.  \n",
    "7. Третья итерация: фиксируем число пять,последнее найденное нами простое число.  \n",
    "8. Вычеркиваем число $25 = 5 \\cdot 5$, первое невычеркнутое кратное пятерке число и идем далее с шагом \"пять\" до конца массива, вычеркивая все числа, кратные пяти.Первое после пятерки невычеркнутое число, число $7$,будет следующим найденным нами простым числом.  \n",
    "И так далее.  \n",
    "  \n",
    "**Важно!!**  \n",
    "На каждой итерации в процессе вычеркивания мы никогда не выполняем операцию взятия остатка от деления на текущее простое число, мы просто идем по массиву с заданным шагом и вычеркиваем все встретившиеся нам числа."
   ]
  },
  {
   "cell_type": "markdown",
   "metadata": {},
   "source": [
    "### Реализация алгоритма \"Решето Эратосфена\"."
   ]
  },
  {
   "cell_type": "code",
   "execution_count": 11,
   "metadata": {},
   "outputs": [],
   "source": [
    "def eratosthenes(n):\n",
    "    a = [True] * (n + 1)\n",
    "    a[0] = False\n",
    "    a[1] = False\n",
    "    p = []\n",
    "\n",
    "    for i in range(n + 1):\n",
    "        if a[i]:\n",
    "            p.append(i)\n",
    "            for j in range(i * i, n + 1, i):\n",
    "                a[j] = False\n",
    "    return p\n"
   ]
  },
  {
   "cell_type": "code",
   "execution_count": 12,
   "metadata": {},
   "outputs": [
    {
     "name": "stdout",
     "output_type": "stream",
     "text": [
      "25\n",
      "[2, 3, 5, 7, 11, 13, 17, 19, 23, 29, 31, 37, 41, 43, 47, 53, 59, 61, 67, 71, 73, 79, 83, 89, 97]\n"
     ]
    }
   ],
   "source": [
    "n = 10000\n",
    "eratosthenes(n)\n",
    "\n",
    "print(len(p))\n",
    "print(p)"
   ]
  },
  {
   "cell_type": "markdown",
   "metadata": {},
   "source": [
    "Вычислительная сложность алгоритма:  \n",
    "  \n",
    "  $O(N\\cdot \\log (\\log (N)))$"
   ]
  },
  {
   "cell_type": "markdown",
   "metadata": {},
   "source": [
    "#### 2.3 Решето Эратосфена за $O(N)$."
   ]
  },
  {
   "cell_type": "markdown",
   "metadata": {},
   "source": [
    "Мы научимся находить все простые числа на интервале $[1,N]$ и, дополнительно, наименьший простой делитель для каждого числа из этого интервала. И все это за $O(N)$."
   ]
  },
  {
   "cell_type": "code",
   "execution_count": 14,
   "metadata": {},
   "outputs": [
    {
     "name": "stdout",
     "output_type": "stream",
     "text": [
      "100\n",
      "[2, 3, 5, 7, 11, 13, 17, 19, 23, 29, 31, 37, 41, 43, 47, 53, 59, 61, 67, 71, 73, 79, 83, 89, 97]\n",
      "[0, 1, 2, 3, 2, 5, 2, 7, 2, 3, 2, 11, 2, 13, 2, 3, 2, 17, 2, 19, 2, 3, 2, 23, 2, 5, 2, 3, 2, 29, 2, 31, 2, 3, 2, 5, 2, 37, 2, 3, 2, 41, 2, 43, 2, 3, 2, 47, 2, 7, 2, 3, 2, 53, 2, 5, 2, 3, 2, 59, 2, 61, 2, 3, 2, 5, 2, 67, 2, 3, 2, 71, 2, 73, 2, 3, 2, 7, 2, 79, 2, 3, 2, 83, 2, 5, 2, 3, 2, 89, 2, 7, 2, 3, 2, 5, 2, 97, 2, 3, 2]\n"
     ]
    }
   ],
   "source": [
    "n = int(input())\n",
    "mind = [i for i in range(n + 1)]  \n",
    "# изначально мы считаем, что каждое число простое, т.е. минимальный простой делитель совпадает с самим числом\n",
    "primes = []\n",
    "\n",
    "for k in range(2, n + 1):\n",
    "    if mind[k] == k:\n",
    "        primes.append(k)\n",
    "    for p in primes:\n",
    "        if p * k > n or p > mind[k]:\n",
    "            break\n",
    "        else:\n",
    "            mind[p * k ] = p\n",
    "    \n",
    "print(primes)\n",
    "print(mind)"
   ]
  },
  {
   "cell_type": "code",
   "execution_count": null,
   "metadata": {},
   "outputs": [],
   "source": []
  }
 ],
 "metadata": {
  "kernelspec": {
   "display_name": "Python 3",
   "language": "python",
   "name": "python3"
  },
  "language_info": {
   "codemirror_mode": {
    "name": "ipython",
    "version": 3
   },
   "file_extension": ".py",
   "mimetype": "text/x-python",
   "name": "python",
   "nbconvert_exporter": "python",
   "pygments_lexer": "ipython3",
   "version": "3.7.2"
  }
 },
 "nbformat": 4,
 "nbformat_minor": 2
}
