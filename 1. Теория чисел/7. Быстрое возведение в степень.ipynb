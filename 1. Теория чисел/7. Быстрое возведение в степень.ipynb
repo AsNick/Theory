{
 "cells": [
  {
   "cell_type": "markdown",
   "metadata": {},
   "source": [
    "## Быстрое возведение числа $a$ в степень $n$."
   ]
  },
  {
   "cell_type": "markdown",
   "metadata": {},
   "source": [
    "**Задача:** вычислить $37^{128}$"
   ]
  },
  {
   "cell_type": "code",
   "execution_count": 1,
   "metadata": {},
   "outputs": [
    {
     "data": {
      "text/plain": [
       "536810102661516739839426111041375155025593437650403225427955397739166001110717238662755465462225564369020312397152304887052284646275816212233901359708681145534725594320860541859630142810514307193310721"
      ]
     },
     "execution_count": 1,
     "metadata": {},
     "output_type": "execute_result"
    }
   ],
   "source": [
    "37 ** 128"
   ]
  },
  {
   "cell_type": "markdown",
   "metadata": {},
   "source": [
    "Но мы знаем, что за простотой и чудесами python стоит рутина \n",
    "примерно такого вида:"
   ]
  },
  {
   "cell_type": "code",
   "execution_count": 2,
   "metadata": {},
   "outputs": [
    {
     "name": "stdout",
     "output_type": "stream",
     "text": [
      "536810102661516739839426111041375155025593437650403225427955397739166001110717238662755465462225564369020312397152304887052284646275816212233901359708681145534725594320860541859630142810514307193310721\n"
     ]
    }
   ],
   "source": [
    "x = 37\n",
    "n = 128\n",
    "ans = 1\n",
    "\n",
    "for i in range(n):\n",
    "    ans *= 37\n",
    "\n",
    "print(ans)"
   ]
  },
  {
   "cell_type": "markdown",
   "metadata": {},
   "source": [
    "Выполнили $128$ умножений $1$ на $37$ и получили результат."
   ]
  },
  {
   "cell_type": "markdown",
   "metadata": {},
   "source": [
    "Отметим, операция \"умножение\" - дорогая операция. \n",
    "Как ускорить операцию \"возведения в степень\", сократив количество операций \"умножение\"?"
   ]
  },
  {
   "cell_type": "markdown",
   "metadata": {},
   "source": [
    "$37 ^ {128} = 37 ^ {64} \\cdot 37 ^ {64}$  \n",
    "$a = 37 ^{64}$  \n",
    "$37 ^ {128} = a \\cdot a$  \n",
    "\n",
    "Выполнили $63 + 1 = 64$ операции умножения"
   ]
  },
  {
   "cell_type": "markdown",
   "metadata": {},
   "source": [
    "Продолжим оптимизацию:  \n",
    "$37^{128} = 37^{64}\\cdot 37^{64} = 37 ^ {32} \\cdot 37 ^ {32} \\cdot 37 ^ {32} \\cdot 37 ^ {32}$  \n",
    "$a = 37^{32}$     31 операция \"умножения\"  \n",
    "\n",
    "$37^{128} = a\\cdot a\\cdot a \\cdot a$  выполнили $31 + 1 + 1 + 1 = 34$ операции \"умножение\"\n",
    "\n",
    "  \n",
    "  Внимание!! На этом шаге можно сделать еще одну небольшую оптимизацию, которая является важным шагом к итоговому алгоритму.  \n",
    "    \n",
    "  $a = a\\cdot a$  \n",
    "  \n",
    "  $a = a \\cdot a$\n",
    "    \n",
    "  \n",
    "\n"
   ]
  },
  {
   "cell_type": "markdown",
   "metadata": {},
   "source": [
    "Возведем $37$ в степень $128$  \n",
    "0. $a = 37$ одна операция присваивания, ноль операций умножения \n",
    "1. $a = a \\cdot a = 37^2 $ одна операция умножения  \n",
    "2. $a = a \\cdot a = 37^{4}$ две операции умножения  \n",
    "3. $a = a \\cdot a = 37^8$ три операции умножения  \n",
    "4. $a = a \\cdot a = 37^{16}$ четыре операции умножения  \n",
    "5. $a = a \\cdot a = 37^{32}$ пять операций умножения  \n",
    "6. $a = a \\cdot a = 37^{64}$ шесть операций умножения  \n",
    "7. $a = a \\cdot a = 37^{128}$ семь операции умножения \n"
   ]
  },
  {
   "cell_type": "markdown",
   "metadata": {},
   "source": [
    "#### Рекурсивная реализация:"
   ]
  },
  {
   "cell_type": "code",
   "execution_count": 3,
   "metadata": {},
   "outputs": [],
   "source": [
    "def pow_(x, y):\n",
    "    if y == 1:\n",
    "        return x\n",
    "    else:\n",
    "        a = pow_(x, y // 2)\n",
    "        return a * a"
   ]
  },
  {
   "cell_type": "code",
   "execution_count": 4,
   "metadata": {},
   "outputs": [
    {
     "name": "stdout",
     "output_type": "stream",
     "text": [
      "536810102661516739839426111041375155025593437650403225427955397739166001110717238662755465462225564369020312397152304887052284646275816212233901359708681145534725594320860541859630142810514307193310721\n"
     ]
    }
   ],
   "source": [
    "print(pow_(37, 128))"
   ]
  },
  {
   "cell_type": "markdown",
   "metadata": {},
   "source": [
    "В предыдущем примере у нас была очень удобный показатель степени - $128$  \n",
    "Что делать с неудобными степенями?"
   ]
  },
  {
   "cell_type": "code",
   "execution_count": 5,
   "metadata": {},
   "outputs": [
    {
     "name": "stdout",
     "output_type": "stream",
     "text": [
      "536810102661516739839426111041375155025593437650403225427955397739166001110717238662755465462225564369020312397152304887052284646275816212233901359708681145534725594320860541859630142810514307193310721\n"
     ]
    }
   ],
   "source": [
    "print(pow_(37, 129))"
   ]
  },
  {
   "cell_type": "markdown",
   "metadata": {},
   "source": [
    "Сведем задачу к ранее решенной!  \n",
    "  \n",
    "  $a^{129} = a \\cdot a^{128}$"
   ]
  },
  {
   "cell_type": "markdown",
   "metadata": {},
   "source": [
    "Правило понижения степени: на каждой итерации **четный показатель делим на два, от нечетного вычитаем 1**."
   ]
  },
  {
   "cell_type": "code",
   "execution_count": 6,
   "metadata": {},
   "outputs": [],
   "source": [
    "def pow_(x, y):\n",
    "    if y == 0:\n",
    "        return 1\n",
    "    elif y % 2:\n",
    "        return x * pow_(x, y - 1)\n",
    "    else:\n",
    "        a = pow_(x, y // 2)\n",
    "        return a * a"
   ]
  },
  {
   "cell_type": "code",
   "execution_count": 7,
   "metadata": {},
   "outputs": [
    {
     "name": "stdout",
     "output_type": "stream",
     "text": [
      "19861973798476119374058766108530880735946957193064919340834349716349142041096537830521952222102345881653751558694635280820934531912205199852654350309221202384784846989871840048806315283989029366152496677\n"
     ]
    }
   ],
   "source": [
    "print(pow_(37, 129))"
   ]
  },
  {
   "cell_type": "markdown",
   "metadata": {},
   "source": [
    "Очень часто, в задачах просят вывести ответ по модулю $m$. Это значит, нужно получить остаток от деления на $m$, что нам и нужно делать некоторых участках кода."
   ]
  },
  {
   "cell_type": "markdown",
   "metadata": {},
   "source": [
    "Решаем задачи на e-olymp: \"Быстрое возведение в степень\", \"Возведение в степень-2\"  \n",
    "acmp 40, 367"
   ]
  },
  {
   "cell_type": "code",
   "execution_count": 8,
   "metadata": {},
   "outputs": [
    {
     "name": "stdout",
     "output_type": "stream",
     "text": [
      "2 100000000 1000\n",
      "376\n"
     ]
    }
   ],
   "source": [
    "# e-olymp 480 \"Возведение в степень - 2\"\n",
    "def pow_(x, y):\n",
    "    if y == 0:\n",
    "        return 1\n",
    "    if y == 1:\n",
    "        return x\n",
    "    elif y % 2:\n",
    "        return (x * pow_(x, y - 1)) % p\n",
    "    else:\n",
    "        a = pow_(x, y // 2)\n",
    "        return (a * a) % p\n",
    "\n",
    "\n",
    "a, b, p = map(int, input().split())\n",
    "print(pow_(a, b))"
   ]
  },
  {
   "cell_type": "code",
   "execution_count": 9,
   "metadata": {},
   "outputs": [
    {
     "name": "stdout",
     "output_type": "stream",
     "text": [
      "23\n",
      "SSXSXSX\n"
     ]
    }
   ],
   "source": [
    "# e-olymp 2814 \"Быстрое возведение в степень\"\n",
    "n = int(input())\n",
    "a = bin(n)\n",
    "ans = ''\n",
    "for i in a[3:]:\n",
    "    if i == '0':\n",
    "        ans += 'S'\n",
    "    else:\n",
    "        ans += 'SX'\n",
    "print(ans)"
   ]
  },
  {
   "cell_type": "markdown",
   "metadata": {},
   "source": [
    "#### Нерекурсивная реализация быстрого возведения в степень.  \n",
    "  \n",
    "  $res = ans \\cdot a^n$  \n",
    "  $res = ans \\cdot a \\cdot a ^ {(n - 1)}$  \n",
    "  $res = ans \\cdot (a \\cdot a) ^ {n / 2}$"
   ]
  },
  {
   "cell_type": "code",
   "execution_count": 10,
   "metadata": {},
   "outputs": [],
   "source": [
    "def binpow(a, n):\n",
    "    ans = 1\n",
    "    while n:\n",
    "        if n % 2:\n",
    "            ans *= a\n",
    "            n -= 1\n",
    "        else:\n",
    "            a = a * a\n",
    "            n //= 2\n",
    "    return ans"
   ]
  },
  {
   "cell_type": "code",
   "execution_count": 11,
   "metadata": {},
   "outputs": [
    {
     "name": "stdout",
     "output_type": "stream",
     "text": [
      "536810102661516739839426111041375155025593437650403225427955397739166001110717238662755465462225564369020312397152304887052284646275816212233901359708681145534725594320860541859630142810514307193310721\n"
     ]
    }
   ],
   "source": [
    "print(binpow(37, 128))"
   ]
  }
 ],
 "metadata": {
  "kernelspec": {
   "display_name": "Python 3",
   "language": "python",
   "name": "python3"
  },
  "language_info": {
   "codemirror_mode": {
    "name": "ipython",
    "version": 3
   },
   "file_extension": ".py",
   "mimetype": "text/x-python",
   "name": "python",
   "nbconvert_exporter": "python",
   "pygments_lexer": "ipython3",
   "version": "3.7.2"
  }
 },
 "nbformat": 4,
 "nbformat_minor": 2
}
