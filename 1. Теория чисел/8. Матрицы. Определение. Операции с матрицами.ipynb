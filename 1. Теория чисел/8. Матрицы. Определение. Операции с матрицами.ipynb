{
 "cells": [
  {
   "cell_type": "markdown",
   "metadata": {},
   "source": [
    "## Определение матрицы и её элемента. Обозначения.  \n",
    "  \n",
    "$\\,\\,\\,\\,\\,\\,$Матрица – это таблица из $m$ строк и $n$ столбцов. Матрица может состоять из одной строки длины $m$ (**матрица - строка**) или одного столбца длины $n$ (**матрица - столбец**). Элементами матрицы могут быть объекты совершенно разнообразной природы: числа, переменные или, к примеру, иные матрицы.  \n",
    "\n",
    "$\\,\\,\\,\\,\\,\\,$Если у матрицы количество строк $m$ совпадает с количеством столбцов $n$, то такая матрица называется **квадратной**, а число $m = n$ называется **размером** квадратной матрицы или её порядком.  \n",
    "\n",
    "$\\,\\,\\,\\,\\,\\,$В нашем курсе мы будем работать только с **квадратными матрицами размера $n \\times n$**, **матрицами - строками** и **матрицами столбцами**, элементами которых будут **целые** числа. Обозначать матрицы будем заглавными буквами латинского алфавита: $A, B, C$ и так далее. "
   ]
  },
  {
   "cell_type": "markdown",
   "metadata": {},
   "source": [
    "Матрица $A \\,\\,\\, {4x4}$:\n",
    "\n",
    "$A = \\begin{pmatrix}\n",
    "1& -7&  4& 5\\\\ \n",
    "18&  0&  22& 8\\\\ \n",
    " -3&  1&  17& 6\\\\ \n",
    " 9&  55&  11& -71\n",
    "\\end{pmatrix}$\n"
   ]
  },
  {
   "cell_type": "markdown",
   "metadata": {},
   "source": [
    "$a_{ij}$ - элемент матрицы. Двойной индекс ${ij}$ содержит информацию о положении элемента в матрице. Число $i$ – это номер строки, а число $j$ – номер столбца, на пересечении которых находится элемент $a_{ij}$. Нумерация индексов начинается с единицы."
   ]
  },
  {
   "cell_type": "markdown",
   "metadata": {},
   "source": [
    "В нашем примере $a_{23} = 22$."
   ]
  },
  {
   "cell_type": "markdown",
   "metadata": {},
   "source": [
    "В общем виде матрицу $A$ размера $n \\times n$ с элементами $a_{ij}$ можно записать так:"
   ]
  },
  {
   "cell_type": "markdown",
   "metadata": {},
   "source": [
    "$A_{n\\times n} = \\begin{pmatrix}\n",
    "a_{11}& a_{12}&  ...& a_{1n}\\\\\n",
    "a_{21}& a_{22}&  ...& a_{2n}\\\\\n",
    "...& ...& ...& ...\\\\\n",
    " a_{n1}& a_{n2}&  ...& a_{nn}\n",
    "\\end{pmatrix}$"
   ]
  },
  {
   "cell_type": "markdown",
   "metadata": {},
   "source": [
    "$\\,\\,\\,\\,\\,\\,$ Матрица - строка:  \n",
    "  \n",
    "$A = \\begin{pmatrix}\n",
    "2& 7&  -8& 14\n",
    "\\end{pmatrix}$"
   ]
  },
  {
   "cell_type": "markdown",
   "metadata": {},
   "source": [
    "$\\,\\,\\,\\,\\,\\,$Матрица - столбец:  \n",
    "  \n",
    "$A = \\begin{pmatrix}\n",
    "4\\\\ \n",
    "7\\\\ \n",
    "-2\\\\ \n",
    "31\\end{pmatrix}$  "
   ]
  },
  {
   "cell_type": "markdown",
   "metadata": {},
   "source": [
    "Для того, что бы матрицы стали полноценным математическими объектами, нам нужно определить над ними арифметические операции и операции сравнения (те, которые возможно определить)."
   ]
  },
  {
   "cell_type": "markdown",
   "metadata": {},
   "source": [
    "+ **Равные матрицы:**  \n",
    "Две матрицы одинакового размера $A_{n \\times n}$ и $B_{n \\times n}$ называются ***равными***, если равны их соответствующие элементы , т.е. $a_{ij} = b_{ij}$ для всех $i = \\overline{1...n}$ и $j = \\overline{1...n}$."
   ]
  },
  {
   "cell_type": "markdown",
   "metadata": {},
   "source": [
    "+ **Главная диагональ матрицы:**  \n",
    "Элементы матрицы вида $a_{ii}$ образуют ***главную диагональ*** матрицы и называются ***главными диагональными элементами***  \n",
    "  \n",
    "  $A = \\begin{pmatrix}\n",
    "\\textbf{1}& -7&  4& 5\\\\ \n",
    "18&  \\textbf{0}&  22& 8\\\\ \n",
    " -3&  1&  \\textbf{17}& 6\\\\ \n",
    " 9&  55&  11& \\textbf{-71}\n",
    "\\end{pmatrix}$"
   ]
  },
  {
   "cell_type": "markdown",
   "metadata": {},
   "source": [
    "+ **Побочная диагональ матрицы**:  \n",
    "Элементы вида $a_{i(n+1-i)}$, образуют ***побочную диагональ***  матрицы и называются ***побочными диагональными элементами***.  \n",
    "  \n",
    "  $A = \\begin{pmatrix}\n",
    "1& -7&  4& \\textbf{5}\\\\ \n",
    "18&  0&  \\textbf{22}& 8\\\\ \n",
    " -3&  \\textbf{1}&  17& 6\\\\ \n",
    " \\textbf{9}&  55&  11& -71\n",
    "\\end{pmatrix}$"
   ]
  },
  {
   "cell_type": "markdown",
   "metadata": {},
   "source": [
    "+ **Нулевая матрица:**  \n",
    "Если все элементы матрицы $A_{n \\times n}$ равны нулю, то такая матрица называется нулевой и обозначается обычно буквой $𝑂$.  \n",
    "   \n",
    "  $O_{n\\times n} = \\begin{pmatrix}\n",
    "0& 0&  ...& 0\\\\\n",
    "0& 0&  ...& 0\\\\\n",
    "...& ...& ...& ...\\\\\n",
    " 0& 0&  ...& 0\n",
    "\\end{pmatrix}$"
   ]
  },
  {
   "cell_type": "markdown",
   "metadata": {},
   "source": [
    "+ **Диагональная матрица:**  \n",
    "Квадратная матрица называется ***диагональной***, если все элементы этой матрицы, не лежащие на главной диагонали, равны нулю.  \n",
    "  \n",
    "  $D_{4\\times 4} = \\begin{pmatrix}\n",
    "\\textbf{4}& 0&  0& 0\\\\\n",
    "0& \\textbf{7}&  0& 0\\\\\n",
    "0& 0& \\textbf{12}& 0\\\\\n",
    " 0& 0& 0& \\textbf{56}\n",
    "\\end{pmatrix}$"
   ]
  },
  {
   "cell_type": "markdown",
   "metadata": {},
   "source": [
    "+ **Единичная матрица**:  \n",
    "  \n",
    "  Диагональная матрица называется ***единичной***, если все элементы этой матрицы, расположенные на главной диагонали, равны $1$.\n",
    "    \n",
    "  $E_{4\\times 4} = \\begin{pmatrix}\n",
    "\\textbf{1}& 0&  0& 0\\\\\n",
    "0& \\textbf{1}&  0& 0\\\\\n",
    "0& 0& \\textbf{1}& 0\\\\\n",
    " 0& 0& 0& \\textbf{1}\n",
    "\\end{pmatrix}$"
   ]
  },
  {
   "cell_type": "markdown",
   "metadata": {},
   "source": [
    "### Основные операции над матрицами  и их свойства."
   ]
  },
  {
   "cell_type": "markdown",
   "metadata": {},
   "source": [
    "+ **Сложение и вычитание матриц.**  \n",
    "  \n",
    "  Для матриц **одинакового размера** определены операции ***сложения*** и ***вычитания*** матриц."
   ]
  },
  {
   "cell_type": "markdown",
   "metadata": {},
   "source": [
    "  **Суммой** $A + B$ матриц $A_{n\\times n}$ и $B_{n\\times n}$ называется матрица $C_{n\\times n}$, где $c_{ij} = a_{ij} + b_{ij}$ для всех $i = \\overline{1...n}$ и $j = \\overline{1...n}$.  \n",
    "  **Разностью** $A - B$ матриц $A_{n\\times n}$ и $B_{n\\times n}$ называется матрица $C_{n\\times n}$, где $c_{ij} = a_{ij} - b_{ij}$ для всех $i = \\overline{1...n}$ и $j = \\overline{1...n}$."
   ]
  },
  {
   "cell_type": "markdown",
   "metadata": {},
   "source": [
    "Пример:  \n",
    "  \n",
    "  $A = \\begin{pmatrix}\n",
    "4& 2& 3\\\\\n",
    "0& -7& 11\\\\\n",
    "6& 12& -3\n",
    "\\end{pmatrix}\\,\\,B = \\begin{pmatrix}\n",
    "7& 4& 28\\\\\n",
    "-4& -7& 12\\\\\n",
    "3& 32& -3\n",
    "\\end{pmatrix}$\n"
   ]
  },
  {
   "cell_type": "markdown",
   "metadata": {},
   "source": [
    "$C = A + B = \\begin{pmatrix}\n",
    "11& 6& 31\\\\\n",
    "-4& -14& 23\\\\\n",
    "9& 44& -6\n",
    "\\end{pmatrix}\n",
    "\\,\\,\\,C = A - B = \\begin{pmatrix}\n",
    "-3& -2& -25\\\\\n",
    "4& 0& -1\\\\\n",
    "3& -20& 0\n",
    "\\end{pmatrix}$"
   ]
  },
  {
   "cell_type": "markdown",
   "metadata": {},
   "source": [
    "#### Свойства сложения матриц:\n",
    "\n",
    "+ $A + B = B + A$       коммутативность операции сложения;\n",
    "+ $(A + B) + C = A +(B + C)$ ассоциативность операции сложения;\n",
    "+ $A + O = A$ сложение с нулевой матрицей;\n",
    "+ $A + (-A) = O$ существование противоположной матрицы;"
   ]
  },
  {
   "cell_type": "markdown",
   "metadata": {},
   "source": [
    "Решаем задачу e-olymp 9536"
   ]
  },
  {
   "cell_type": "code",
   "execution_count": 8,
   "metadata": {},
   "outputs": [],
   "source": [
    "pass"
   ]
  },
  {
   "cell_type": "markdown",
   "metadata": {},
   "source": [
    "+ **Умножение матрицы на число.**  \n",
    "  \n",
    "  **Произведением** матрицы $A$ на число $𝛼$ называется матрица $B$, для которой $b_{ij} = \\alpha \n",
    " \\cdot a_{ij}$ для всех $i = \\overline{1...n}$ и $j = \\overline{1...n} $.  \n",
    "   \n",
    "   Пример:  \n",
    "      \n",
    "   $\\alpha  = 3, A = \\begin{pmatrix}\n",
    "4& 2& 3\\\\\n",
    "0& -7& 11\\\\\n",
    "6& 12& -3\n",
    "\\end{pmatrix}\\,\\,$ тогда $\\alpha \\cdot A = \\begin{pmatrix}\n",
    "12& 6& 9\\\\\n",
    "0& -21& 33\\\\\n",
    "18& 36& -9\\end{pmatrix}$ "
   ]
  },
  {
   "cell_type": "markdown",
   "metadata": {},
   "source": [
    "+ **Произведение двух матриц.**  \n",
    "  \n",
    "  Определение этой операции громоздко и, на первый взгляд, непонятно. Поэтому сначала дадим общее определение, а потом подробно разберем, что оно означает и как с ним работать.  \n",
    "  \n",
    "  \n",
    "  **Произведением** матрицы $A_{m \\times n}$ на матрицу $B_{n\\times k}$ называется матрица $C_{m \\times k}$, для которой каждый элемент $c_{ij}$ равен сумме произведений соответствующих элементов $i$-й строки матрицы $A$ на элементы $j$-го столбца матрицы $B$:  \n",
    "    \n",
    "   $\\,\\,\\,\\,\\,\\,\\,\\,\\,\\,c_{ij} = \\sum_{p = 1}^{n}a_{ip} \\cdot b_{pj}$ $\\,\\,\\,\\,\\,\\,$ $i = \\overline{1...m}$ $\\,\\,\\,\\,\\,\\,$ $j = \\overline{1...k}$\n",
    "    \n",
    "    \n",
    "    "
   ]
  },
  {
   "cell_type": "markdown",
   "metadata": {},
   "source": [
    "Пример:"
   ]
  },
  {
   "cell_type": "markdown",
   "metadata": {},
   "source": [
    "$A = \\begin{pmatrix}\n",
    "1 &  2& 3\\\\ \n",
    "4&  5& 6\\\\ \n",
    "7&  8& 9\n",
    "\\end{pmatrix}\\,\\,\\,\n",
    "B = \\begin{pmatrix}\n",
    "3& 7& 11\\\\ \n",
    "-2& 1& 0\\\\ \n",
    "4&5& 6\\\\\n",
    "\\end{pmatrix}$"
   ]
  },
  {
   "cell_type": "markdown",
   "metadata": {},
   "source": [
    "$c_{11} = a_{11}\\cdot b_{11} + a_{12}\\cdot b_{21} + a_{13}\\cdot b_{31}$  \n",
    "$c_{11} = 1\\cdot 3 + 2\\cdot -2 + 3\\cdot 4 = 11$  \n",
    "  \n",
    "$c_{12} = a_{11}\\cdot b_{12} + a_{12}\\cdot b_{22} + a_{13}\\cdot b_{32}$  \n",
    "$c_{12} = 1\\cdot 7 + 2\\cdot 1 + 3\\cdot 5 = 24$  "
   ]
  },
  {
   "cell_type": "markdown",
   "metadata": {},
   "source": [
    "$A \\cdot B =  \\begin{pmatrix}\n",
    "1 &  2& 3\\\\ \n",
    "4&  5& 6\\\\ \n",
    "7&  8& 9\n",
    "\\end{pmatrix}\\times \n",
    " \\begin{pmatrix}\n",
    "3& 7& 11\\\\ \n",
    "-2& 1& 0\\\\ \n",
    "4&5& 6\\\\\n",
    "\\end{pmatrix} = \\begin{pmatrix}\n",
    "11& 24& 29\\\\ \n",
    "26& 63& 80\\\\ \n",
    "41& 102& 131\\\\\n",
    "\\end{pmatrix}$"
   ]
  },
  {
   "cell_type": "markdown",
   "metadata": {},
   "source": [
    "Пример с не квадратными матрицами:  \n",
    "\n",
    "\n",
    "$A = \\begin{pmatrix}\n",
    " -1&  2&  -3& 0\\\\ \n",
    " 5&  4&  -2& 1\\\\ \n",
    " -8&  11&  -10& -5 \n",
    "\\end{pmatrix} \\,\\,\\,\\,\\,B = \\begin{pmatrix}\n",
    "-9& 3\\\\ \n",
    " 6& 20\\\\ \n",
    " 7& 0\\\\ \n",
    " 12& -4 \n",
    "\\end{pmatrix}$  "
   ]
  },
  {
   "cell_type": "markdown",
   "metadata": {},
   "source": [
    "Вопросы:  \n",
    "+ какого размера будет матрица $C$?\n",
    "+ вычислим некоторые элементы матрицы $C = A \\cdot B$:  \n",
    "      \n",
    "  $c_{11} = -1 \\cdot -9 + 2 \\cdot 6 + -3 \\cdot 7 + 0 \\cdot 12 = 9 + 12 - 21 + 0 = 0$  \n",
    "  $c_{12} = -1 \\cdot 3 + 2 \\cdot 20 + -3 \\cdot 0 + 0 \\cdot - 4 = -3 + 40 + 0 +0 = 37$  \n",
    "  $c_{21} = 5 \\cdot -9 + 4 \\cdot 6 + -2 \\cdot 7 + 1 \\cdot 12 = -45 + 24 - 14 + 12 = -23$"
   ]
  },
  {
   "cell_type": "markdown",
   "metadata": {},
   "source": [
    "Напишем функцию **mulyiply()**, которая возвращает результат умножения матрицы $A$ на матрицу $B$:"
   ]
  },
  {
   "cell_type": "code",
   "execution_count": null,
   "metadata": {},
   "outputs": [],
   "source": [
    "def multiply(a, b, an, am, bn, bm):\n",
    "    c = [[0] * bm for i in range(an)]\n",
    "    for i in range(an):\n",
    "        for j in range(bm):\n",
    "            for k in range(am):\n",
    "                c[i][j] += a[i][k] * b[k][j]\n"
   ]
  },
  {
   "cell_type": "markdown",
   "metadata": {},
   "source": [
    "Решаем задачу e-olymp 1322 и задачу acmp 1328"
   ]
  },
  {
   "cell_type": "code",
   "execution_count": 9,
   "metadata": {},
   "outputs": [],
   "source": [
    "pass"
   ]
  },
  {
   "cell_type": "code",
   "execution_count": 10,
   "metadata": {},
   "outputs": [],
   "source": [
    "pass"
   ]
  },
  {
   "cell_type": "markdown",
   "metadata": {},
   "source": [
    "Напишем программу, которая возводит квадратную матрицу в степень $n$ за $O(\\log n)$."
   ]
  },
  {
   "cell_type": "code",
   "execution_count": 14,
   "metadata": {},
   "outputs": [
    {
     "name": "stdout",
     "output_type": "stream",
     "text": [
      "[[34, 55], [55, 89]]\n"
     ]
    }
   ],
   "source": [
    "def multiply(a, b):\n",
    "    n = len(a)\n",
    "    c = [[0] * n for i in range(n)]\n",
    "    for i in range(n):\n",
    "        for j in range(n):\n",
    "            for k in range(n):\n",
    "                c[i][j] += a[i][k] * b[k][j]\n",
    "    return c\n",
    "\n",
    "\n",
    "\n",
    "def bin_pow(a, p):\n",
    "    n = len(a)\n",
    "    ans = [[0] * n for i in range(n)]\n",
    "    for i in range(n):\n",
    "        ans[i][i] = 1\n",
    "\n",
    "    while p:\n",
    "        if p % 2:\n",
    "            ans = multiply(ans, a)\n",
    "            p -= 1\n",
    "        else:\n",
    "            a = multiply(a, a)\n",
    "            p //= 2\n",
    "    return ans\n",
    "\n",
    "\n",
    "a = [[0, 1], [1, 1]]\n",
    "print(bin_pow(a, 10))\n"
   ]
  },
  {
   "cell_type": "code",
   "execution_count": null,
   "metadata": {},
   "outputs": [],
   "source": []
  }
 ],
 "metadata": {
  "kernelspec": {
   "display_name": "Python 3",
   "language": "python",
   "name": "python3"
  },
  "language_info": {
   "codemirror_mode": {
    "name": "ipython",
    "version": 3
   },
   "file_extension": ".py",
   "mimetype": "text/x-python",
   "name": "python",
   "nbconvert_exporter": "python",
   "pygments_lexer": "ipython3",
   "version": "3.7.2"
  }
 },
 "nbformat": 4,
 "nbformat_minor": 2
}
