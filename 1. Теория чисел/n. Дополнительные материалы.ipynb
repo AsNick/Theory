{
 "cells": [
  {
   "cell_type": "markdown",
   "metadata": {},
   "source": [
    "### Некоторые конечные числовые ряды."
   ]
  },
  {
   "cell_type": "markdown",
   "metadata": {},
   "source": [
    "Натуральные числа: $n, k$  \n",
    "Число членов ряда: $n$\n"
   ]
  },
  {
   "cell_type": "markdown",
   "metadata": {},
   "source": [
    "$1$. *Сумма $n$ первых натуральных чисел:*  \n",
    "\n",
    "\n",
    "$1 + 2 + 3 + … + n = \\frac {n \\cdot (n+1)}{2}$\n"
   ]
  },
  {
   "cell_type": "markdown",
   "metadata": {},
   "source": [
    "$2$. *Сумма $n$ первых четных натуральных чисел:*   \n",
    "  \n",
    "  \n",
    "$2 + 4 + 6 + … + n = n \\cdot (n + 1)$\n"
   ]
  },
  {
   "cell_type": "markdown",
   "metadata": {},
   "source": [
    "$3$. *Сумма $n$ первых нечетных натуральных чисел:*  \n",
    "\n",
    "$1 +3 + 5 + … + (2n - 1) = n^2$\n"
   ]
  },
  {
   "cell_type": "markdown",
   "metadata": {},
   "source": [
    "$4$. *Сумма $n$ натуральных чисел, начиная с $k$:*  \n",
    "  \n",
    "$k + (k + 1) + (k + 2) + ... + (k + n - 1) = n \\cdot (2k + n − 1)$\n",
    "  "
   ]
  },
  {
   "cell_type": "markdown",
   "metadata": {},
   "source": [
    "$5$. *Сумма квадратов $n$ первых натуральных чисел:*  \n",
    "  \n",
    "$1^2 + 2^2 + 3^2 + 4^2 + ... + n^2 = \\frac {n \\cdot (n+1) \\cdot (2n+1)}{6}$  "
   ]
  },
  {
   "cell_type": "markdown",
   "metadata": {},
   "source": [
    "$6$. *Сумма кубов n первых натуральных чисел:*  \n",
    "  \n",
    "  "
   ]
  },
  {
   "cell_type": "markdown",
   "metadata": {},
   "source": [
    "$1^3 + 2^3 + 3^3 + 4^3 + ... n^3 = \\left [ \\frac{n \\cdot (n+1)}{2} \\right ]^2$"
   ]
  },
  {
   "cell_type": "markdown",
   "metadata": {},
   "source": [
    "$7$. *Сумма квадратов $n$ первых нечетных натуральных чисел:* \n",
    "\n",
    "  \n",
    "  $1^2 + 3^2 + 5^2 + ... + (2n - 1)^2 = \\frac{n \\cdot (4 \\cdot n^2 - 1)}{3}$\n",
    "  \n",
    "  "
   ]
  },
  {
   "cell_type": "markdown",
   "metadata": {},
   "source": [
    "$8$. *Сумма кубов $n$ первых нечетных натуральных чисел:*  \n",
    "  \n",
    "  $1^3 + 3^3 + 5^3 + ... + (2n - 1)^3 = n^2(2n^2 - 1)$"
   ]
  },
  {
   "cell_type": "markdown",
   "metadata": {},
   "source": [
    "http://www.math24.ru/"
   ]
  },
  {
   "cell_type": "code",
   "execution_count": null,
   "metadata": {},
   "outputs": [],
   "source": []
  }
 ],
 "metadata": {
  "kernelspec": {
   "display_name": "Python 3",
   "language": "python",
   "name": "python3"
  },
  "language_info": {
   "codemirror_mode": {
    "name": "ipython",
    "version": 3
   },
   "file_extension": ".py",
   "mimetype": "text/x-python",
   "name": "python",
   "nbconvert_exporter": "python",
   "pygments_lexer": "ipython3",
   "version": "3.7.2"
  }
 },
 "nbformat": 4,
 "nbformat_minor": 2
}
