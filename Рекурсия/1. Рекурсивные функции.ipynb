{
 "cells": [
  {
   "cell_type": "markdown",
   "metadata": {},
   "source": [
    "### Рекурсивные функции"
   ]
  },
  {
   "cell_type": "markdown",
   "metadata": {},
   "source": [
    "**Рекурси́вная фу́нкция** (от лат. recursio — возвращение) — это числовая функция $f(n)$ числового аргумента, которая в своей записи содержит себя же. Такая запись позволяет вычислять значения $f(n)$ на основе значений $f(n-1),f(n-2),\\ldots$ , подобно рассуждению по индукции. Чтобы вычисление завершалось для любого $n$, необходимо, чтобы для некоторых $n$ функция была определена нерекурсивно (например, для $n=0,1$)."
   ]
  },
  {
   "cell_type": "markdown",
   "metadata": {},
   "source": [
    "#### 1. Вычисление факториала."
   ]
  },
  {
   "cell_type": "code",
   "execution_count": 1,
   "metadata": {},
   "outputs": [],
   "source": [
    "def f(n):\n",
    "    if n  == 0:\n",
    "        return 1\n",
    "    return n * f(n - 1)"
   ]
  },
  {
   "cell_type": "code",
   "execution_count": 2,
   "metadata": {},
   "outputs": [
    {
     "name": "stdout",
     "output_type": "stream",
     "text": [
      "120\n"
     ]
    }
   ],
   "source": [
    "print(f(5))"
   ]
  },
  {
   "cell_type": "markdown",
   "metadata": {},
   "source": [
    "#### 2. Нахождение числа Фибоначчи с  номером n."
   ]
  },
  {
   "cell_type": "code",
   "execution_count": 3,
   "metadata": {},
   "outputs": [],
   "source": [
    "def fib(n):\n",
    "    if n < 2:\n",
    "        return n\n",
    "    return fib(n - 1) + fib(n - 2)"
   ]
  },
  {
   "cell_type": "code",
   "execution_count": 4,
   "metadata": {},
   "outputs": [
    {
     "name": "stdout",
     "output_type": "stream",
     "text": [
      "55\n"
     ]
    }
   ],
   "source": [
    "print(fib(10))"
   ]
  },
  {
   "cell_type": "markdown",
   "metadata": {},
   "source": [
    "#### 3. Возведение в степень."
   ]
  },
  {
   "cell_type": "code",
   "execution_count": 5,
   "metadata": {},
   "outputs": [],
   "source": [
    "def pow(a, n):\n",
    "    if n == 0:\n",
    "        return 1\n",
    "    return a * pow(a, n - 1)"
   ]
  },
  {
   "cell_type": "code",
   "execution_count": 6,
   "metadata": {},
   "outputs": [
    {
     "name": "stdout",
     "output_type": "stream",
     "text": [
      "256\n"
     ]
    }
   ],
   "source": [
    "print(pow(2, 8))"
   ]
  },
  {
   "cell_type": "markdown",
   "metadata": {},
   "source": [
    "#### 4. Быстрое возведение в степень."
   ]
  },
  {
   "cell_type": "code",
   "execution_count": 7,
   "metadata": {},
   "outputs": [],
   "source": [
    "def bin_pow(x, n):\n",
    "    if n == 0:\n",
    "        return 1\n",
    "    elif n % 2 == 1:\n",
    "        return x * bin_pow(x, n - 1)\n",
    "    else:\n",
    "        b = bin_pow(x, n // 2)\n",
    "        return b * b"
   ]
  },
  {
   "cell_type": "code",
   "execution_count": 8,
   "metadata": {},
   "outputs": [
    {
     "name": "stdout",
     "output_type": "stream",
     "text": [
      "1024\n"
     ]
    }
   ],
   "source": [
    "print(bin_pow(2, 10))"
   ]
  },
  {
   "cell_type": "markdown",
   "metadata": {},
   "source": [
    "#### 5. Рекурсивная реализация алгоритма Евклида нахождения НОД."
   ]
  },
  {
   "cell_type": "code",
   "execution_count": 9,
   "metadata": {},
   "outputs": [],
   "source": [
    "def gcd(a, b):\n",
    "    if a % b == 0:\n",
    "        return b\n",
    "    if b % a == 0:\n",
    "        return a\n",
    "    if a <= b:\n",
    "        return gcd(a, b % a)\n",
    "    if b <= a:\n",
    "        return gcd(b, a % b)"
   ]
  },
  {
   "cell_type": "code",
   "execution_count": 10,
   "metadata": {},
   "outputs": [
    {
     "name": "stdout",
     "output_type": "stream",
     "text": [
      "12\n"
     ]
    }
   ],
   "source": [
    "print(gcd(24, 36))"
   ]
  },
  {
   "cell_type": "markdown",
   "metadata": {},
   "source": [
    "#### 6. Сортировка слиянием MergeSort."
   ]
  },
  {
   "cell_type": "code",
   "execution_count": 11,
   "metadata": {},
   "outputs": [],
   "source": [
    "def merge(a, b):\n",
    "    i, j = 0, 0\n",
    "    merged = [0] * (len(a) + len(b))\n",
    "    for k in range(len(a) + len(b)):\n",
    "        if i < len(a) and j < len(b):\n",
    "            if a[i] < b[j]:\n",
    "                merged[k] = a[i]\n",
    "                i += 1\n",
    "            else:\n",
    "                merged[k] = b[j]\n",
    "                j += 1\n",
    "        else:\n",
    "            if i < len(a):\n",
    "                merged[k] = a[i]\n",
    "                i += 1\n",
    "            else:\n",
    "                merged[k] = b[j]\n",
    "                j += 1\n",
    "    return merged"
   ]
  },
  {
   "cell_type": "code",
   "execution_count": 12,
   "metadata": {},
   "outputs": [
    {
     "name": "stdout",
     "output_type": "stream",
     "text": [
      "[0, 1, 2, 3, 4, 5, 6, 7, 8, 9]\n"
     ]
    }
   ],
   "source": [
    "x = [1, 3, 5, 7, 9]\n",
    "y = [0, 2, 4, 6, 8]\n",
    "\n",
    "z = merge(x, y)\n",
    "print(z)"
   ]
  },
  {
   "cell_type": "code",
   "execution_count": 13,
   "metadata": {},
   "outputs": [],
   "source": [
    "def mergesort(seq):\n",
    "    if len(seq) == 1:\n",
    "        return seq\n",
    "    midpoint = len(seq) // 2\n",
    "    return merge(mergesort(seq[:midpoint]), mergesort(seq[midpoint:]))"
   ]
  },
  {
   "cell_type": "code",
   "execution_count": 14,
   "metadata": {},
   "outputs": [
    {
     "name": "stdout",
     "output_type": "stream",
     "text": [
      "[0, 2, 2, 4, 5, 6, 7, 8, 9, 11, 14, 32]\n"
     ]
    }
   ],
   "source": [
    "v = [5, 7, 6, 2, 8, 4, 9, 11, 2, 0, 32, 14]\n",
    "print(mergesort(v))"
   ]
  },
  {
   "cell_type": "markdown",
   "metadata": {},
   "source": [
    "#### 7. Быстрая сортировка QuickSort."
   ]
  },
  {
   "cell_type": "markdown",
   "metadata": {},
   "source": [
    "**Общий механизм сортировки**  \n",
    "\n",
    "Быстрая сортировка относится к алгоритмам «разделяй и властвуй».\n",
    "\n",
    "Алгоритм состоит из трёх шагов:\n",
    "\n",
    "+ Выбрать элемент из массива. Назовём его опорным.\n",
    "+ Разбиение: перераспределение элементов в массиве таким образом, что элементы меньше опорного помещаются перед ним, а больше или равные после.\n",
    "+ Рекурсивно применить первые два шага к двум подмассивам слева и справа от опорного элемента. Рекурсия не применяется к массиву, в котором только один элемент или отсутствуют элементы.  \n",
    "\n",
    "В наиболее общем виде алгоритм на языке программирования Python выглядит следующим образом (A — сортируемый массив, а low и high — соответственно, нижняя и верхняя границы сортируемого участка этого массива):"
   ]
  },
  {
   "cell_type": "code",
   "execution_count": 3,
   "metadata": {},
   "outputs": [],
   "source": [
    "import random\n",
    "\n",
    "\n",
    "def quick_sort(L, R):\n",
    "    i, j = L, R\n",
    "    x = a[random.randint(i + 1, j)]\n",
    "\n",
    "    while i <= j:\n",
    "        while a[i] < x:\n",
    "            i += 1\n",
    "        while a[j] > x:\n",
    "            j -= 1\n",
    "        if i <= j:\n",
    "            a[i], a[j] = a[j], a[i]\n",
    "            i += 1\n",
    "            j -= 1\n",
    "    if i < R:\n",
    "        quick_sort(i, R)\n",
    "    if j > L:\n",
    "        quick_sort(L, j)"
   ]
  },
  {
   "cell_type": "code",
   "execution_count": 5,
   "metadata": {},
   "outputs": [
    {
     "name": "stdout",
     "output_type": "stream",
     "text": [
      "[1, 2, 2, 3, 3, 4, 4, 4, 6, 6, 7, 8, 9]\n"
     ]
    }
   ],
   "source": [
    "a = [4, 2, 6, 4, 7, 8, 9, 3, 1, 4, 2, 6, 3]\n",
    "quick_sort(0, len(a) - 1)\n",
    "print(a)"
   ]
  },
  {
   "cell_type": "code",
   "execution_count": 1,
   "metadata": {},
   "outputs": [
    {
     "name": "stdout",
     "output_type": "stream",
     "text": [
      "5\n",
      "120\n"
     ]
    }
   ],
   "source": [
    "n = int(input())\n",
    "f = 1\n",
    "for i in range(1, n + 1):\n",
    "    f *= i\n",
    "    \n",
    "print(f)"
   ]
  },
  {
   "cell_type": "code",
   "execution_count": 2,
   "metadata": {},
   "outputs": [
    {
     "name": "stdout",
     "output_type": "stream",
     "text": [
      "120\n"
     ]
    }
   ],
   "source": [
    "def f(n):\n",
    "    if n == 0:\n",
    "        return 1\n",
    "    else:\n",
    "        return n * f(n - 1)\n",
    "    \n",
    "\n",
    "print(f(5))"
   ]
  },
  {
   "cell_type": "markdown",
   "metadata": {},
   "source": [
    "5 * f(4)\n",
    "4 * f(3)\n",
    "3 * f(2)\n",
    "2 * f(1)\n",
    "1 * f(0)"
   ]
  },
  {
   "cell_type": "code",
   "execution_count": 6,
   "metadata": {},
   "outputs": [
    {
     "name": "stdout",
     "output_type": "stream",
     "text": [
      "10\n",
      "[0, 1, 1, 2, 3, 5, 8, 13, 21, 34, 55]\n"
     ]
    }
   ],
   "source": [
    "n = int(input())\n",
    "fib = [0] * (n + 1)\n",
    "fib[1] = 1\n",
    "for i in range(2, n + 1):\n",
    "    fib[i] = fib[i - 1] + fib[i - 2] \n",
    "    \n",
    "print(fib)"
   ]
  },
  {
   "cell_type": "code",
   "execution_count": 7,
   "metadata": {},
   "outputs": [
    {
     "name": "stdout",
     "output_type": "stream",
     "text": [
      "21\n"
     ]
    }
   ],
   "source": [
    "def fib(n):\n",
    "    if n < 2:\n",
    "        return n\n",
    "    else:\n",
    "        return fib(n - 1) + fib(n - 2)\n",
    "    \n",
    "print(fib(8))"
   ]
  },
  {
   "cell_type": "code",
   "execution_count": null,
   "metadata": {},
   "outputs": [],
   "source": []
  }
 ],
 "metadata": {
  "kernelspec": {
   "display_name": "Python 3",
   "language": "python",
   "name": "python3"
  },
  "language_info": {
   "codemirror_mode": {
    "name": "ipython",
    "version": 3
   },
   "file_extension": ".py",
   "mimetype": "text/x-python",
   "name": "python",
   "nbconvert_exporter": "python",
   "pygments_lexer": "ipython3",
   "version": "3.7.2"
  }
 },
 "nbformat": 4,
 "nbformat_minor": 2
}
