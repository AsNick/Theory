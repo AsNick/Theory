{
 "cells": [
  {
   "cell_type": "markdown",
   "metadata": {},
   "source": [
    "## 6.1.1. Перебор всех  двоичных чисел длины $n$."
   ]
  },
  {
   "cell_type": "code",
   "execution_count": 3,
   "metadata": {},
   "outputs": [],
   "source": [
    "def check():\n",
    "    print(*a, sep='')"
   ]
  },
  {
   "cell_type": "code",
   "execution_count": 4,
   "metadata": {},
   "outputs": [],
   "source": [
    "def find(i):\n",
    "    if i >= k:\n",
    "        return check()\n",
    "\n",
    "    a[i] = 0\n",
    "    find(i + 1)\n",
    "    a[i] = 1\n",
    "    find(i + 1)"
   ]
  },
  {
   "cell_type": "code",
   "execution_count": 5,
   "metadata": {},
   "outputs": [
    {
     "name": "stdout",
     "output_type": "stream",
     "text": [
      "4\n",
      "0000\n",
      "0001\n",
      "0010\n",
      "0011\n",
      "0100\n",
      "0101\n",
      "0110\n",
      "0111\n",
      "1000\n",
      "1001\n",
      "1010\n",
      "1011\n",
      "1100\n",
      "1101\n",
      "1110\n",
      "1111\n"
     ]
    }
   ],
   "source": [
    "k = int(input())\n",
    "a = [0] * k\n",
    "find(0)"
   ]
  },
  {
   "cell_type": "markdown",
   "metadata": {},
   "source": [
    "Или так:"
   ]
  },
  {
   "cell_type": "code",
   "execution_count": 9,
   "metadata": {},
   "outputs": [
    {
     "name": "stdout",
     "output_type": "stream",
     "text": [
      "1111\n",
      "1110\n",
      "1101\n",
      "1100\n",
      "1011\n",
      "1010\n",
      "1001\n",
      "1000\n",
      "0111\n",
      "0110\n",
      "0101\n",
      "0100\n",
      "0011\n",
      "0010\n",
      "0001\n",
      "0000\n"
     ]
    }
   ],
   "source": [
    "def generate(n, prefix):\n",
    "    if not n:\n",
    "        print(prefix)\n",
    "    else:\n",
    "        generate(n - 1, prefix +'1')\n",
    "        generate(n - 1, prefix +'0')\n",
    "        \n",
    "generate(4, '')"
   ]
  },
  {
   "cell_type": "markdown",
   "metadata": {},
   "source": [
    "Пусть у нас есть набор золотых слитков $M$ и рюкзак вместимости $K$."
   ]
  },
  {
   "cell_type": "code",
   "execution_count": 44,
   "metadata": {},
   "outputs": [],
   "source": [
    "M = [49, 90, 34, 96, 12, 65, 34]\n",
    "K = 310\n",
    "best = 0"
   ]
  },
  {
   "cell_type": "code",
   "execution_count": 45,
   "metadata": {},
   "outputs": [],
   "source": [
    "def generate(n, prefix):\n",
    "    if n == 0:\n",
    "        #print(prefix)\n",
    "        process(prefix)\n",
    "    else:\n",
    "        generate(n - 1, prefix + '0')\n",
    "        generate(n - 1, prefix + '1')\n",
    "        "
   ]
  },
  {
   "cell_type": "code",
   "execution_count": 46,
   "metadata": {},
   "outputs": [],
   "source": [
    "def process(prefix):\n",
    "    global best\n",
    "    mass = 0\n",
    "    for i in range(len(prefix)):\n",
    "        if prefix[i] == '1':\n",
    "            mass += M[i]\n",
    "    \n",
    "    if mass > best and mass <= K:\n",
    "        best = mass\n",
    "    "
   ]
  },
  {
   "cell_type": "code",
   "execution_count": 47,
   "metadata": {},
   "outputs": [
    {
     "name": "stdout",
     "output_type": "stream",
     "text": [
      "303\n"
     ]
    }
   ],
   "source": [
    "generate(len(M), '')\n",
    "print(best)"
   ]
  },
  {
   "cell_type": "markdown",
   "metadata": {},
   "source": [
    "### Генерация всех бинарных последовательностей длины $n$, содержащих ровно $k$ единиц"
   ]
  },
  {
   "cell_type": "markdown",
   "metadata": {},
   "source": [
    "#### Наивное решение."
   ]
  },
  {
   "cell_type": "code",
   "execution_count": 80,
   "metadata": {},
   "outputs": [],
   "source": [
    "k = 20"
   ]
  },
  {
   "cell_type": "code",
   "execution_count": 81,
   "metadata": {},
   "outputs": [],
   "source": [
    "def generate(n, k, prefix):\n",
    "    if n == 0:\n",
    "        if prefix.count('1') == k:\n",
    "            print(prefix)\n",
    "    else:\n",
    "        generate(n - 1, k, prefix + '0')\n",
    "        generate(n - 1, k, prefix + '1')\n",
    "        "
   ]
  },
  {
   "cell_type": "code",
   "execution_count": 82,
   "metadata": {},
   "outputs": [
    {
     "name": "stdout",
     "output_type": "stream",
     "text": [
      "011111111111111111111\n",
      "101111111111111111111\n",
      "110111111111111111111\n",
      "111011111111111111111\n",
      "111101111111111111111\n",
      "111110111111111111111\n",
      "111111011111111111111\n",
      "111111101111111111111\n",
      "111111110111111111111\n",
      "111111111011111111111\n",
      "111111111101111111111\n",
      "111111111110111111111\n",
      "111111111111011111111\n",
      "111111111111101111111\n",
      "111111111111110111111\n",
      "111111111111111011111\n",
      "111111111111111101111\n",
      "111111111111111110111\n",
      "111111111111111111011\n",
      "111111111111111111101\n",
      "111111111111111111110\n"
     ]
    }
   ],
   "source": [
    "\n",
    "generate(21, k, '')"
   ]
  },
  {
   "cell_type": "markdown",
   "metadata": {},
   "source": [
    "Программа работает, но с увеличением $n, n > 25$ время работы программы недопустимо растет.\n",
    "Оптимизируем программу."
   ]
  },
  {
   "cell_type": "code",
   "execution_count": 88,
   "metadata": {},
   "outputs": [],
   "source": [
    "def generate(n, k, prefix):\n",
    "    if n == 0:\n",
    "        if k == 0:\n",
    "            print(prefix)\n",
    "    else:\n",
    "        generate(n - 1, k, prefix + '0')\n",
    "        if k > 0:\n",
    "            generate(n - 1, k - 1, prefix + '1')\n",
    "        "
   ]
  },
  {
   "cell_type": "code",
   "execution_count": 98,
   "metadata": {},
   "outputs": [
    {
     "name": "stdout",
     "output_type": "stream",
     "text": [
      "1111111111111111111111111\n"
     ]
    }
   ],
   "source": [
    "generate(25, 25, '')"
   ]
  },
  {
   "cell_type": "code",
   "execution_count": 108,
   "metadata": {},
   "outputs": [],
   "source": [
    "def generate(n, k, prefix):\n",
    "    if n == 0:\n",
    "        #if k == 0:\n",
    "        print(prefix)\n",
    "    else:\n",
    "        if n > k:\n",
    "            generate(n - 1, k, prefix + '0')\n",
    "        if k > 0:\n",
    "            generate(n - 1, k - 1, prefix + '1')\n",
    "        "
   ]
  },
  {
   "cell_type": "code",
   "execution_count": 109,
   "metadata": {},
   "outputs": [
    {
     "name": "stdout",
     "output_type": "stream",
     "text": [
      "11111111111111111111111111111111111111111111111111\n"
     ]
    }
   ],
   "source": [
    "generate(50, 50, '')"
   ]
  },
  {
   "cell_type": "markdown",
   "metadata": {},
   "source": [
    "Подойдем к решению этой задачи с другой стороны. Пусть у нас есть перестановка $p = [1, 2, 3, 4, 5]$ и нам нужно выбрать все подстановки длины $k = 3$.\n",
    "Выпишем эти подстановки как возрастающие подпоследовательности длины $k$:  \n",
    "1 2 3  \n",
    "1 2 4  \n",
    "1 2 5  \n",
    "1 3 4  \n",
    "1 3 5  \n",
    "1 4 5  \n",
    "  \n",
    "2 3 4  \n",
    "2 3 5  \n",
    "2 4 5  \n",
    "\n",
    "3 4 5  \n",
    "\n",
    "Как сгенерировать все такие подстановки?  \n",
    "Адаптируем под это нашу функцию **generate()**.\n",
    "\n"
   ]
  },
  {
   "cell_type": "code",
   "execution_count": 122,
   "metadata": {},
   "outputs": [],
   "source": [
    "def generate(n, k, prefix):\n",
    "    if k == 0:\n",
    "        print(prefix)\n",
    "    else:\n",
    "        if len(prefix) == 0:\n",
    "            next = 1\n",
    "        else:\n",
    "            next = prefix[-1] + 1\n",
    "        while next <= n - k + 1:\n",
    "            generate(n, k - 1, prefix + [next])\n",
    "            next += 1\n",
    "        "
   ]
  },
  {
   "cell_type": "code",
   "execution_count": 126,
   "metadata": {},
   "outputs": [
    {
     "name": "stdout",
     "output_type": "stream",
     "text": [
      "[1, 2, 3, 4, 5, 6, 7, 8, 9, 10, 11, 12, 13, 14, 15, 16, 17, 18, 19, 20, 21, 22, 23, 24, 25, 26, 27, 28, 29, 30, 31, 32, 33, 34, 35, 36, 37, 38, 39, 40, 41, 42, 43, 44, 45, 46, 47, 48, 49, 50, 51, 52, 53, 54, 55, 56, 57, 58, 59, 60, 61, 62, 63, 64, 65, 66, 67, 68, 69, 70, 71, 72, 73, 74, 75, 76, 77, 78, 79, 80, 81, 82, 83, 84, 85, 86, 87, 88, 89, 90, 91, 92, 93, 94, 95, 96, 97, 98, 99, 100, 101, 102, 103, 104, 105, 106, 107, 108, 109, 110, 111, 112, 113, 114, 115, 116, 117, 118, 119, 120, 121, 122, 123, 124, 125, 126, 127, 128, 129, 130, 131, 132, 133, 134, 135, 136, 137, 138, 139, 140, 141, 142, 143, 144, 145, 146, 147, 148, 149, 150]\n"
     ]
    }
   ],
   "source": [
    "generate(150, 150, [])"
   ]
  },
  {
   "cell_type": "markdown",
   "metadata": {},
   "source": [
    "### Генерация всех перестановок длины $n$."
   ]
  },
  {
   "cell_type": "code",
   "execution_count": 132,
   "metadata": {},
   "outputs": [],
   "source": [
    "from time import *"
   ]
  },
  {
   "cell_type": "code",
   "execution_count": 133,
   "metadata": {},
   "outputs": [],
   "source": [
    "def generate(n, prefix):\n",
    "    if len(prefix) == n:\n",
    "        #print(prefix)\n",
    "        return\n",
    "    else:\n",
    "        for next in range(1, n + 1):\n",
    "            if next not in prefix:\n",
    "                generate(n, prefix + [next])\n",
    "                "
   ]
  },
  {
   "cell_type": "code",
   "execution_count": 134,
   "metadata": {},
   "outputs": [
    {
     "name": "stdout",
     "output_type": "stream",
     "text": [
      "10.849276781082153\n"
     ]
    }
   ],
   "source": [
    "n = 50\n",
    "start = time()\n",
    "used = [False] * (n + 1)\n",
    "generate(n, [])\n",
    "print(time() - start)"
   ]
  },
  {
   "cell_type": "markdown",
   "metadata": {},
   "source": [
    "Оптимизируем наш код. Медленное место - проверка if next not in prefix:"
   ]
  },
  {
   "cell_type": "code",
   "execution_count": 141,
   "metadata": {},
   "outputs": [],
   "source": [
    "n = 10\n",
    "start = time()\n",
    "used = [False] * (n + 1)"
   ]
  },
  {
   "cell_type": "code",
   "execution_count": 142,
   "metadata": {},
   "outputs": [],
   "source": [
    "def generate(n, used, prefix):\n",
    "    if len(prefix) == n:\n",
    "        #print(prefix)\n",
    "        return\n",
    "    else:\n",
    "        for next in range(1, n + 1):\n",
    "            if not used[next]:\n",
    "                used[next] = True\n",
    "                generate(n, used, prefix + [next])\n",
    "                used[next] = False\n",
    "                "
   ]
  },
  {
   "cell_type": "code",
   "execution_count": 143,
   "metadata": {},
   "outputs": [
    {
     "name": "stdout",
     "output_type": "stream",
     "text": [
      "10.057830810546875\n"
     ]
    }
   ],
   "source": [
    "generate(n, used, [])\n",
    "print(time() - start)"
   ]
  },
  {
   "cell_type": "code",
   "execution_count": null,
   "metadata": {},
   "outputs": [],
   "source": []
  }
 ],
 "metadata": {
  "kernelspec": {
   "display_name": "Python 3",
   "language": "python",
   "name": "python3"
  },
  "language_info": {
   "codemirror_mode": {
    "name": "ipython",
    "version": 3
   },
   "file_extension": ".py",
   "mimetype": "text/x-python",
   "name": "python",
   "nbconvert_exporter": "python",
   "pygments_lexer": "ipython3",
   "version": "3.7.2"
  }
 },
 "nbformat": 4,
 "nbformat_minor": 2
}
