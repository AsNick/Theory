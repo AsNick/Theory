{
 "cells": [
  {
   "cell_type": "markdown",
   "metadata": {},
   "source": [
    "## Теория графов. Деревья."
   ]
  },
  {
   "cell_type": "markdown",
   "metadata": {},
   "source": [
    "### Дерево.\n",
    "\n",
    "Дерево - это ***связный ациклический*** граф.  \n",
    "Дерево - это ***связный*** граф, состоящий из **$n$** вершин и $n - 1$ ребра.  \n",
    "  \n",
    "  Нетрудно доказать, что \n",
    "  эти два определения являются эквивалентными. Действительно, в любом связном графе обязательно будет хотя бы $n - 1$ ребро, поскольку в пустом графе есть ровно n компонент связности, а добавления одного нового ребра уменьшает кол-во компонент связности максимум на $1$. Если же к связному ациклическому графу добавить произвольное новое ребро $u \\rightarrow v$, то в графе появится цикл от $u$ до $v$. Из этого следует, что в любом дереве кол-во ребер ровно $n - 1$."
   ]
  },
  {
   "cell_type": "markdown",
   "metadata": {},
   "source": [
    "#### Корневое или подвешенное дерево."
   ]
  },
  {
   "cell_type": "markdown",
   "metadata": {},
   "source": [
    "При решении задач практически всегда возникает необходимость работать с ***корневыми*** деревьями.  \n",
    "\n",
    "***Корневым*** или ***подвешенным*** деревом называется дерево с одной выделенной вершиной 𝑟𝑜𝑜𝑡  - корнем дерева  (практически всегда  𝑟𝑜𝑜𝑡=1 ). Для корневого дерева можно ввести следующие понятия:"
   ]
  },
  {
   "cell_type": "markdown",
   "metadata": {},
   "source": [
    "* $h[v]$ - ***высота*** вершины $v$ ($height[v]$), равняется расстоянию от вершины $root$ до вершины $v$. Например, $h[root]$ всегда равно $0$, а в дереве на рисунке выше при $root = 1$, $h[8] = 3$, $h[5] = 2$;\n"
   ]
  },
  {
   "cell_type": "markdown",
   "metadata": {},
   "source": [
    "* $p[v]$ - ***предок*** вершины $v$ ($parent[v]$), а именно единственная вершина на высоте $h[v] - 1$, соединенная ребром с вершиной $v$. Для удобства считается, что $p[root] = root$. Например, в дереве на рисунке выше $p[1] = 1$, $p[8] = 6$, $p[5] = 3$;\n"
   ]
  },
  {
   "cell_type": "markdown",
   "metadata": {},
   "source": [
    "* $subtree$ of $v$ - ***поддерево*** вершины $v$, а именно множество всех вершин, в которые можно добраться из $v$, не проходя через вершину $p[v]$. В частности, поддерево вершины $root$ всегда является полным множеством всех вершин дерева.  \n",
    "В дереве на рисунке выше $subtree(1)$ = {$1, 2, 3, 4, 5, 6, 7, 8, 9$}, $subtree(6)$ = {$6, 8, 9$}, $subtree(5)$ = {$5$};\n"
   ]
  },
  {
   "cell_type": "markdown",
   "metadata": {},
   "source": [
    "* $sz[v]$ - ***размер поддерева*** вершины $v$ ($size[v]$), а именно кол-во вершин в поддереве вершины $v$."
   ]
  },
  {
   "cell_type": "markdown",
   "metadata": {},
   "source": [
    "### Задание №1."
   ]
  },
  {
   "cell_type": "markdown",
   "metadata": {},
   "source": [
    "Для каждой вершины $v$ дерева на рисунке $1$ выписать $h[v]$, $p[v]$, $subtree(v)$, $sz[v]$.\n",
    "\n",
    "Массив высот:                h = [0, 1, 1, 2, 2, 2, 2, 3, 3]  \n",
    "Массив предков                p = [0, 0, 0, 2, 2, 1, 2, 5, 5]   \n",
    "Список поддеревьев  \n",
    "Массив размера поддеревьев      sz = [9, 4, 4, 1, 1, 3, 1, 1, 1]\n"
   ]
  },
  {
   "cell_type": "markdown",
   "metadata": {},
   "source": [
    "### Обход дерева."
   ]
  },
  {
   "cell_type": "markdown",
   "metadata": {},
   "source": [
    "* Для того, чтобы обойти все вершины дерева, достаточно реализовать рекурсивную функцию ***dfs***$(v)$, которая будет обходить все вершины поддерева $v$. Для этого достаточно перебрать все смежные вершины $to$ с $v$ и в случае если $to \\neq p[v]$, нужно выставить предка вершины $to$ $(p[to] = v)$ и запустить ***dfs***$(to)$."
   ]
  },
  {
   "cell_type": "markdown",
   "metadata": {},
   "source": [
    "* Такая реализация ***dfs*** на дереве автоматически подсчитывает массив предков $p$."
   ]
  },
  {
   "cell_type": "markdown",
   "metadata": {},
   "source": [
    "* Для того чтобы посчитать массив высот $h$, необходимо перед вызовом ***dfs***($to$) просто присвоить $h[to] = h[v] + 1$. "
   ]
  },
  {
   "cell_type": "markdown",
   "metadata": {},
   "source": [
    "* Для подсчета массива $sz$ можно воспользоваться рекуррентной формулой: $sz[v] = 1 + \\sum_{to \\neq p[v]} sz[to]$."
   ]
  },
  {
   "cell_type": "markdown",
   "metadata": {},
   "source": [
    "### Задание №2."
   ]
  },
  {
   "cell_type": "markdown",
   "metadata": {},
   "source": [
    "Написать программу, которая выполняет ***dfs*** обход дерева, автоматически подсчитывая массивы $h$, $p$, $sz$. Программа должна считывать $n$ и $root$ в первой строке, а затем $(n - 1)$ строку - ребра дерева, а выводить $3$ массива - $h$, $p$, $sz$. \n"
   ]
  },
  {
   "cell_type": "markdown",
   "metadata": {},
   "source": [
    "Запустить программу на тесте, соответствующем рисунку $1$, и убедиться, что массивы $h$, $p$, $sz$ совпадают с массивами, найденными в задании №$1$.\n"
   ]
  },
  {
   "cell_type": "code",
   "execution_count": 7,
   "metadata": {},
   "outputs": [
    {
     "name": "stdout",
     "output_type": "stream",
     "text": [
      "9 1\n",
      "1 2\n",
      "1 3\n",
      "2 6\n",
      "6 8\n",
      "6 9\n",
      "3 4\n",
      "3 5\n",
      "3 7\n",
      "Массив высот: h = [0, 1, 1, 2, 2, 2, 2, 3, 3]\n",
      "Массив предков p = [0, 0, 0, 2, 2, 1, 2, 5, 5]\n",
      "Массив размера поддеревьев sz = [9, 4, 4, 1, 1, 3, 1, 1, 1]\n"
     ]
    }
   ],
   "source": [
    "def dfs(v):\n",
    "    sz[v] = 1\n",
    "    for to in g[v]:\n",
    "        if to != p[v]:\n",
    "            p[to] = v\n",
    "            h[to] = h[v] + 1\n",
    "            dfs(to)\n",
    "            sz[v] += sz[to]\n",
    "\n",
    "\n",
    "n, root = map(int,  input().split())\n",
    "root -= 1\n",
    "g = [[] for i in range(n)]\n",
    "h = [-1] * n\n",
    "p = [-1] * n\n",
    "sz = [0] * n\n",
    "for i in range(n - 1):\n",
    "    a, b = map(int, input().split())\n",
    "    g[a - 1].append(b - 1)\n",
    "    g[b - 1].append(a - 1)\n",
    "\n",
    "p[root] = root\n",
    "h[root] = 0\n",
    "dfs(root)\n",
    "print(f'Массив высот: h = {h}')\n",
    "print(f'Массив предков p = {p}')\n",
    "print(f'Массив размера поддеревьев sz = {sz}')\n"
   ]
  },
  {
   "cell_type": "markdown",
   "metadata": {},
   "source": [
    "### Задание №3."
   ]
  },
  {
   "cell_type": "markdown",
   "metadata": {},
   "source": [
    "Не запуская программу, написанную в задании №$2$, выпишите порядок вершин, в котором функция dfs посетит все вершины дерева.  \n",
    "\n",
    "Ответ: $1\\rightarrow2\\rightarrow6\\rightarrow8\\rightarrow9\\rightarrow3\\rightarrow4\\rightarrow5\\rightarrow7$\t\t\t"
   ]
  },
  {
   "cell_type": "markdown",
   "metadata": {},
   "source": [
    "### Задание №4.\n"
   ]
  },
  {
   "cell_type": "markdown",
   "metadata": {},
   "source": [
    "Модифицируйте программу, написанную в задании №$2$ так, чтобы она находила и выводила массив $order$ - список всех вершин в порядке посещения. Убедитесь, что полученный массив $order$ совпадает с порядком вершин, выписанным в задании №$3$.\n"
   ]
  },
  {
   "cell_type": "code",
   "execution_count": 2,
   "metadata": {},
   "outputs": [],
   "source": [
    "def dfs(v):\n",
    "    order.append(v + 1)\n",
    "    for to in g[v]:\n",
    "        if to != p[v]:\n",
    "            p[to] = v\n",
    "            dfs(to)"
   ]
  },
  {
   "cell_type": "markdown",
   "metadata": {},
   "source": [
    "#### Определения:"
   ]
  },
  {
   "cell_type": "markdown",
   "metadata": {},
   "source": [
    "+ Назовем **tin[v]** ($time$_$in[v]$) - время входа в вершину $v$ в процессе обхода дерева. А именно, **tin[v]** - это позиция вершины $v$ массиве $order$.   \n",
    "\n",
    "+ Аналогично скажем, что **tout[v]** - это время выхода из вершины $v$ в процессе обхода дерева. А именно, **tout[v]** - это самая правая позиция какой-то вершины $x \\in subtree(v)$в массиве $order$.\n"
   ]
  },
  {
   "cell_type": "markdown",
   "metadata": {},
   "source": [
    "Для того, чтобы посчитать значения **tin[v]**, достаточно в самом начале функции **dfs** присвоить $tin[v] = len(order)$. Аналогично, для подсчета значений **tout[v]**, достаточно в конце функции **dfs** присвоить $tout[v] = len(order) - 1$.\n"
   ]
  },
  {
   "cell_type": "markdown",
   "metadata": {},
   "source": [
    "### Задание №5."
   ]
  },
  {
   "cell_type": "markdown",
   "metadata": {},
   "source": [
    "Выпишите, чему равны массивы **tin** и **tout** для дерева, соответствующего рисунку $1$.\n"
   ]
  },
  {
   "cell_type": "markdown",
   "metadata": {},
   "source": [
    "#### Решение:"
   ]
  },
  {
   "cell_type": "markdown",
   "metadata": {},
   "source": [
    "**tin** =   $[0, 1, 5, 6, 7, 2, 8, 3, 4]$\t"
   ]
  },
  {
   "cell_type": "markdown",
   "metadata": {},
   "source": [
    "**tout** = $[8, 4, 8, 6, 7, 4, 8, 3, 4]\t$"
   ]
  },
  {
   "cell_type": "markdown",
   "metadata": {},
   "source": [
    "### Задание №6."
   ]
  },
  {
   "cell_type": "markdown",
   "metadata": {},
   "source": [
    "Модифицируйте программу, написанную в задании №$4$ так, чтобы она находила выводила массивы **tin** и **tout**. Убедитесь, что полученные массивы совпадают с соответствующими массивами, выписанным в задании №$5$.\n"
   ]
  },
  {
   "cell_type": "code",
   "execution_count": 3,
   "metadata": {},
   "outputs": [],
   "source": [
    "def dfs(v):\n",
    "    tin[v] = len(order)\n",
    "    order.append(v + 1)\n",
    "    for to in g[v]:\n",
    "        if to != p[v]:\n",
    "            p[to] = v\n",
    "            dfs(to)\n",
    "    tout[v] = len(order) - 1"
   ]
  },
  {
   "cell_type": "code",
   "execution_count": 4,
   "metadata": {},
   "outputs": [
    {
     "name": "stdout",
     "output_type": "stream",
     "text": [
      "9 1\n",
      "1 2\n",
      "1 3\n",
      "3 4\n",
      "3 5\n",
      "3 7\n",
      "2 6\n",
      "6 8\n",
      "6 9\n",
      "[1, 2, 6, 8, 9, 3, 4, 5, 7]\n",
      "[0, 1, 5, 6, 7, 2, 8, 3, 4]\n",
      "[8, 4, 8, 6, 7, 4, 8, 3, 4]\n"
     ]
    }
   ],
   "source": [
    "n, root = map(int,  input().split())\n",
    "root -= 1\n",
    "g = [[] for i in range(n)]\n",
    "\n",
    "for i in range(n - 1):\n",
    "    a, b = map(int, input().split())\n",
    "    g[a - 1].append(b - 1)\n",
    "    g[b - 1].append(a - 1)\n",
    "\n",
    "p = [-1] * n\n",
    "order = []\n",
    "p[root] = root\n",
    "tin = [0] * n\n",
    "tout = [0] * n\n",
    "dfs(root)\n",
    "print(order)\n",
    "print(tin)\n",
    "print(tout)\n"
   ]
  },
  {
   "cell_type": "markdown",
   "metadata": {},
   "source": [
    "Если посмотреть внимательно на массивы **tin** и **tout**, то можно заметить, что подотрезок массива $order$ от **tin[v]** до **tout[v]** будет представлять собой все вершины из поддерева $v$.\n"
   ]
  },
  {
   "cell_type": "markdown",
   "metadata": {},
   "source": [
    "### Задание №7."
   ]
  },
  {
   "cell_type": "markdown",
   "metadata": {},
   "source": [
    "Используя массивы **tin** и **tout** вывести список вершин $subtree(v)$ для каждой вершины $v$."
   ]
  },
  {
   "cell_type": "markdown",
   "metadata": {},
   "source": [
    "#### Решение:"
   ]
  },
  {
   "cell_type": "markdown",
   "metadata": {},
   "source": [
    "$subtree(v) =  [[1, 2, 6, 8, 9, 3, 4, 5, 7], [2, 6, 8, 9], [3, 4, 5, 7], [4], [5], [6, 8, 9], [7], [8], [9]]$\t\t\t\t\t\t"
   ]
  },
  {
   "cell_type": "code",
   "execution_count": 7,
   "metadata": {},
   "outputs": [],
   "source": [
    "for v in range(n):\n",
    "    pass"
   ]
  },
  {
   "cell_type": "markdown",
   "metadata": {},
   "source": [
    "### Проверка того, что одна вершина является предком другой."
   ]
  },
  {
   "cell_type": "markdown",
   "metadata": {},
   "source": [
    "Если вершина $a$ является предком вершины $b$, то поддерево вершины $a$ содержит все вершины из поддерева $b$: $subtree(b) \\subset subtree(a)$."
   ]
  },
  {
   "cell_type": "markdown",
   "metadata": {},
   "source": [
    "Поскольку поддерево любой вершины $v$ однозначно задается отрезком $[tin[v]; tout[v]]$, то получаем простой критерий того, что вершина $a$ является предком $b$: "
   ]
  },
  {
   "cell_type": "markdown",
   "metadata": {},
   "source": [
    "+ $tin[a] \\leq tin[b] \\leq tout[b] \\leq tout[a]$"
   ]
  },
  {
   "cell_type": "markdown",
   "metadata": {},
   "source": [
    "### Задание №8."
   ]
  },
  {
   "cell_type": "markdown",
   "metadata": {},
   "source": [
    "Реализовать функцию $is$_$ancestor(a, b)$, которая возвращает $True$, если вершина $a$ является предком $b$, и $False$ в противном случае. Вывести значение данной функции для всех пар вершин $u$, $v$."
   ]
  },
  {
   "cell_type": "code",
   "execution_count": 6,
   "metadata": {},
   "outputs": [],
   "source": [
    "def is_ancestor(a, b):\n",
    "    pass"
   ]
  },
  {
   "cell_type": "markdown",
   "metadata": {},
   "source": [
    "### Задание №9. "
   ]
  },
  {
   "cell_type": "markdown",
   "metadata": {},
   "source": [
    "Сдать задачу “Предок” (e).\n"
   ]
  }
 ],
 "metadata": {
  "kernelspec": {
   "display_name": "Python 3",
   "language": "python",
   "name": "python3"
  },
  "language_info": {
   "codemirror_mode": {
    "name": "ipython",
    "version": 3
   },
   "file_extension": ".py",
   "mimetype": "text/x-python",
   "name": "python",
   "nbconvert_exporter": "python",
   "pygments_lexer": "ipython3",
   "version": "3.7.2"
  }
 },
 "nbformat": 4,
 "nbformat_minor": 2
}
