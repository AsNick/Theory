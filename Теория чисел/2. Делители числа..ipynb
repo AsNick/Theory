{
 "cells": [
  {
   "cell_type": "markdown",
   "metadata": {},
   "source": [
    "## Делители числа."
   ]
  },
  {
   "cell_type": "markdown",
   "metadata": {},
   "source": [
    "Натуральным делителем целого числа $n$ называется число $d\\in \\mathbb{N}$, такое, что $n\\, /\\, d$ так же является целым числом.  \n",
    "Как найти все натуральные делители числа $n$?"
   ]
  },
  {
   "cell_type": "markdown",
   "metadata": {},
   "source": [
    "#### Решение полным перебором.\n"
   ]
  },
  {
   "cell_type": "code",
   "execution_count": 1,
   "metadata": {},
   "outputs": [],
   "source": [
    "n = 36\n",
    "d = []\n"
   ]
  },
  {
   "cell_type": "code",
   "execution_count": 2,
   "metadata": {},
   "outputs": [],
   "source": [
    "def divisor(n):\n",
    "    for x in range(1, n + 1):\n",
    "        if n % x == 0:\n",
    "            d.append(x)\n",
    "    "
   ]
  },
  {
   "cell_type": "code",
   "execution_count": 3,
   "metadata": {},
   "outputs": [
    {
     "name": "stdout",
     "output_type": "stream",
     "text": [
      "1 2 3 4 6 9 12 18 36\n"
     ]
    }
   ],
   "source": [
    "divisor(n)\n",
    "print(*d)"
   ]
  },
  {
   "cell_type": "markdown",
   "metadata": {},
   "source": [
    "Вычислительная сложность решения $O(N)$.  \n",
    "Запись $O(N)$ означает, что в **худшем** случае алгоритм выполнит $N$ операций."
   ]
  },
  {
   "cell_type": "markdown",
   "metadata": {},
   "source": [
    "Ускорим решение."
   ]
  },
  {
   "cell_type": "markdown",
   "metadata": {},
   "source": [
    "Заметим, что все делители идут парами."
   ]
  },
  {
   "cell_type": "markdown",
   "metadata": {},
   "source": [
    "Строгая математическая формулировка этого простого факта выглядит так:"
   ]
  },
  {
   "cell_type": "markdown",
   "metadata": {},
   "source": [
    "Для $\\forall \\ n \\in \\mathbb{N}\\  \\exists  \\,  x, \\, y \\in \\mathbb{N}\\ : \\, \\, n= x\\cdot y$  "
   ]
  },
  {
   "cell_type": "markdown",
   "metadata": {},
   "source": [
    "Расшифруем вышестоящую запись.  \n",
    "Значок $\\forall $ называется \"квантор общности\" и заменяет слова \"для любого\".  \n",
    "Значок $\\exists $ называется \"квантор существования\" и заменяет слово \"существует\".  \n",
    "Таким образом наша запись читается так:  \n",
    "\"Для любого числа $n$, принадлежащего множеству натуральных чисел, существует пара натуральных чисел $x$ и $y$, таких что $n= x\\cdot y$.\"  \n",
    "Числа $x$ и $y$ называются делителями числа $n$.  \n",
    "Действительно, всегда найдется хотя бы одна пара $x = 1, y = n$ и $n = 1\\cdot n$.  "
   ]
  },
  {
   "cell_type": "markdown",
   "metadata": {},
   "source": [
    "Существуют ли другие пары делителей и как их найти?"
   ]
  },
  {
   "cell_type": "markdown",
   "metadata": {},
   "source": [
    " ### Алгоритм нахождения делителей числа $n$, использующий свойство парности делителей."
   ]
  },
  {
   "cell_type": "code",
   "execution_count": 4,
   "metadata": {},
   "outputs": [],
   "source": [
    "d = []\n"
   ]
  },
  {
   "cell_type": "code",
   "execution_count": 5,
   "metadata": {},
   "outputs": [],
   "source": [
    "def divisor(x):\n",
    "    for x in range(1, n + 1):\n",
    "        if n % x == 0:\n",
    "            d.append(x)\n",
    "            y = n // x\n",
    "            if y > x:\n",
    "                d.append(y)\n",
    "            else:\n",
    "                break\n"
   ]
  },
  {
   "cell_type": "code",
   "execution_count": 6,
   "metadata": {},
   "outputs": [
    {
     "name": "stdout",
     "output_type": "stream",
     "text": [
      "1 2 3 4 6 9 12 18 36\n"
     ]
    }
   ],
   "source": [
    "divisor(n)\n",
    "d.sort()\n",
    "print(*d)\n"
   ]
  },
  {
   "cell_type": "markdown",
   "metadata": {},
   "source": [
    "Реализация с помощью цикла while:"
   ]
  },
  {
   "cell_type": "code",
   "execution_count": 7,
   "metadata": {},
   "outputs": [
    {
     "name": "stdout",
     "output_type": "stream",
     "text": [
      "1 2 3 4 6 9 12 18 36\n"
     ]
    }
   ],
   "source": [
    "d = []\n",
    "x = 1\n",
    "\n",
    "while x * x <= n:\n",
    "    if n % x == 0:\n",
    "        d.append(x)\n",
    "        y = n // x\n",
    "        if y != x:\n",
    "            d.append(n // x)\n",
    "    x += 1\n",
    "        \n",
    "d.sort()\n",
    "print(*d)\n"
   ]
  },
  {
   "cell_type": "markdown",
   "metadata": {},
   "source": [
    "Объединим два последних решения."
   ]
  },
  {
   "cell_type": "code",
   "execution_count": 8,
   "metadata": {},
   "outputs": [
    {
     "name": "stdout",
     "output_type": "stream",
     "text": [
      "1 2 3 4 6 9 12 18 36\n"
     ]
    }
   ],
   "source": [
    "d = []\n",
    "for x in range(1, 1 + int(n ** .5)):\n",
    "    if n % x == 0:\n",
    "        d.append(x)\n",
    "        y = n // x\n",
    "        if y != x:\n",
    "            d.append(y)\n",
    "\n",
    "d.sort()\n",
    "print(*d)\n"
   ]
  },
  {
   "cell_type": "markdown",
   "metadata": {},
   "source": [
    "Вычислительная сложность алгоритма $O(\\sqrt N)$"
   ]
  },
  {
   "cell_type": "markdown",
   "metadata": {},
   "source": [
    "### Функция делителей числа $n$."
   ]
  },
  {
   "cell_type": "markdown",
   "metadata": {},
   "source": [
    "С делителями числа $n$ можно делать много разных штук, а именно:  \n",
    "1. Можно найти все делители числа $n$.\n",
    "2. Можно подсчитать количество делителей числа $n$.\n",
    "3. Можно подсчитать сумму всех делителей числа $n$.\n",
    "4. Можно подсчитать сумму квадратов всех делителей числа $n$.  \n",
    "И так далее.  \n",
    "Пункты 2 - 4 можно описать специальной функцией, **функцией делителей числа $n$**\n"
   ]
  },
  {
   "cell_type": "markdown",
   "metadata": {},
   "source": [
    "#### Определение:"
   ]
  },
  {
   "cell_type": "markdown",
   "metadata": {},
   "source": [
    "Функция **«сумма положительных делителей числа $n$»** $σ_x(n)$ для вещественного или комплексного числа $x$ определяется как сумма $x$-ых степеней положительных делителей числа $n$. Функцию можно выразить формулой\n",
    "\n",
    "${\\displaystyle \\sigma _{x}(n)=\\sum _{d|n}d^{x}\\,\\!}$"
   ]
  },
  {
   "cell_type": "markdown",
   "metadata": {},
   "source": [
    "При $x = 0$ получаем ${\\displaystyle \\sigma _{0}(n)=\\sum _{d|n}d^{0}\\,\\!}$ - количество делителей числа $n$."
   ]
  },
  {
   "cell_type": "markdown",
   "metadata": {},
   "source": [
    "При $x = 1$ получаем ${\\displaystyle \\sigma _{1}(n)=\\sum _{d|n}d^{1}\\,\\!}$ - сумму делителей числа $n$."
   ]
  },
  {
   "cell_type": "markdown",
   "metadata": {},
   "source": [
    "**Аликвотная сумма** $s(n)$ для $n$ — это сумма собственных делителей (то есть делителей, за исключением самого $n$), и равна $σ_1(n) − n$."
   ]
  },
  {
   "cell_type": "markdown",
   "metadata": {},
   "source": [
    "### Задание №1\n"
   ]
  },
  {
   "cell_type": "markdown",
   "metadata": {},
   "source": [
    "Найдите $σ_0(n)$ , $σ_1(n)$ и $s(n)$ для $n = 36$"
   ]
  },
  {
   "cell_type": "markdown",
   "metadata": {},
   "source": [
    "#### Решение."
   ]
  },
  {
   "cell_type": "markdown",
   "metadata": {},
   "source": [
    "1. $d(36)$ = [1, 2, 3, 4, 6, 9, 12, 24, 36]  \n",
    "2. $σ_0(36)$ = $1^0 + 2 ^0 + 3^0 + 4^0 + 6 ^ 0 + 9 ^ 0 + 12 ^ 0 + 24 ^ 0 + 36 ^ 0 = 9$  \n",
    "3. $σ_1(36)$ = $1^1 + 2 ^1 + 3^1 + 4^1 + 6 ^ 1 + 9 ^ 1 + 12 ^ 1 + 24 ^ 1 + 36 ^ 1 = 97$\n",
    "4. $s(36) = 1 + 2 + 3 + 4 + 6 + 9 + 12 + 24 = 61$"
   ]
  }
 ],
 "metadata": {
  "kernelspec": {
   "display_name": "Python 3",
   "language": "python",
   "name": "python3"
  },
  "language_info": {
   "codemirror_mode": {
    "name": "ipython",
    "version": 3
   },
   "file_extension": ".py",
   "mimetype": "text/x-python",
   "name": "python",
   "nbconvert_exporter": "python",
   "pygments_lexer": "ipython3",
   "version": "3.7.2"
  }
 },
 "nbformat": 4,
 "nbformat_minor": 2
}
