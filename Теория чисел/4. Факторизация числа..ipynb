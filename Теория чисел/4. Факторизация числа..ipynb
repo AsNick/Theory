{
 "cells": [
  {
   "cell_type": "markdown",
   "metadata": {},
   "source": [
    "## Факторизация числа (разложение на простые множители)."
   ]
  },
  {
   "cell_type": "markdown",
   "metadata": {},
   "source": [
    "### Основная теорема арифметики."
   ]
  },
  {
   "cell_type": "markdown",
   "metadata": {},
   "source": [
    "*Каждое натуральное число $n > 1$ можно представить в виде  \n",
    "$n=p_{1}\\cdot p_2\\cdot p_3\\cdot\\ldots \\cdot p_{k}\\,\\,\\,\\,\\,\\,\\,\\,\\,\\,\\,\\,\\,\\,\\,\\,\\,\\,\\,\\,\\,\\,\\,$ (1)  \n",
    "где $p_{k}$ — простые числа и $p_1 \\leq p_2 \\leq p_3 ... \\leq p_k $ причём такое представление единственно, с точностью до порядка следования множителей.*"
   ]
  },
  {
   "cell_type": "markdown",
   "metadata": {},
   "source": [
    "**Следствие:**"
   ]
  },
  {
   "cell_type": "markdown",
   "metadata": {},
   "source": [
    "*Каждое натуральное число $n > 1$  единственным образом представимо в виде*\n",
    "\n",
    "$n={p_1} ^ {d_1}\\cdot {p_2}^{d_2}\\cdot {p_3}^{d_3}\\cdot ...\\cdot {p_k}^{d_k}\\,\\,\\,\\,\\,\\,\\,\\,\\,\\,\\,\\,$(2)  \n",
    "\n",
    "где $p_1<p_2< \\ldots <p_k$ — простые числа,  $d_1,\\ldots ,d_k$ — некоторые натуральные числа.  \n",
    "Выражение (2) называется **каноническим разложением** числа $n$ на простые множители."
   ]
  },
  {
   "cell_type": "markdown",
   "metadata": {},
   "source": [
    "**Пример**  \n",
    "$24 = 2\\cdot 2\\cdot 2\\cdot3 = 2^3\\cdot3$  \n",
    "$720 = 2\\cdot 2\\cdot 2\\cdot 2\\cdot 3\\cdot 3\\cdot 5 = 2^4\\cdot3^2\\cdot5$\n"
   ]
  },
  {
   "cell_type": "markdown",
   "metadata": {},
   "source": [
    "### Алгоритм факторизации числа."
   ]
  },
  {
   "cell_type": "code",
   "execution_count": 1,
   "metadata": {},
   "outputs": [],
   "source": [
    "n = 720"
   ]
  },
  {
   "cell_type": "code",
   "execution_count": 2,
   "metadata": {},
   "outputs": [],
   "source": [
    "def factor(x):\n",
    "    d = 2\n",
    "    p = []\n",
    "    while d * d <= x:\n",
    "        while x % d == 0:\n",
    "            x //= d\n",
    "            p.append(d)\n",
    "        d += 1\n",
    "    if x > 1:\n",
    "        p.append(x)\n",
    "    return p\n",
    "    "
   ]
  },
  {
   "cell_type": "code",
   "execution_count": 3,
   "metadata": {},
   "outputs": [
    {
     "name": "stdout",
     "output_type": "stream",
     "text": [
      "[2, 2, 2, 2, 3, 3, 5]\n"
     ]
    }
   ],
   "source": [
    "print(factor(n))"
   ]
  },
  {
   "cell_type": "markdown",
   "metadata": {},
   "source": [
    "Решим задачу acmp 0354."
   ]
  },
  {
   "cell_type": "code",
   "execution_count": 4,
   "metadata": {},
   "outputs": [],
   "source": [
    "pass"
   ]
  },
  {
   "cell_type": "markdown",
   "metadata": {},
   "source": [
    "### Количество делителей числа n.\n",
    "\n",
    "Имея каноническое разложение числа $n$ на простые множители, мы можем легко найти $\\sigma_0(n)$ - количество делителей числа $n$.  \n",
    "Рассмотрим множитель $p_k$, который входит в каноническое разложение числа $n$ $d_k$ раз. Он может войти в некоторый делитель числа $n$ следующими способами:\n",
    "+ не войти ни разу\n",
    "+ войти один раз\n",
    "+ войти два раза\n",
    "+ .....................\n",
    "+ войти $d_k$ раз  \n",
    "  \n",
    "  \n",
    "Всего $(d_k + 1)$ способов. Такое рассуждение можно провести для каждого $p_k$. Тогда количество делителей числа $n$ будет равно\n"
   ]
  },
  {
   "cell_type": "markdown",
   "metadata": {},
   "source": [
    "$\\sigma_{0}(n) = (d_1 + 1)\\cdot(d_2 + 1)\\cdot(d_3 + 1)\\cdot\\, ... \\,\\cdot(d_k + 1)$"
   ]
  },
  {
   "cell_type": "code",
   "execution_count": null,
   "metadata": {},
   "outputs": [],
   "source": []
  }
 ],
 "metadata": {
  "kernelspec": {
   "display_name": "Python 3",
   "language": "python",
   "name": "python3"
  },
  "language_info": {
   "codemirror_mode": {
    "name": "ipython",
    "version": 3
   },
   "file_extension": ".py",
   "mimetype": "text/x-python",
   "name": "python",
   "nbconvert_exporter": "python",
   "pygments_lexer": "ipython3",
   "version": "3.7.2"
  }
 },
 "nbformat": 4,
 "nbformat_minor": 2
}
