{
 "cells": [
  {
   "cell_type": "markdown",
   "metadata": {},
   "source": [
    "## Наибольший общий делитель.  \n",
    "\n",
    "**Определение**  \n",
    "\n",
    "Наибольшим общим делителем (НОД) для двух целых чисел $m$ и $n$ называется наибольший из их общих делителей. \n",
    "Наибольший общий делитель существует и однозначно определён, если хотя бы одно из чисел $m$ или $n$ не равно нулю.  \n",
    "  \n",
    "Возможные обозначения наибольшего общего делителя чисел $m$ и $n$:\n",
    "\n",
    "НОД(m, n)  \n",
    "$(m,n)$  \n",
    "$gcd(m,n)$ (от англ. greatest common divisor);\n",
    "  \n",
    "**Пример**  \n",
    "  \n",
    "  Найдем НОД(12, 44):  \n",
    "  $d(12) = [1, 2, 3, 4, 6, 12]$  \n",
    "  $d(44) = [1, 2, 4, 11, 22, 44]$  \n",
    "  НОД(12, 44) = 4\n",
    "\n"
   ]
  },
  {
   "cell_type": "code",
   "execution_count": null,
   "metadata": {},
   "outputs": [],
   "source": [
    "\n"
   ]
  }
 ],
 "metadata": {
  "kernelspec": {
   "display_name": "Python 3",
   "language": "python",
   "name": "python3"
  },
  "language_info": {
   "codemirror_mode": {
    "name": "ipython",
    "version": 3
   },
   "file_extension": ".py",
   "mimetype": "text/x-python",
   "name": "python",
   "nbconvert_exporter": "python",
   "pygments_lexer": "ipython3",
   "version": "3.7.2"
  }
 },
 "nbformat": 4,
 "nbformat_minor": 2
}
