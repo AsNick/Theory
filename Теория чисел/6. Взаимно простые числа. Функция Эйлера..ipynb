{
 "cells": [
  {
   "cell_type": "markdown",
   "metadata": {},
   "source": [
    "### Определение.\n",
    "\n",
    "*Числа $n \\in\\mathbb{N}$ и  $m\\in\\mathbb{N}$ называются* ***взаимно простыми***, *если* gcd$(n, m) = 1$.\n"
   ]
  },
  {
   "cell_type": "markdown",
   "metadata": {},
   "source": [
    "****Пример****:  \n",
    "(1, 18) - взаимно простые, так, как gcd(1, 18) = 1;  \n",
    "(2, 18) не являются взаимно простыми, так, как gcd(2, 18) = 2"
   ]
  },
  {
   "cell_type": "markdown",
   "metadata": {},
   "source": [
    "***Функция Эйлера*** $\\phi (n)$ — это количество чисел от $1$ до $n$, взаимно простых с $n$. Иными словами, это количество таких чисел в отрезке [1; n], наибольший общий делитель которых с $n$ равен единице."
   ]
  },
  {
   "cell_type": "markdown",
   "metadata": {},
   "source": [
    "****Пример****:\n",
    "$\\phi (20) = 8$, взаимно простыми с 20 являются числа $1, 3, 7, 9, 11, 13, 17, 19$"
   ]
  },
  {
   "cell_type": "markdown",
   "metadata": {},
   "source": [
    "****Наивное решение****"
   ]
  },
  {
   "cell_type": "code",
   "execution_count": 1,
   "metadata": {},
   "outputs": [],
   "source": [
    "def gcd(a, b):\n",
    "    while b > 0:\n",
    "        a, b = b, a % b\n",
    "    return a + b"
   ]
  },
  {
   "cell_type": "code",
   "execution_count": 2,
   "metadata": {},
   "outputs": [
    {
     "name": "stdout",
     "output_type": "stream",
     "text": [
      "8\n"
     ]
    }
   ],
   "source": [
    "n = 20\n",
    "ans = 0\n",
    "for i in range(1, n):\n",
    "    if gcd(i, n) == 1:\n",
    "        ans += 1\n",
    "print(ans)"
   ]
  },
  {
   "cell_type": "markdown",
   "metadata": {},
   "source": [
    "Решаем задачу dots 2027."
   ]
  },
  {
   "cell_type": "code",
   "execution_count": null,
   "metadata": {},
   "outputs": [],
   "source": []
  },
  {
   "cell_type": "markdown",
   "metadata": {},
   "source": [
    "***Свойства функции Эйлера.***"
   ]
  },
  {
   "cell_type": "markdown",
   "metadata": {},
   "source": [
    "Три следующих простых свойства функции Эйлера — достаточны, чтобы научиться вычислять её для любых чисел:\n",
    "\n",
    "+ Если $p$ — простое число, то $\\phi (p)=p-1$.  \n",
    "(Это очевидно, т.к. любое число, кроме самого $p$, взаимно просто с ним.)\n",
    "\n",
    "+ Если $p$ — простое, $a$ — натуральное число, то $\\phi (p^a)=p^a-p^{a-1}$.  \n",
    "(Поскольку с числом $p^a$ не взаимно просты только числа вида $p\\cdot k$ ($k \\in \\mathbb{N}$), которых $p^a / p = p^{a-1}$ штук.)  \n",
    "+ Если $a$ и $b$ взаимно простые, то $\\phi(ab) = \\phi(a) \\phi(b)$ (\"мультипликативность\" функции Эйлера)\n",
    "\n"
   ]
  },
  {
   "cell_type": "markdown",
   "metadata": {},
   "source": [
    "1. Первое свойство:  $p = 17$, все числа от $1$ до $16$ включительно взаимно просты с $17$.  \n",
    "2. Второе свойство: $p = 5, a = 5, p^a = 3125$  \n",
    "   $d(3125) = [1, 5, 25, 125, 615, 3125]$  \n",
    "   Не взаимно простыми с $3125$ в диапазоне $[1, 3124]$ будут числа, кратные $5$:$\\,\\,5, 10, 15, 20, ..., 3120$ и таких чисел будет ровно $p^{a - 1}$ "
   ]
  },
  {
   "cell_type": "markdown",
   "metadata": {},
   "source": [
    "Отсюда можно получить функцию Эйлера для любого $n$ через его ***факторизацию*** (разложение $n$ на простые сомножители):\n",
    "\n",
    "если\n",
    "\n",
    " $n = p_1^{a_1} \\cdot p_2^{a_2} \\cdot \\ldots \\cdot p_k^{a_k}$  \n",
    "   \n",
    "   то   \n",
    "   \n",
    " $ \\phi(n) = \\phi(p_1^{a_1} \\cdot p_2^{a_2} \\cdot \\ldots \\cdot p_k^{a_k})\\,=  \n",
    " \\, \\phi(p_1^{a_1})\\cdot \\phi(p_2^{a_2})\\cdot ...\\cdot \\phi(p_k^{a_k})\\,\\, = \\,\\,(p_1^{a_1} - p_1^{a_1-1}) \\cdot (p_2^{a_2} - p_2^{a_2 - 1})\\cdot \\ldots \\cdot (p_k^{a_k} - p_k^{a_k - 1})\\,=$  \n",
    " \n",
    " $ n \\cdot \\left( 1-{1\\over p_1} \\right) \\cdot \\left( 1-{1\\over p_2} \\right)\\cdot \\ldots \\cdot\\left( 1-{1\\over p_k} \\right)$"
   ]
  },
  {
   "cell_type": "markdown",
   "metadata": {},
   "source": [
    "Решаем задачу dots 2027 на полный балл."
   ]
  },
  {
   "cell_type": "code",
   "execution_count": null,
   "metadata": {},
   "outputs": [],
   "source": [
    "def f(x):\n",
    "    pass"
   ]
  }
 ],
 "metadata": {
  "kernelspec": {
   "display_name": "Python 3",
   "language": "python",
   "name": "python3"
  },
  "language_info": {
   "codemirror_mode": {
    "name": "ipython",
    "version": 3
   },
   "file_extension": ".py",
   "mimetype": "text/x-python",
   "name": "python",
   "nbconvert_exporter": "python",
   "pygments_lexer": "ipython3",
   "version": "3.7.2"
  }
 },
 "nbformat": 4,
 "nbformat_minor": 2
}
