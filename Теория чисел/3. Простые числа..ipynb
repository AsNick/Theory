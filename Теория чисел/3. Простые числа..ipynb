{
 "cells": [
  {
   "cell_type": "markdown",
   "metadata": {},
   "source": [
    "### Определение.  \n",
    "  \n",
    "  **Простое число** - это натуральное число, имеющее ровно два натуральных делителя, единицу и самого себя.\n",
    "  Иными словами  \n",
    "  $n \\in \\mathbb{P}$ если $\\sigma _0(n) = 2$  \n",
    "    \n",
    "  **Составное число** - число, имеющее больше двух делителей."
   ]
  },
  {
   "cell_type": "markdown",
   "metadata": {},
   "source": [
    "### Проверка числа на простоту."
   ]
  },
  {
   "cell_type": "markdown",
   "metadata": {},
   "source": [
    "Проверку числа на простоту можно реализовать исходя из определения, а именно, если в процесе поиска делителей числа мы найдем третий делитель, то число не является простым, иначе - является. "
   ]
  },
  {
   "cell_type": "code",
   "execution_count": 3,
   "metadata": {},
   "outputs": [],
   "source": [
    "a = [i for i in range(1, 101)]  # создали список натуральных чисел от 1 до 100, найдем среди них простые и составные"
   ]
  },
  {
   "cell_type": "code",
   "execution_count": 4,
   "metadata": {},
   "outputs": [],
   "source": [
    "def is_prime(n):\n",
    "    if n == 1:\n",
    "        return False\n",
    "    for x in range(2, 1 + int(n ** .5)):\n",
    "        if n % x == 0:\n",
    "            return False\n",
    "    return True\n",
    "  "
   ]
  },
  {
   "cell_type": "code",
   "execution_count": 5,
   "metadata": {},
   "outputs": [
    {
     "name": "stdout",
     "output_type": "stream",
     "text": [
      "n = 1   False\n",
      "n = 2   True\n",
      "n = 3   True\n",
      "n = 4   False\n",
      "n = 5   True\n",
      "n = 6   False\n",
      "n = 7   True\n",
      "n = 8   False\n",
      "n = 9   False\n",
      "n = 10   False\n",
      "n = 11   True\n",
      "n = 12   False\n",
      "n = 13   True\n",
      "n = 14   False\n",
      "n = 15   False\n",
      "n = 16   False\n",
      "n = 17   True\n",
      "n = 18   False\n",
      "n = 19   True\n",
      "n = 20   False\n",
      "n = 21   False\n",
      "n = 22   False\n",
      "n = 23   True\n",
      "n = 24   False\n",
      "n = 25   False\n",
      "n = 26   False\n",
      "n = 27   False\n",
      "n = 28   False\n",
      "n = 29   True\n",
      "n = 30   False\n",
      "n = 31   True\n",
      "n = 32   False\n",
      "n = 33   False\n",
      "n = 34   False\n",
      "n = 35   False\n",
      "n = 36   False\n",
      "n = 37   True\n",
      "n = 38   False\n",
      "n = 39   False\n",
      "n = 40   False\n",
      "n = 41   True\n",
      "n = 42   False\n",
      "n = 43   True\n",
      "n = 44   False\n",
      "n = 45   False\n",
      "n = 46   False\n",
      "n = 47   True\n",
      "n = 48   False\n",
      "n = 49   False\n",
      "n = 50   False\n",
      "n = 51   False\n",
      "n = 52   False\n",
      "n = 53   True\n",
      "n = 54   False\n",
      "n = 55   False\n",
      "n = 56   False\n",
      "n = 57   False\n",
      "n = 58   False\n",
      "n = 59   True\n",
      "n = 60   False\n",
      "n = 61   True\n",
      "n = 62   False\n",
      "n = 63   False\n",
      "n = 64   False\n",
      "n = 65   False\n",
      "n = 66   False\n",
      "n = 67   True\n",
      "n = 68   False\n",
      "n = 69   False\n",
      "n = 70   False\n",
      "n = 71   True\n",
      "n = 72   False\n",
      "n = 73   True\n",
      "n = 74   False\n",
      "n = 75   False\n",
      "n = 76   False\n",
      "n = 77   False\n",
      "n = 78   False\n",
      "n = 79   True\n",
      "n = 80   False\n",
      "n = 81   False\n",
      "n = 82   False\n",
      "n = 83   True\n",
      "n = 84   False\n",
      "n = 85   False\n",
      "n = 86   False\n",
      "n = 87   False\n",
      "n = 88   False\n",
      "n = 89   True\n",
      "n = 90   False\n",
      "n = 91   False\n",
      "n = 92   False\n",
      "n = 93   False\n",
      "n = 94   False\n",
      "n = 95   False\n",
      "n = 96   False\n",
      "n = 97   True\n",
      "n = 98   False\n",
      "n = 99   False\n",
      "n = 100   False\n"
     ]
    }
   ],
   "source": [
    "for i in a:\n",
    "    print(f'n = {i}  ', is_prime(i))\n"
   ]
  },
  {
   "cell_type": "markdown",
   "metadata": {},
   "source": [
    "Ускорим работу функции **is_prime**, сразу отсекая все четные числа кроме двойки и в цикле **for** организуя проход только по нечетным:"
   ]
  },
  {
   "cell_type": "code",
   "execution_count": 6,
   "metadata": {},
   "outputs": [],
   "source": [
    "def is_prime(n):\n",
    "    if n == 2:\n",
    "        return True\n",
    "    if n < 2 or n % 2 == 0:\n",
    "        return False\n",
    "    for x in range(3, 1 + int(n ** .5), 2):\n",
    "        if n % x == 0:\n",
    "            return False\n",
    "    return True"
   ]
  },
  {
   "cell_type": "markdown",
   "metadata": {},
   "source": [
    "$\\sqrt n$ == $n ^ {0.5}$"
   ]
  },
  {
   "cell_type": "markdown",
   "metadata": {},
   "source": [
    "Найдем все простые числа, лежащие в интервале от 1 до 100 включительно и посчитаем их количество:"
   ]
  },
  {
   "cell_type": "code",
   "execution_count": 7,
   "metadata": {},
   "outputs": [
    {
     "name": "stdout",
     "output_type": "stream",
     "text": [
      "25\n",
      "[2, 3, 5, 7, 11, 13, 17, 19, 23, 29, 31, 37, 41, 43, 47, 53, 59, 61, 67, 71, 73, 79, 83, 89, 97]\n"
     ]
    }
   ],
   "source": [
    "p = []\n",
    "for n in range(1, 101):\n",
    "    if is_prime(n):\n",
    "        p.append(n)\n",
    "\n",
    "print(len(p))\n",
    "print(p)"
   ]
  },
  {
   "cell_type": "markdown",
   "metadata": {},
   "source": [
    "Мы решили задачу **нахождения всех простых чисел на интервале $\\left [ 1,\\,  n \\right ]$**, решили медленным алгоритмом, вычислительная сложность которого $O(N\\cdot \\sqrt{N})$."
   ]
  },
  {
   "cell_type": "markdown",
   "metadata": {},
   "source": [
    "### Решето Эратосфена.\n",
    "\n",
    "Решето Эратосфена - это быстрый алгоритм нахождения **всех** простых чисел на интервале от $1$ до $n$.  \n",
    "**Описание алгоритма:**  \n",
    "1. Имеем массив чисел от $1$ до $n$.\n",
    "2. Вычеркиваем $1$, число, которое не является простым по определению.  \n",
    "3. Первая итерация: фиксируем число $2$, наименьшее простое число.\n",
    "4. Вычеркиваем число $4 = 2 \\cdot 2$, первое кратное двойке и идем далее с шагом \"два\" до конца массива, вычеркивая все четные числа.Первое после двойки невычеркнутое число, число $3$,будет следующим найденным нами простым числом.  \n",
    "5. Вторая итерация: фиксируем \"тройку\",последнее найденное нами простое число.  \n",
    "6. Вычеркиваем число $9 = 3 \\cdot 3$, и идем далее с шагом \"три\" до конца массива, вычеркивая все числа, кратные трем.Первое после тройки невычеркнутое число, число \"пять\",будет следующим найденным нами простым числом.  \n",
    "7. Третья итерация: фиксируем число пять,последнее найденное нами простое число.  \n",
    "8. Вычеркиваем число $25 = 5 \\cdot 5$, первое невычеркнутое кратное пятерке число и идем далее с шагом \"пять\" до конца массива, вычеркивая все числа, кратные пяти.Первое после пятерки невычеркнутое число, число $7$,будет следующим найденным нами простым числом.  \n",
    "И так далее.  \n",
    "  \n",
    "**Важно!!**  \n",
    "На каждой итерации в процессе вычеркивания мы никогда не выполняем операцию взятия остатка от деления на текущее простое число, мы просто идем по массиву с заданным шагом и вычеркиваем все встретившиеся нам числа."
   ]
  },
  {
   "cell_type": "markdown",
   "metadata": {},
   "source": [
    "### Реализация алгоритма \"Решето Эратосфена\"."
   ]
  },
  {
   "cell_type": "code",
   "execution_count": 11,
   "metadata": {},
   "outputs": [],
   "source": [
    "def eratosthenes(n):\n",
    "    a = [True] * (n + 1)\n",
    "    a[0] = False\n",
    "    a[1] = False\n",
    "    p = []\n",
    "\n",
    "    for i in range(n + 1):\n",
    "        if a[i]:\n",
    "            p.append(i)\n",
    "            for j in range(i * i, n + 1, i):\n",
    "                a[j] = False\n",
    "    return p\n"
   ]
  },
  {
   "cell_type": "code",
   "execution_count": 12,
   "metadata": {},
   "outputs": [
    {
     "name": "stdout",
     "output_type": "stream",
     "text": [
      "25\n",
      "[2, 3, 5, 7, 11, 13, 17, 19, 23, 29, 31, 37, 41, 43, 47, 53, 59, 61, 67, 71, 73, 79, 83, 89, 97]\n"
     ]
    }
   ],
   "source": [
    "n = 10000\n",
    "eratosthenes(n)\n",
    "\n",
    "print(len(p))\n",
    "print(p)"
   ]
  },
  {
   "cell_type": "markdown",
   "metadata": {},
   "source": [
    "Вычислительная сложность алгоритма:  \n",
    "  \n",
    "  $O(N\\cdot \\log (\\log (N)))$"
   ]
  }
 ],
 "metadata": {
  "kernelspec": {
   "display_name": "Python 3",
   "language": "python",
   "name": "python3"
  },
  "language_info": {
   "codemirror_mode": {
    "name": "ipython",
    "version": 3
   },
   "file_extension": ".py",
   "mimetype": "text/x-python",
   "name": "python",
   "nbconvert_exporter": "python",
   "pygments_lexer": "ipython3",
   "version": "3.7.2"
  }
 },
 "nbformat": 4,
 "nbformat_minor": 2
}
