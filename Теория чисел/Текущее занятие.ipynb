{
 "cells": [
  {
   "cell_type": "code",
   "execution_count": 5,
   "metadata": {},
   "outputs": [
    {
     "name": "stdout",
     "output_type": "stream",
     "text": [
      "15\n",
      "3 0\n"
     ]
    }
   ],
   "source": [
    "n = int(input())\n",
    "k = n // 5\n",
    "if n % 5 == 0:\n",
    "    ans = (k, n % 5)\n",
    "elif n % 5 == 1:\n",
    "    ans = (k - 1, 2)\n",
    "elif n % 5 == 2:\n",
    "    ans = (k - 2, 4)\n",
    "elif n % 5 == 3:\n",
    "    ans = (k, 1)\n",
    "elif n % 5 == 4:\n",
    "    ans = (k - 1, 3)\n",
    "print(*ans)\n",
    "    \n",
    "            "
   ]
  },
  {
   "cell_type": "markdown",
   "metadata": {},
   "source": [
    "$O(1)$"
   ]
  },
  {
   "cell_type": "markdown",
   "metadata": {},
   "source": [
    "$O(N^2)$"
   ]
  },
  {
   "cell_type": "code",
   "execution_count": 15,
   "metadata": {},
   "outputs": [
    {
     "name": "stdout",
     "output_type": "stream",
     "text": [
      "30 28 26 24 22 20 18 16 14 12 10 8 6 4 2 0\n"
     ]
    }
   ],
   "source": [
    "print(*range(30, -1, -2))"
   ]
  },
  {
   "cell_type": "code",
   "execution_count": 19,
   "metadata": {},
   "outputs": [
    {
     "name": "stdout",
     "output_type": "stream",
     "text": [
      "!\n",
      "!\n",
      "?\n",
      "!\n",
      "!\n",
      "!\n"
     ]
    }
   ],
   "source": [
    "a = [1, 2, 3, 2, 5, 6, 7]\n",
    "for i in range(1, len(a)):\n",
    "    if a[i] > a[i - 1]:\n",
    "        print('!')\n",
    "    else:\n",
    "        print('?')"
   ]
  },
  {
   "cell_type": "code",
   "execution_count": null,
   "metadata": {},
   "outputs": [],
   "source": []
  }
 ],
 "metadata": {
  "kernelspec": {
   "display_name": "Python 3",
   "language": "python",
   "name": "python3"
  },
  "language_info": {
   "codemirror_mode": {
    "name": "ipython",
    "version": 3
   },
   "file_extension": ".py",
   "mimetype": "text/x-python",
   "name": "python",
   "nbconvert_exporter": "python",
   "pygments_lexer": "ipython3",
   "version": "3.7.2"
  }
 },
 "nbformat": 4,
 "nbformat_minor": 2
}
