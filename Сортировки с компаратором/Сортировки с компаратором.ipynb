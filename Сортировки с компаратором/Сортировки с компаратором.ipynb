{
 "cells": [
  {
   "cell_type": "markdown",
   "metadata": {},
   "source": [
    "## Сортировки с компаратором."
   ]
  },
  {
   "cell_type": "markdown",
   "metadata": {},
   "source": [
    "Здесь мы рассмотрим некоторые возможности встренной функции **sorted()** и точечного метода **sort()** языка программирования Python."
   ]
  },
  {
   "cell_type": "markdown",
   "metadata": {},
   "source": [
    "### Сортировка по умолчанию."
   ]
  },
  {
   "cell_type": "markdown",
   "metadata": {},
   "source": [
    "По умолчанию функция **sortrd()** и метод **sort()** сортируют по неубыванию для чисел и лексикографически для строковых переменных."
   ]
  },
  {
   "cell_type": "code",
   "execution_count": 1,
   "metadata": {},
   "outputs": [
    {
     "name": "stdout",
     "output_type": "stream",
     "text": [
      "[1, 2, 3, 6, 8]\n",
      "['eight', 'one', 'six', 'three', 'two']\n"
     ]
    }
   ],
   "source": [
    "a = [1, 8, 3, 6, 2]\n",
    "b = ['one', 'eight', 'three', 'six', 'two']\n",
    "print(sorted(a))\n",
    "print(sorted(b))"
   ]
  },
  {
   "cell_type": "code",
   "execution_count": 2,
   "metadata": {},
   "outputs": [
    {
     "name": "stdout",
     "output_type": "stream",
     "text": [
      "[1, 8, 3, 6, 2]\n",
      "['one', 'eight', 'three', 'six', 'two']\n"
     ]
    }
   ],
   "source": [
    "print(a)\n",
    "print(b)"
   ]
  },
  {
   "cell_type": "markdown",
   "metadata": {},
   "source": [
    "Функция **sorted()** создает отсортированную копию списка, сам список при этом не меняется."
   ]
  },
  {
   "cell_type": "markdown",
   "metadata": {},
   "source": [
    "Метод sort() делает исходный список отсортированным, не сохраняя первоначальную расстановку элементов списка."
   ]
  },
  {
   "cell_type": "code",
   "execution_count": 3,
   "metadata": {},
   "outputs": [
    {
     "name": "stdout",
     "output_type": "stream",
     "text": [
      "['eight', 'one', 'six', 'three', 'two']\n",
      "[1, 2, 3, 6, 8]\n"
     ]
    }
   ],
   "source": [
    "a.sort()\n",
    "b.sort()\n",
    "print(b)\n",
    "print(a)"
   ]
  },
  {
   "cell_type": "markdown",
   "metadata": {},
   "source": [
    "### Сортировка по невозрастанию."
   ]
  },
  {
   "cell_type": "markdown",
   "metadata": {},
   "source": [
    "Встроенные функция и метод имеют следующий формат:\n",
    "  \n",
    "  + **sorted(iterable, key = None, reverse = False)**  \n",
    "  + **sort(self, key=None, reverse=False)**  \n",
    "    \n",
    "Чтобы отсортировать список по невозрастанию, нужно в параметре **reverse** заменить **False** на **True**"
   ]
  },
  {
   "cell_type": "code",
   "execution_count": 4,
   "metadata": {},
   "outputs": [
    {
     "name": "stdout",
     "output_type": "stream",
     "text": [
      "[12, 8, 6, 5, 3, 2, 1]\n",
      "['x', 'w', 's', 'g', 'e']\n"
     ]
    }
   ],
   "source": [
    "c = [1, 5, 3, 8, 6, 2, 12]\n",
    "d = ['s', 'e', 'g', 'w', 'x']\n",
    "print(sorted(c, reverse= True))\n",
    "print(sorted(d, reverse= True))"
   ]
  },
  {
   "cell_type": "markdown",
   "metadata": {},
   "source": [
    "Аналогично:"
   ]
  },
  {
   "cell_type": "code",
   "execution_count": 5,
   "metadata": {},
   "outputs": [
    {
     "name": "stdout",
     "output_type": "stream",
     "text": [
      "[12, 8, 6, 5, 3, 2, 1]\n",
      "['x', 'w', 's', 'g', 'e']\n"
     ]
    }
   ],
   "source": [
    "c.sort(reverse=True)\n",
    "d.sort(reverse=True)\n",
    "print(c, d,sep='\\n')"
   ]
  },
  {
   "cell_type": "markdown",
   "metadata": {},
   "source": [
    "Решаем задачу: e-olymp -  \"Сортировки с компоратором\" - задача D."
   ]
  },
  {
   "cell_type": "code",
   "execution_count": 6,
   "metadata": {},
   "outputs": [],
   "source": [
    "pass"
   ]
  },
  {
   "cell_type": "markdown",
   "metadata": {},
   "source": [
    "### Сортировка с помощью создания вспомогательной структуры."
   ]
  },
  {
   "cell_type": "markdown",
   "metadata": {},
   "source": [
    "Решаем задачу: e-olymp - \"Сортировки с компоратором\" - задача B."
   ]
  },
  {
   "cell_type": "code",
   "execution_count": 8,
   "metadata": {},
   "outputs": [
    {
     "name": "stdout",
     "output_type": "stream",
     "text": [
      "10\n",
      "1 8\n",
      "8 9\n",
      "2 10\n",
      "1 11\n",
      "4 2\n",
      "7 23\n",
      "11 2\n",
      "23 3\n",
      "3 6\n",
      "3 4\n",
      "\n",
      "1 8\n",
      "1 11\n",
      "2 10\n",
      "3 6\n",
      "3 4\n",
      "4 2\n",
      "7 23\n",
      "8 9\n",
      "11 2\n",
      "23 3\n"
     ]
    }
   ],
   "source": [
    "n = int(input())\n",
    "a = []\n",
    "for i in range(n):\n",
    "    x, y = map(int, input().split())\n",
    "    a.append([x, i, y])\n",
    "\n",
    "a.sort()\n",
    "print()\n",
    "for i in a:\n",
    "    print(i[0], i[2])"
   ]
  },
  {
   "cell_type": "markdown",
   "metadata": {},
   "source": [
    "### Сортировка по ключу."
   ]
  },
  {
   "cell_type": "markdown",
   "metadata": {},
   "source": [
    "Решаем задачу: e-olymp - \"Сортировки с компоратором\" - задача A."
   ]
  },
  {
   "cell_type": "code",
   "execution_count": 9,
   "metadata": {},
   "outputs": [],
   "source": [
    "def g(x):\n",
    "    return x[0] + x[1], x[0]\n",
    "\n",
    "\n",
    "f = open('input.txt', 'r')\n",
    "d = []\n",
    "for line in f:\n",
    "    a, b = map(int, line.split())\n",
    "    d.append([a, b])\n",
    "\n",
    "d.sort(key=g)\n",
    "\n",
    "for i in d:\n",
    "    print(*i)"
   ]
  },
  {
   "cell_type": "markdown",
   "metadata": {},
   "source": [
    "Решаем задачу: e-olymp - \"Сортировки с компоратором\" - задача C."
   ]
  },
  {
   "cell_type": "code",
   "execution_count": 11,
   "metadata": {},
   "outputs": [
    {
     "name": "stdout",
     "output_type": "stream",
     "text": [
      "5\n",
      "0004 1\n",
      "0003 1000000000\n",
      "C3PO -17\n",
      "0002 1000000000\n",
      "0001 1000000000\n",
      "\n",
      "C3PO\n",
      "0004\n",
      "0003\n",
      "0002\n",
      "0001\n"
     ]
    }
   ],
   "source": [
    "def f(x):\n",
    "    return int(x[1])\n",
    "\n",
    "\n",
    "n = int(input())\n",
    "a = []\n",
    "for i in range(n):\n",
    "    a.append(list(input().split()))\n",
    "\n",
    "a.sort(key=f)\n",
    "print()\n",
    "for i in a:\n",
    "    print(i[0])"
   ]
  },
  {
   "cell_type": "markdown",
   "metadata": {},
   "source": [
    "Решаем задачу: e-olymp - \"Сортировки с компоратором\" - задача E: \"Сортировка точек по координатам\"."
   ]
  },
  {
   "cell_type": "markdown",
   "metadata": {},
   "source": [
    "Решение без компаратора:"
   ]
  },
  {
   "cell_type": "code",
   "execution_count": 12,
   "metadata": {},
   "outputs": [],
   "source": [
    "import sys\n",
    "input = sys.stdin.readline\n",
    "\n",
    "f = open('input.txt', 'r')\n",
    "\n",
    "a = []\n",
    "for line in f:\n",
    "    x, y = map(int, line.split())\n",
    "    a.append([x, -y])\n",
    "\n",
    "a.sort()\n",
    "for i in a:\n",
    "    print(i[0], abs(i[1]))"
   ]
  },
  {
   "cell_type": "markdown",
   "metadata": {},
   "source": [
    "Решение компаратором:"
   ]
  },
  {
   "cell_type": "code",
   "execution_count": 13,
   "metadata": {},
   "outputs": [],
   "source": [
    "import sys\n",
    "input = sys.stdin.readline\n",
    "\n",
    "\n",
    "def g(x):\n",
    "    return x[0], -x[1]\n",
    "\n",
    "\n",
    "f = open('input.txt', 'r')\n",
    "a = []\n",
    "for line in f:\n",
    "    x, y = map(int, line.split())\n",
    "    a.append([x, y])\n",
    "\n",
    "a.sort(key=g)\n",
    "for i in a:\n",
    "    print(i[0], i[1])"
   ]
  },
  {
   "cell_type": "markdown",
   "metadata": {},
   "source": [
    "Решаем задачу: e-olymp - \"Сортировки с компоратором\" - задача F: \"Сортировка людей\"."
   ]
  },
  {
   "cell_type": "code",
   "execution_count": 16,
   "metadata": {},
   "outputs": [
    {
     "ename": "ValueError",
     "evalue": "invalid literal for int() with base 10: ''",
     "output_type": "error",
     "traceback": [
      "\u001b[0;31m---------------------------------------------------------------------------\u001b[0m",
      "\u001b[0;31mValueError\u001b[0m                                Traceback (most recent call last)",
      "\u001b[0;32m<ipython-input-16-516f9d12369a>\u001b[0m in \u001b[0;36m<module>\u001b[0;34m\u001b[0m\n\u001b[1;32m      4\u001b[0m \u001b[0;34m\u001b[0m\u001b[0m\n\u001b[1;32m      5\u001b[0m \u001b[0mp\u001b[0m \u001b[0;34m=\u001b[0m \u001b[0;34m[\u001b[0m\u001b[0;34m]\u001b[0m\u001b[0;34m\u001b[0m\u001b[0;34m\u001b[0m\u001b[0m\n\u001b[0;32m----> 6\u001b[0;31m \u001b[0;32mfor\u001b[0m \u001b[0mi\u001b[0m \u001b[0;32min\u001b[0m \u001b[0mrange\u001b[0m\u001b[0;34m(\u001b[0m\u001b[0mint\u001b[0m\u001b[0;34m(\u001b[0m\u001b[0minput\u001b[0m\u001b[0;34m(\u001b[0m\u001b[0;34m)\u001b[0m\u001b[0;34m)\u001b[0m\u001b[0;34m)\u001b[0m\u001b[0;34m:\u001b[0m\u001b[0;34m\u001b[0m\u001b[0;34m\u001b[0m\u001b[0m\n\u001b[0m\u001b[1;32m      7\u001b[0m     \u001b[0ma\u001b[0m\u001b[0;34m,\u001b[0m \u001b[0mb\u001b[0m\u001b[0;34m,\u001b[0m \u001b[0mc\u001b[0m \u001b[0;34m=\u001b[0m \u001b[0minput\u001b[0m\u001b[0;34m(\u001b[0m\u001b[0;34m)\u001b[0m\u001b[0;34m.\u001b[0m\u001b[0msplit\u001b[0m\u001b[0;34m(\u001b[0m\u001b[0;34m)\u001b[0m\u001b[0;34m\u001b[0m\u001b[0;34m\u001b[0m\u001b[0m\n\u001b[1;32m      8\u001b[0m     \u001b[0mp\u001b[0m\u001b[0;34m.\u001b[0m\u001b[0mappend\u001b[0m\u001b[0;34m(\u001b[0m\u001b[0;34m(\u001b[0m\u001b[0ma\u001b[0m\u001b[0;34m,\u001b[0m \u001b[0mb\u001b[0m\u001b[0;34m,\u001b[0m \u001b[0mc\u001b[0m\u001b[0;34m)\u001b[0m\u001b[0;34m)\u001b[0m\u001b[0;34m\u001b[0m\u001b[0;34m\u001b[0m\u001b[0m\n",
      "\u001b[0;31mValueError\u001b[0m: invalid literal for int() with base 10: ''"
     ]
    }
   ],
   "source": [
    "def f(x):\n",
    "    return x[1], x[0], -int(x[2])\n",
    "\n",
    "\n",
    "p = []\n",
    "for i in range(int(input())):\n",
    "    a, b, c = input().split()\n",
    "    p.append((a, b, c))\n",
    "\n",
    "p.sort(key=f)\n",
    "for i in p:\n",
    "    print(*i)"
   ]
  },
  {
   "cell_type": "code",
   "execution_count": null,
   "metadata": {},
   "outputs": [],
   "source": []
  }
 ],
 "metadata": {
  "kernelspec": {
   "display_name": "Python 3",
   "language": "python",
   "name": "python3"
  },
  "language_info": {
   "codemirror_mode": {
    "name": "ipython",
    "version": 3
   },
   "file_extension": ".py",
   "mimetype": "text/x-python",
   "name": "python",
   "nbconvert_exporter": "python",
   "pygments_lexer": "ipython3",
   "version": "3.7.2"
  }
 },
 "nbformat": 4,
 "nbformat_minor": 2
}
