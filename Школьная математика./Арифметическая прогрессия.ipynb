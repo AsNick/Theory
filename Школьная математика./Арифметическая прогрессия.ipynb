{
 "cells": [
  {
   "cell_type": "markdown",
   "metadata": {},
   "source": [
    "**Арифмети́ческая прогре́ссия** — бесконечная числовая последовательность вида\n",
    "\n",
    "$a_{1}, a_{1} + d, a_{1} + 2 \\cdot d, \\cdots, a_{1} + (n-1) \\cdot d$  \n",
    "\n",
    "то есть последовательность чисел (членов прогрессии), в которой каждое число, начиная со второго, получается из предыдущего добавлением к нему постоянного числа $d$ (**шага**, или **разности** прогрессии):\n",
    "\n",
    "$a_{n}=a_{n-1}+d\\quad $\n"
   ]
  },
  {
   "cell_type": "markdown",
   "metadata": {},
   "source": [
    "**Примеры арифметических прогрессий:**"
   ]
  },
  {
   "cell_type": "markdown",
   "metadata": {},
   "source": [
    "$a_1 = 1, d = 2$:  $\\;\\;\\;\\;\\;1, 3, 4, 5, 7, 9, ...$"
   ]
  },
  {
   "cell_type": "markdown",
   "metadata": {},
   "source": [
    "$a_1= 1, d = 1$:  $\\;\\;\\;\\;\\;1, 1, 1, 1, 1, 1, 1, ...$"
   ]
  },
  {
   "cell_type": "markdown",
   "metadata": {},
   "source": [
    "$a_1 = 1, d = -2$:  $\\;\\;\\;\\;1, -1, -3, -5, -7, ...$"
   ]
  },
  {
   "cell_type": "markdown",
   "metadata": {},
   "source": [
    "### Свойства арифметической прогрессии."
   ]
  },
  {
   "cell_type": "markdown",
   "metadata": {},
   "source": [
    "#### 1.1 Общий член арифметической прогрессии."
   ]
  },
  {
   "cell_type": "markdown",
   "metadata": {},
   "source": [
    "Член арифметической прогрессии с номером $n$ может быть найден по формулам:\n",
    "\n",
    "$a_n=a_1+(n-1) \\cdot d$  \n",
    "\n",
    "$a_{n}=a_{m}-(m-n) \\cdot d$  \n",
    "\n",
    "где $a_{1}$ — первый член прогрессии, $d$ — её разность, $a_m$ — член арифметической прогрессии с номером $m$."
   ]
  },
  {
   "cell_type": "markdown",
   "metadata": {},
   "source": [
    "#### 1.2 Характеристическое свойство арифметической прогрессии  \n",
    "\n",
    "Последовательность $a_1, a_2, a_3, \\ldots$ есть арифметическая прогрессия $\\Leftrightarrow$ для любого её элемента выполняется условие $a_n=\\frac{a_{n-1}+a_{n+1}}2, n \\geqslant 2$."
   ]
  },
  {
   "cell_type": "code",
   "execution_count": null,
   "metadata": {},
   "outputs": [],
   "source": []
  }
 ],
 "metadata": {
  "kernelspec": {
   "display_name": "Python 3",
   "language": "python",
   "name": "python3"
  },
  "language_info": {
   "codemirror_mode": {
    "name": "ipython",
    "version": 3
   },
   "file_extension": ".py",
   "mimetype": "text/x-python",
   "name": "python",
   "nbconvert_exporter": "python",
   "pygments_lexer": "ipython3",
   "version": "3.7.2"
  }
 },
 "nbformat": 4,
 "nbformat_minor": 2
}
