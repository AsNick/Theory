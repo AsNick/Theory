{
 "cells": [
  {
   "cell_type": "markdown",
   "metadata": {},
   "source": [
    "## Двумерное динамическое программирование."
   ]
  },
  {
   "cell_type": "markdown",
   "metadata": {},
   "source": [
    "### Задача про черепашку."
   ]
  },
  {
   "cell_type": "markdown",
   "metadata": {},
   "source": [
    "Дана двумерная таблица размера $n \\times m$.  \n",
    "В левом верхнем углу таблицы находится черепашка. Это точка $start$.  \n",
    "Точка $finish$ - правая нижняя клетка таблицы.\n",
    "Черепашка может может ходить на соседние клетки строго вправо и строго вниз.\n",
    "  \n",
    "Научимся решать следующие задачи:    \n",
    "+ сколько у черепашки существует способов добраться из точки $start$ в точку $finish?$\n",
    "+ если каждый переход в соседнюю клетку чего-то стоит, найти минимальную стоимость пути из точки $start$ в точку $finish$  \n",
    "+ найти маршрут минимальной стоимости"
   ]
  },
  {
   "cell_type": "markdown",
   "metadata": {},
   "source": [
    "| start |   |   |   |   |   |   |   |        |\n",
    "|-------|---|---|---|---|---|---|---|--------|\n",
    "|       |   |   |   |   |   |   |   |        |\n",
    "|       |   |   |   |   |   |   |   |        |\n",
    "|       |   |   |   |   |   |   |   |        |\n",
    "|       |   |   |   |   |   |   |   |        |\n",
    "|       |   |   |   |   |   |   |   | finish |"
   ]
  },
  {
   "cell_type": "markdown",
   "metadata": {},
   "source": [
    "Решим задачу методом динамического программирования.  \n",
    "Заведем двумерный массив $dp[n][m]$,  в котором  $dp[i][j]$ - количество путей из клетки $start$ в клетку с координатами $(i, j)$.  \n",
    "Изначально все $dp[i][j] = 0$.  \n",
    "Решение задачи лежит в $dp[n - 1][m - 1]$"
   ]
  },
  {
   "cell_type": "code",
   "execution_count": 3,
   "metadata": {},
   "outputs": [
    {
     "name": "stdout",
     "output_type": "stream",
     "text": [
      "10 12\n"
     ]
    }
   ],
   "source": [
    "n, m = map(int, input().split())\n",
    "dp = [[0] * m for i in range(n)]"
   ]
  },
  {
   "cell_type": "markdown",
   "metadata": {},
   "source": [
    "Количество способов попасть из клетки $dp[0][0]$ в клетки $dp[0][i]$ и $dp[i][j]$ равно единице."
   ]
  },
  {
   "cell_type": "code",
   "execution_count": 4,
   "metadata": {},
   "outputs": [],
   "source": [
    "for i in range(1, m):\n",
    "    dp[0][i] = 1\n",
    "for i in range(1, n):\n",
    "    dp[i][0] = 1"
   ]
  },
  {
   "cell_type": "markdown",
   "metadata": {},
   "source": [
    "Теперь мы легко найдем решение для любой клетки (i, j):"
   ]
  },
  {
   "cell_type": "code",
   "execution_count": 5,
   "metadata": {},
   "outputs": [],
   "source": [
    "for i in range(1, n):\n",
    "    for j in range(1, m):\n",
    "        dp[i][j] = dp[i - 1][j] + dp[i][j - 1]"
   ]
  },
  {
   "cell_type": "code",
   "execution_count": 6,
   "metadata": {},
   "outputs": [
    {
     "name": "stdout",
     "output_type": "stream",
     "text": [
      "167960\n"
     ]
    }
   ],
   "source": [
    "print(dp[n - 1][m - 1])"
   ]
  },
  {
   "cell_type": "markdown",
   "metadata": {},
   "source": [
    "Решить задачу e-olimp 1704 \"Умная черепашка\" \n",
    "Решить задачу acmp 165 \"Только вправо или вниз\"\n",
    "Решить задачу acmp 120 \"Минимальный путь в таблице\""
   ]
  },
  {
   "cell_type": "markdown",
   "metadata": {},
   "source": [
    "**Нахождение пути**"
   ]
  },
  {
   "cell_type": "markdown",
   "metadata": {},
   "source": [
    "Решить задачу acmp 368 \"Маршрут\""
   ]
  },
  {
   "cell_type": "code",
   "execution_count": null,
   "metadata": {},
   "outputs": [],
   "source": []
  }
 ],
 "metadata": {
  "kernelspec": {
   "display_name": "Python 3",
   "language": "python",
   "name": "python3"
  },
  "language_info": {
   "codemirror_mode": {
    "name": "ipython",
    "version": 3
   },
   "file_extension": ".py",
   "mimetype": "text/x-python",
   "name": "python",
   "nbconvert_exporter": "python",
   "pygments_lexer": "ipython3",
   "version": "3.7.2"
  }
 },
 "nbformat": 4,
 "nbformat_minor": 2
}
