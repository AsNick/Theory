{
 "cells": [
  {
   "cell_type": "markdown",
   "metadata": {},
   "source": [
    "### 1. Задача  acmp 0156 \"Шахматы - 2\"."
   ]
  },
  {
   "cell_type": "markdown",
   "metadata": {},
   "source": [
    "Требуется найти число способов расставить на шахматной доске $N×N$ $K$ ладей так, чтобы они не били друг друга.  \n",
    "Все ладьи считаются одинаковыми, $\\left (N, K \\leq 8  \\right ) $."
   ]
  },
  {
   "cell_type": "markdown",
   "metadata": {},
   "source": [
    "#### Решение.\n"
   ]
  },
  {
   "cell_type": "markdown",
   "metadata": {},
   "source": [
    "Если $N < K$, ответ ноль.  \n",
    "\n",
    "Иначе:\n",
    "1. Количество способов поставить на доску первую ладью:  $N \\cdot N$  \n",
    "2. Количество способов поставить на доску вторую ладью: $(N - 1)\\cdot (N - 1)$  \n",
    "3. Количество способов поставить на доску вторую ладью: $(N - 2)\\cdot (N - 2)$\n",
    "2. Количество способов поставить на доску $K$-ую ладью: $(N - K + 1)\\cdot (N - K + 1)$  \n",
    "  \n",
    "  Всего способов расставить ладьи на доске, если считать ладьи различными:  \n",
    "    \n",
    "    $A_n^k \\cdot A_n^k$  \n",
    "      \n",
    "  Если все ладьи считать одинаковыми, то полученный результат нужно разделить на $P_k$:  \n",
    "    \n",
    "    $\\frac{A_n^k \\cdot A_n^k}{P_k} = C_n^k \\cdot A_n^k = \\frac{n! \\cdot n!}{k! \\cdot (n - k)! \\cdot (n - k)!}$  \n",
    "      \n",
    "   \n",
    "   $C_n^k$ - количество способов расставить $k$  ладей по $n$ горизонталям  \n",
    "   $A_n^k$ - количество способов выбрать столбцы"
   ]
  },
  {
   "cell_type": "code",
   "execution_count": 1,
   "metadata": {},
   "outputs": [
    {
     "name": "stdout",
     "output_type": "stream",
     "text": [
      "8 8\n",
      "40320\n"
     ]
    }
   ],
   "source": [
    "from math import factorial as f\n",
    " \n",
    "n, k = map(int, input().split())\n",
    "if n - k >= 0:\n",
    "    print(f(n) ** 2 // (f(k) * f(n - k) ** 2))\n",
    "else:\n",
    "    print(0)"
   ]
  },
  {
   "cell_type": "markdown",
   "metadata": {},
   "source": [
    "### 2. Задача acmp 1014 \"Обмен\"."
   ]
  },
  {
   "cell_type": "markdown",
   "metadata": {},
   "source": [
    "Дано число $N$ - количество смешариков. Нужно подсчитать количество всевозможных обменов по модулю $10^9 + 9$.  \n",
    "Смешарикам запрещается делать обмен с самим собой, таким образом, нам нужно подсчитать количество перестановок без неподвижных точек.\n",
    "Это равно субфакториалу числа $N$: $!N$."
   ]
  },
  {
   "cell_type": "markdown",
   "metadata": {},
   "source": [
    "Для вычисления субфакториала числа $N$ можно воспользоваться рекуррентным соотношением с начальными условиями:  \n",
    "  \n",
    "  ${!n={!(n-1)}\\cdot n+(-1)^{n}}$  \n",
    "  $!0 = 1$  \n",
    "  $!1 = 0$"
   ]
  },
  {
   "cell_type": "code",
   "execution_count": 3,
   "metadata": {},
   "outputs": [
    {
     "name": "stdout",
     "output_type": "stream",
     "text": [
      "4\n",
      "9\n"
     ]
    }
   ],
   "source": [
    "n = int(input())\n",
    "ans = [0] * max(3, n + 1)\n",
    "ans[0] = 1\n",
    "ans[1] = 0\n",
    "mod = 10 ** 9 + 9\n",
    "for i in range(2, n + 1):\n",
    "    ans[i] = (ans[i - 1] * i + (-1) ** i) % mod\n",
    " \n",
    "print(ans[n])"
   ]
  },
  {
   "cell_type": "markdown",
   "metadata": {},
   "source": [
    "### 3. Задача acmp 0299 \"Волейбол\"."
   ]
  },
  {
   "cell_type": "markdown",
   "metadata": {},
   "source": [
    "#### 3.1 Решение методом динамического программирования."
   ]
  },
  {
   "cell_type": "markdown",
   "metadata": {},
   "source": [
    "Играют две команды - двумерная динамика:\n",
    "\n",
    "$count[res1][res2]$ - сколькими способами можно прийти в эту позицию;  \n",
    "$count[0][0] = 1$ - начальная позиция;  \n",
    "$count[res1][res2] = count[res1 - 1][res2] + count[res1][res2 - 1]$  \n",
    "  \n",
    "  На каждой итерации для каждого слагаемого проверяем, что эта позиция допустимая и не конечная.  \n",
    "  Допустимая не конечная позиция (a, b): $0 \\leq a, 0 \\leq b, max(a, b) \\leq 24$ or $max(a, b) - min(a, b) <= 1$\n",
    "  "
   ]
  },
  {
   "cell_type": "code",
   "execution_count": 8,
   "metadata": {},
   "outputs": [
    {
     "name": "stdout",
     "output_type": "stream",
     "text": [
      "25:23\n",
      "16123801841550\n"
     ]
    }
   ],
   "source": [
    "a, b = map(int, input().split(':'))\n",
    "\n",
    "dp = [[0] * (b + 1) for i in range(a + 1)]\n",
    "dp[0][0] = 1\n",
    "\n",
    "for i in range(b + 1):\n",
    "    dp[0][i] = 1\n",
    "for i in range(a + 1):\n",
    "    dp[i][0] = 1\n",
    "for i in range(1, a + 1):\n",
    "    for j in range(1, b + 1):\n",
    "        if max(i - 1, j) <= 24 or max(i - 1, j) - min(i - 1, j) <= 1:\n",
    "            dp[i][j] += dp[i - 1][j]\n",
    "        if max(i, j - 1) <= 24 or max(i, j - 1) - min(i, j - 1) <= 1:\n",
    "            dp[i][j] += dp[i][j - 1]\n",
    "            \n",
    "print(dp[a][b])"
   ]
  },
  {
   "cell_type": "markdown",
   "metadata": {},
   "source": [
    "#### 3.2 Комбинаторное решение:"
   ]
  },
  {
   "cell_type": "markdown",
   "metadata": {},
   "source": [
    "+ (a, b) - итоговый счет\n",
    "+ winner сделал winner = max(a, b) ходов, loser сделал loser = min(a, b) ходов\n",
    "+ последний ход делает победитель\n",
    "  \n",
    "  Если winner = 25:  \n",
    "  \n",
    "+ последний ход делает winner, до этого победитель сделал winner - 1 ход, проигравший сделал loser ходов, причем эти ходы команды могут делать в любом порядке.  \n",
    "+ Сколько всего таких комбинаций?  \n",
    "  \n",
    "  $C_{winner - 1 + loser}^{loser}$  \n",
    "    "
   ]
  },
  {
   "cell_type": "code",
   "execution_count": 10,
   "metadata": {},
   "outputs": [
    {
     "name": "stdout",
     "output_type": "stream",
     "text": [
      "25:23\n",
      "16123801841550\n"
     ]
    }
   ],
   "source": [
    "from math import factorial as f\n",
    "\n",
    "a, b = map(int, input().split(':'))\n",
    "n, k = max(a, b), min(a, b)\n",
    "\n",
    "if n == 25:\n",
    "    print(f(n + k - 1) // (f(k) * f(n - 1)))"
   ]
  },
  {
   "cell_type": "markdown",
   "metadata": {},
   "source": [
    "Если winner > 25:  \n",
    "   \n",
    "+ winner -> столько ходов сделал победитель  \n",
    "+ loser = winer - 2 -> столько ходов сделал проигравший  \n",
    "  \n",
    "  Рассмотрим конкретную ситуацию, итоговый счет 30:28.  \n",
    "  Как мы можем прийти к этой позиции?  \n",
    "    \n",
    "  30:28 <- 29:28 <- 28:28 <- (27:28 or 28:27) <- 27:27 <- (27:26 or 26:27) <- 26:26 <- (25:26 or 26:25) <- 25:25 <- (24:25 or 25:24) <- 24:24  \n",
    "  \n",
    "  Сколькими способами можно прийти в позицию 24:24?  \n",
    "    \n",
    "    $C_{48}^{24}$  \n",
    "      \n",
    "  Сколькими способами можно прийти из позиции 24:24 в итоговую позицию?  \n",
    "    \n",
    "    $2^{winner - 2 - 24}$  \n",
    "      \n",
    "  Итоговый ответ:  \n",
    "    \n",
    "    $C_{48}^{24} \\cdot 2^{winner - 2 - 24}$\n",
    "  "
   ]
  },
  {
   "cell_type": "code",
   "execution_count": 11,
   "metadata": {},
   "outputs": [
    {
     "name": "stdout",
     "output_type": "stream",
     "text": [
      "40:38\n",
      "528344738743910400\n"
     ]
    }
   ],
   "source": [
    "from math import factorial as f\n",
    "\n",
    "a, b = map(int, input().split(':'))\n",
    "n, k = max(a, b), min(a, b)\n",
    "\n",
    "if n == 25:\n",
    "    print(f(n + k - 1) // (f(k) * f(n - 1)))\n",
    "else:\n",
    "    print((f(48) // f(24) ** 2) * 2 ** (n - 2 - 24))"
   ]
  }
 ],
 "metadata": {
  "kernelspec": {
   "display_name": "Python 3",
   "language": "python",
   "name": "python3"
  },
  "language_info": {
   "codemirror_mode": {
    "name": "ipython",
    "version": 3
   },
   "file_extension": ".py",
   "mimetype": "text/x-python",
   "name": "python",
   "nbconvert_exporter": "python",
   "pygments_lexer": "ipython3",
   "version": "3.7.2"
  }
 },
 "nbformat": 4,
 "nbformat_minor": 2
}
