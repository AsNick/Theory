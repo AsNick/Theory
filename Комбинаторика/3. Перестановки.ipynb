{
 "cells": [
  {
   "cell_type": "markdown",
   "metadata": {},
   "source": [
    "### Перестановки."
   ]
  },
  {
   "cell_type": "markdown",
   "metadata": {},
   "source": [
    "**Перестановкой длины $n$** называется упорядоченный набор без повторений чисел $1, 2, 3,..., n$"
   ]
  },
  {
   "cell_type": "markdown",
   "metadata": {},
   "source": [
    "Мы хотим научиться решать следующие задачи:  \n",
    "+ подсчет количества персестановок длины $n$  \n",
    "+ генерация всех перестановок длины $n$ в лексикографическом порядке  \n",
    "+ построение $k$ - ой перестановки\n",
    "+ построение следующей в лексикографическом порядке перестановки"
   ]
  },
  {
   "cell_type": "markdown",
   "metadata": {},
   "source": [
    "### 1. Подсчет количества перестановок длины $n$"
   ]
  },
  {
   "cell_type": "markdown",
   "metadata": {},
   "source": [
    "Задача подсчета количества перестановок длины $n$ решается просто, это $n!$.   \n",
    "Для вычисления факториала мы можем написать рекуррентую или рекурсивную реализацию функции factorial_   \n",
    "или применить функцию factorial из библиотеки math."
   ]
  },
  {
   "cell_type": "markdown",
   "metadata": {},
   "source": [
    "#### 1.1 Рекуррентная реализация."
   ]
  },
  {
   "cell_type": "code",
   "execution_count": 1,
   "metadata": {},
   "outputs": [
    {
     "name": "stdout",
     "output_type": "stream",
     "text": [
      "3628800\n"
     ]
    }
   ],
   "source": [
    "def f(x):\n",
    "    ans = 1\n",
    "    for i in range(1, x + 1):\n",
    "        ans *= i\n",
    "    return ans\n",
    "\n",
    "print(f(10))"
   ]
  },
  {
   "cell_type": "markdown",
   "metadata": {},
   "source": [
    "#### 1.2 Рекурсивная реализация."
   ]
  },
  {
   "cell_type": "code",
   "execution_count": 2,
   "metadata": {},
   "outputs": [
    {
     "name": "stdout",
     "output_type": "stream",
     "text": [
      "3628800\n"
     ]
    }
   ],
   "source": [
    "def f(x):\n",
    "    if x == 0:\n",
    "        return 1\n",
    "    return x * f(x - 1)\n",
    "\n",
    "\n",
    "print(f(10))"
   ]
  },
  {
   "cell_type": "markdown",
   "metadata": {},
   "source": [
    "#### 1.3 Библиотечная реализация."
   ]
  },
  {
   "cell_type": "code",
   "execution_count": 3,
   "metadata": {},
   "outputs": [
    {
     "name": "stdout",
     "output_type": "stream",
     "text": [
      "3628800\n"
     ]
    }
   ],
   "source": [
    "from math import factorial as f\n",
    "\n",
    "n = 10\n",
    "print(f(n))"
   ]
  },
  {
   "cell_type": "markdown",
   "metadata": {},
   "source": [
    "### 2. Генерация всех перстановок длины $n$ в лексикографическом порядке."
   ]
  },
  {
   "cell_type": "markdown",
   "metadata": {},
   "source": [
    "#### 2.1 Рекуррентая реализация."
   ]
  },
  {
   "cell_type": "markdown",
   "metadata": {},
   "source": [
    "Для небольших $n$ можно написать рекуррентную реализацию генерации всех перестановок длины $n$."
   ]
  },
  {
   "cell_type": "code",
   "execution_count": 4,
   "metadata": {},
   "outputs": [
    {
     "name": "stdout",
     "output_type": "stream",
     "text": [
      "1 2 3 4\n",
      "1 2 4 3\n",
      "1 3 2 4\n",
      "1 3 4 2\n",
      "1 4 2 3\n",
      "1 4 3 2\n",
      "2 1 3 4\n",
      "2 1 4 3\n",
      "2 3 1 4\n",
      "2 3 4 1\n",
      "2 4 1 3\n",
      "2 4 3 1\n",
      "3 1 2 4\n",
      "3 1 4 2\n",
      "3 2 1 4\n",
      "3 2 4 1\n",
      "3 4 1 2\n",
      "3 4 2 1\n",
      "4 1 2 3\n",
      "4 1 3 2\n",
      "4 2 1 3\n",
      "4 2 3 1\n",
      "4 3 1 2\n",
      "4 3 2 1\n"
     ]
    }
   ],
   "source": [
    "n = 4\n",
    "for i in range(1, n + 1):\n",
    "    for j in range(1, n + 1):\n",
    "        for k in range(1, n + 1):\n",
    "            for r in range(1, n + 1):\n",
    "                #if i != j and i != k and i != r and j != k and j != r and k != r:\n",
    "                if len(set([i, j, k, r])) == 4:                    \n",
    "                    print(i, j, k, r)"
   ]
  },
  {
   "cell_type": "markdown",
   "metadata": {},
   "source": [
    "Для больших $n$ код рекуррентной реализации становится громоздким и неприменимым.  \n",
    "На помощь приходит рекурсия."
   ]
  },
  {
   "cell_type": "markdown",
   "metadata": {},
   "source": [
    "#### 2.2 Рекурсивная реализация."
   ]
  },
  {
   "cell_type": "code",
   "execution_count": 5,
   "metadata": {},
   "outputs": [],
   "source": [
    "def per(s):\n",
    "    if len(s) == n:\n",
    "        print(*s)\n",
    "        return\n",
    "    for i in range(1, n + 1):\n",
    "        if used[i]:\n",
    "            continue\n",
    "        used[i] = True\n",
    "        per(s + [i])\n",
    "        used[i] = False"
   ]
  },
  {
   "cell_type": "code",
   "execution_count": 6,
   "metadata": {},
   "outputs": [],
   "source": [
    "n = 3\n",
    "used = [False] * (n + 1)"
   ]
  },
  {
   "cell_type": "code",
   "execution_count": 7,
   "metadata": {},
   "outputs": [
    {
     "name": "stdout",
     "output_type": "stream",
     "text": [
      "1 2 3\n",
      "1 3 2\n",
      "2 1 3\n",
      "2 3 1\n",
      "3 1 2\n",
      "3 2 1\n"
     ]
    }
   ],
   "source": [
    "per([])"
   ]
  },
  {
   "cell_type": "markdown",
   "metadata": {},
   "source": [
    "#### 2.3 Библиотечная реализация."
   ]
  },
  {
   "cell_type": "code",
   "execution_count": 8,
   "metadata": {},
   "outputs": [
    {
     "name": "stdout",
     "output_type": "stream",
     "text": [
      "1 2 3 4\n",
      "1 2 4 3\n",
      "1 3 2 4\n",
      "1 3 4 2\n",
      "1 4 2 3\n",
      "1 4 3 2\n",
      "2 1 3 4\n",
      "2 1 4 3\n",
      "2 3 1 4\n",
      "2 3 4 1\n",
      "2 4 1 3\n",
      "2 4 3 1\n",
      "3 1 2 4\n",
      "3 1 4 2\n",
      "3 2 1 4\n",
      "3 2 4 1\n",
      "3 4 1 2\n",
      "3 4 2 1\n",
      "4 1 2 3\n",
      "4 1 3 2\n",
      "4 2 1 3\n",
      "4 2 3 1\n",
      "4 3 1 2\n",
      "4 3 2 1\n"
     ]
    }
   ],
   "source": [
    "from itertools import permutations\n",
    "n = 4\n",
    "for i in permutations([i for i in range(1, n + 1)]):\n",
    "    print(*i)\n"
   ]
  },
  {
   "cell_type": "markdown",
   "metadata": {},
   "source": [
    "### 3. Построение следующей в лексикографическом порядке перестановки."
   ]
  },
  {
   "cell_type": "markdown",
   "metadata": {},
   "source": [
    "#### Алгоритм Нарайаны."
   ]
  },
  {
   "cell_type": "markdown",
   "metadata": {},
   "source": [
    "**Алгори́тм Нарайа́ны** — нерекурсивный алгоритм, генерирующий по данной перестановке следующую за ней перестановку (в лексикографическом порядке). Придуман индийским математиком Пандитом Нарайаной в XIV веке."
   ]
  },
  {
   "cell_type": "markdown",
   "metadata": {},
   "source": [
    "+ Шаг 1: найти такой наибольший $j$, для которого $a_j < a_{j+1}$  \n",
    "+ Шаг 2: увеличить $a_{j}$. Для этого надо найти наибольшее $l>j$, для которого $a_{l}>a_{j}$.  \n",
    "  Затем поменять местами $a_{j}$ и $a_{l}$.  \n",
    "  \n",
    "+ Шаг 3: записать последовательность $a_{j+1},...,a_{n}$ в обратном порядке."
   ]
  },
  {
   "cell_type": "markdown",
   "metadata": {},
   "source": [
    "#### Пример:"
   ]
  },
  {
   "cell_type": "markdown",
   "metadata": {},
   "source": [
    "$p = [5, 1, 4, 3, 2]$  \n",
    "$j = 1$  \n",
    "$p_j = 1$  \n",
    "$l = 4$  \n",
    "$p_l = 2$  \n",
    "меняем местами $p_j$ и $p_l$:  \n",
    "$p = [5, 2, 4, 3, 1]$  \n",
    "запишем последовательность $p_{j + 1},..., p_n$ в обратном порядке:  \n",
    "$p = [5, 2, 1, 3, 4]$\n"
   ]
  },
  {
   "cell_type": "code",
   "execution_count": 9,
   "metadata": {},
   "outputs": [],
   "source": [
    "def next_permutation(p):\n",
    "    n = len(p)\n",
    "    \n",
    "    j = n - 2\n",
    "    while p[j] > p[j + 1]:\n",
    "        j -= 1\n",
    "        \n",
    "    l = n - 1\n",
    "    while p[l] < p[j]:\n",
    "        l -= 1\n",
    "    \n",
    "    p[j], p[l] = p[l], p[j]\n",
    "    p = p[:j + 1] + p[j + 1:][::-1]\n",
    "    return p\n",
    "    "
   ]
  },
  {
   "cell_type": "code",
   "execution_count": 11,
   "metadata": {},
   "outputs": [
    {
     "name": "stdout",
     "output_type": "stream",
     "text": [
      "1 3 2\n",
      "2 1 3\n",
      "2 3 1\n",
      "3 1 2\n",
      "3 2 1\n",
      "1 2 3\n"
     ]
    }
   ],
   "source": [
    "p = [1, 2, 3]\n",
    "for i in range(6):\n",
    "    p = next_permutation(p)\n",
    "    print(*p)"
   ]
  },
  {
   "cell_type": "markdown",
   "metadata": {},
   "source": [
    "### 4. Построение предыдущей в лексикографическом порядке перестановки."
   ]
  },
  {
   "cell_type": "code",
   "execution_count": 12,
   "metadata": {},
   "outputs": [],
   "source": [
    "def previous_permutations(p):\n",
    "    n = len(p)\n",
    "    j = n - 2\n",
    "    while p[j] < p[j + 1]:\n",
    "        j -= 1\n",
    "\n",
    "    l = n - 1\n",
    "    while p[l] > p[j]:\n",
    "        l -= 1\n",
    "\n",
    "    p[j], p[l] = p[l], p[j]\n",
    "    d = p[j + 1:]\n",
    "    p = p[:j + 1] + d[::-1]\n",
    "    return p"
   ]
  }
 ],
 "metadata": {
  "kernelspec": {
   "display_name": "Python 3",
   "language": "python",
   "name": "python3"
  },
  "language_info": {
   "codemirror_mode": {
    "name": "ipython",
    "version": 3
   },
   "file_extension": ".py",
   "mimetype": "text/x-python",
   "name": "python",
   "nbconvert_exporter": "python",
   "pygments_lexer": "ipython3",
   "version": "3.7.2"
  }
 },
 "nbformat": 4,
 "nbformat_minor": 2
}
