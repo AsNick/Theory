{
 "cells": [
  {
   "cell_type": "markdown",
   "metadata": {},
   "source": [
    "### Задача K \"Волшебная перестановка\"."
   ]
  },
  {
   "cell_type": "markdown",
   "metadata": {},
   "source": [
    "Ученикам магической школы тоже приходится иметь дело с числами и массивами чисел. Одна из тем занятий – массивы- перестановки. Перестановка – это массив, составленный из $n$ различных целых чисел от $1$ до $n$ в произвольном порядке. Например, $[2,3,1,5,4]$ – перестановка, а $[1,2,2]$ **не** перестановка (2 встречается 2 раза), $[1,3,4]$ тоже не перестановка ($n = 3$, но в массиве является число $4$). Последовательность $а$ является подотрезком $b$, если $а$ может быть получена из $b$ удалением нескольких (возможно ни одного, или всех) элементов с начала и нескольких (возможно ни одного, или всех) с конца. Обозначим подотрезок как $[q, r]$, где $q, r$ – целые числа и $q ≤ r ≤ n$. Это будет подотрезок, из которого изъяли $q - 1$ элементов слева и $n - r$ справа. Для перестановки $p_1, p_2, ..., p_n$ рамочным подотрезком будет такой подотрезок из индексов $[q, r]$, в котором   \n",
    "$max {pq, pq + 1, ..., pr} – min {pq, pq + 1, ..., pr} = r – q$.   \n",
    "Например, в перестановке $(6,7,1,8,5,3,2,4)$ некоторые из рамочных подотрезков $[1,2]$, $[5,8]$, $[6,7]$, $[3,3]$, $[8 , 8]$. Так, подотрезок $[i, i]$ всегда является рамочным подотрезком для любого $i$ от $1$ до $n$ включительно. Для перестановки $p$ определим магический потенциал перестановки как количество таких пар $(q, r)$, что $1 ≤ q ≤ r ≤ n$ и $[q, r]$ является рамочным подотрезком. Например, перестановка $[3,1,2]$ имеет магический потенциал 5: все подотрезки индексов, кроме $[1,2]$ являются рамочными. Есть два целых числа $n$ и $m$. Гермиона хочет найти суммарный магический потенциал всех перестановок длины $n$ по модулю простого числа $m$.\n",
    "Обратите внимание, что всего существует $n!$ различных перестановок длины $n$."
   ]
  },
  {
   "cell_type": "markdown",
   "metadata": {},
   "source": [
    "#### 1. Решение полным перебором."
   ]
  },
  {
   "cell_type": "markdown",
   "metadata": {},
   "source": [
    "1. Переберем все перестановки длины $n$ с помощью функции permutations из библиотеки itertools&  \n",
    "2. Для каждой такой перестановки рассмотрим все срезы $[i: j + 1]$.  \n",
    "3. Для каждого среза $[i:j + 1]$ проверим, является ли он рамочным, если \"да\", увеличим на единицу магический потенциал текущей перестановки и суммарный магический потенциал всех перестановок длины $n$.  \n"
   ]
  },
  {
   "cell_type": "code",
   "execution_count": 1,
   "metadata": {},
   "outputs": [
    {
     "name": "stdout",
     "output_type": "stream",
     "text": [
      "3 993244853\n",
      "32\n"
     ]
    }
   ],
   "source": [
    "from itertools import permutations\n",
    "\n",
    "\n",
    "n, m = map(int, input().split())\n",
    "\n",
    "ans = 0\n",
    "for p in permutations([i for i in range(1, n + 1)]):\n",
    "    for i in range(n):\n",
    "        for j in range(i, n):\n",
    "            if max(p[i:j + 1]) - min(p[i:j + 1]) == j - i:\n",
    "                ans += 1\n",
    "                ans %= m\n",
    "\n",
    "print(ans % m)"
   ]
  },
  {
   "cell_type": "markdown",
   "metadata": {},
   "source": [
    "#### 2. Построение комбинаторного решения."
   ]
  },
  {
   "cell_type": "markdown",
   "metadata": {},
   "source": [
    "#### 2.1 Избавимся от цикла по p:"
   ]
  },
  {
   "cell_type": "code",
   "execution_count": 3,
   "metadata": {},
   "outputs": [],
   "source": [
    "ans = 0\n",
    "for i in range(n):\n",
    "        for j in range(i, n):\n",
    "            pass # ans += количество перестановок, в которых good(i, j)"
   ]
  },
  {
   "cell_type": "markdown",
   "metadata": {},
   "source": [
    "| 1 | 2 | 3 | 4 |  5 | 6 | 7 | 8 | 9 | 10 | 11 | 12 | 13 | 14 | 15 |\n",
    "|:-:|:-:|:-:|:-:|:--:|:-:|:-:|:-:|:-:|:--:|:--:|:--:|:--:|:--:|:--:|\n",
    "| 5 | 3 | 2 | 4 | 15 | 6 | 7 | 8 | 9 | 10 | 11 | 13 | 14 |  1 | 12 |"
   ]
  },
  {
   "cell_type": "markdown",
   "metadata": {},
   "source": [
    "$i = 6$  - левая граница среза  \n",
    "$j = 11$ - правая граница среза  \n",
    "$len = j - i + 1 = 6$ - длина среза"
   ]
  },
  {
   "cell_type": "markdown",
   "metadata": {},
   "source": [
    "Нужно найти ответы на следующие вопросы:  \n",
    "1. Сколько существует различных наборов из $len$ элементов для заполнения среза $[i:j + 1]$, таких, что $good(i, j) = True$?\n",
    "2. Сколько существует расстановок такого набора элементов внутри среза $[i:j + 1]$?  \n",
    "3. Солько существует расстановок оставшихся элементов перестановки для заполнения срезов $[1:i]$ и $[j + 1: n + 1]$?"
   ]
  },
  {
   "cell_type": "markdown",
   "metadata": {},
   "source": [
    "#### Ответы:"
   ]
  },
  {
   "cell_type": "markdown",
   "metadata": {},
   "source": [
    "1. $(n - len + 1)$\n",
    "2. $len!$\n",
    "3. $(n - len)!$"
   ]
  },
  {
   "cell_type": "markdown",
   "metadata": {},
   "source": [
    "По правилу умножения найдем количество всех перестановок, у которых $good(i, j)$:  \n",
    "  \n",
    "  $\\left (n - len + 1  \\right ) \\cdot len! \\cdot \\left (n - len  \\right )!$"
   ]
  },
  {
   "cell_type": "code",
   "execution_count": 7,
   "metadata": {},
   "outputs": [
    {
     "name": "stdout",
     "output_type": "stream",
     "text": [
      "32\n"
     ]
    }
   ],
   "source": [
    "from math import factorial as f\n",
    "\n",
    "ans = 0\n",
    "for i in range(n):\n",
    "        for j in range(i, n):\n",
    "            len_ = j - i + 1\n",
    "            ans += (f(len_) * f(n - len_) * (n - len_ + 1))\n",
    "            ans %= m\n",
    "            \n",
    "print(ans % m)"
   ]
  },
  {
   "cell_type": "markdown",
   "metadata": {},
   "source": [
    "Избавились от третьего цикла, но решение всё равно остается медленным."
   ]
  },
  {
   "cell_type": "markdown",
   "metadata": {},
   "source": [
    "#### 2.2 Избавимся от двойного цикла по i  и j, заменив их циклом по len:"
   ]
  },
  {
   "cell_type": "code",
   "execution_count": 9,
   "metadata": {},
   "outputs": [
    {
     "name": "stdout",
     "output_type": "stream",
     "text": [
      "32\n"
     ]
    }
   ],
   "source": [
    "ans = 0\n",
    "for len_ in range(1, n + 1):\n",
    "    ans += (f(len_) * f(n - len_) * (n - len_ + 1) * (n - len_ + 1))\n",
    "    ans %= m\n",
    "\n",
    "print(ans % m)"
   ]
  },
  {
   "cell_type": "markdown",
   "metadata": {},
   "source": [
    "Нехорошо каждый раз вычислять факториал с помощью библиотечной функции. Нужно за линию сделать предподсчет:"
   ]
  },
  {
   "cell_type": "code",
   "execution_count": 8,
   "metadata": {},
   "outputs": [],
   "source": [
    "f = [0] * (n + 2)\n",
    "f[0] = 1\n",
    "\n",
    "for i in range(1, n + 1):\n",
    "    f[i] = f[i - 1] * i"
   ]
  },
  {
   "cell_type": "code",
   "execution_count": 9,
   "metadata": {},
   "outputs": [
    {
     "name": "stdout",
     "output_type": "stream",
     "text": [
      "2019 993244853\n",
      "923958830\n"
     ]
    }
   ],
   "source": [
    "ans = 0\n",
    "n, m = map(int, input().split())\n",
    "for len_ in range(1, n + 1):\n",
    "    ans += (f[len_] * f[n - len_] * (n - len_ + 1) * (n - len_ + 1))\n",
    "    ans %= m\n",
    "\n",
    "print(ans % m)"
   ]
  },
  {
   "cell_type": "code",
   "execution_count": null,
   "metadata": {},
   "outputs": [],
   "source": [
    "b = set()\n",
    "for a1 in range(n + 1):\n",
    "    for a5 in range(n + 1 - a1):\n",
    "        for a10 in range(n + 1 - a1 - a5):\n",
    "            a50 = n - a1 - a5 - a10\n",
    "            if a50 >= 0:\n",
    "                x = a1 + 5 * a5 + 10 * a10 + 50 * a50\n",
    "                b.add(x)\n",
    "                    \n",
    "print(len(b))\n",
    "    "
   ]
  },
  {
   "cell_type": "code",
   "execution_count": null,
   "metadata": {},
   "outputs": [],
   "source": [
    "for x in range(n, 50 * n + 1):\n",
    "    if good(x):\n",
    "        ans += 1"
   ]
  }
 ],
 "metadata": {
  "kernelspec": {
   "display_name": "Python 3",
   "language": "python",
   "name": "python3"
  },
  "language_info": {
   "codemirror_mode": {
    "name": "ipython",
    "version": 3
   },
   "file_extension": ".py",
   "mimetype": "text/x-python",
   "name": "python",
   "nbconvert_exporter": "python",
   "pygments_lexer": "ipython3",
   "version": "3.7.2"
  }
 },
 "nbformat": 4,
 "nbformat_minor": 2
}
