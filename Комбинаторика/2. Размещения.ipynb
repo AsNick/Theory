{
 "cells": [
  {
   "cell_type": "markdown",
   "metadata": {},
   "source": [
    "### Размещения."
   ]
  },
  {
   "cell_type": "markdown",
   "metadata": {},
   "source": [
    "**Определение.**  *Размещениями* из $n$ элементов по $k$ называют любой выбор $k$ элементов, взятых в определенном порядке из $n$ элементов. Число размещений из $n$ элементов по $k$ обозначают $A_n^k$."
   ]
  },
  {
   "cell_type": "markdown",
   "metadata": {},
   "source": [
    "По правилу произведения имеем  \n",
    "  \n",
    "  $A_n^k = n \\cdot (n - 1) \\cdot (n - 2) \\cdot ... \\cdot (n - k + 1)$"
   ]
  },
  {
   "cell_type": "markdown",
   "metadata": {},
   "source": [
    "Если это выражение умножить и разделить на выражение $1 \\cdot 2 \\cdot 3 \\cdot...\\cdot (n- k)$, получим:  \n",
    "$A_n^k = \\frac{n!}{(n - k)!}$"
   ]
  }
 ],
 "metadata": {
  "kernelspec": {
   "display_name": "Python 3",
   "language": "python",
   "name": "python3"
  },
  "language_info": {
   "codemirror_mode": {
    "name": "ipython",
    "version": 3
   },
   "file_extension": ".py",
   "mimetype": "text/x-python",
   "name": "python",
   "nbconvert_exporter": "python",
   "pygments_lexer": "ipython3",
   "version": "3.7.2"
  }
 },
 "nbformat": 4,
 "nbformat_minor": 2
}
