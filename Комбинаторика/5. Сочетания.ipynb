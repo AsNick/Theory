{
 "cells": [
  {
   "cell_type": "markdown",
   "metadata": {},
   "source": [
    "### Сочетания."
   ]
  },
  {
   "cell_type": "markdown",
   "metadata": {},
   "source": [
    "В размещениях из $n$ элементов по $k$ изучаемые комбинации отличаются друг от друга либо элементами, либо из порядком, либо тем и тем. Если мы не будем различать комбинации, отличные друг от друга порядком размещения элементов, то прийдем к комбинациям, отличающимся тоько элементами."
   ]
  },
  {
   "cell_type": "markdown",
   "metadata": {},
   "source": [
    "#### Определение."
   ]
  },
  {
   "cell_type": "markdown",
   "metadata": {},
   "source": [
    "***Сочетаниями*** из $n$ элемнтов по $k$ называют любой выбор $k$ элементов, взятых из $n$ элементов."
   ]
  },
  {
   "cell_type": "markdown",
   "metadata": {},
   "source": [
    "Число сочетаний из $n$ элементов по $k$ обозначают $C_n^k$."
   ]
  },
  {
   "cell_type": "markdown",
   "metadata": {},
   "source": [
    "Из определения cочетаний следует, что они отличаются друг от друга только элементами, поэтому их еще называют ***выборками***."
   ]
  },
  {
   "cell_type": "markdown",
   "metadata": {},
   "source": [
    "Для вычисления числа $C_n^k$ поступим так. Рассмотрим размещения из $n$ элементов по $k$ и объеденим в отдельные группы такие комбинации, которые содержат $k$ одинаковых элементов и отличаются друг от друга тоько порядком этих элементов."
   ]
  },
  {
   "cell_type": "markdown",
   "metadata": {},
   "source": [
    "$a = {1, 2, 3, 4}$  \n",
    "$A_4^3 = 4 \\cdot (4 - 1) \\cdot (4 - 2) = 4 * 3 * 2 = 24$\n",
    "  \n",
    "  Выпишем все эти размещения:  \n",
    "+ без 4:  (1, 2, 3), (1, 3, 2), (2, 1, 3), (2, 3, 1), (3, 1, 2), (3, 2, 1)  \n",
    "+ без 3:  (1, 2, 4), (1, 4, 2), (2, 1, 4), (2, 4, 1), (4, 1, 2), (4, 2, 1)  \n",
    "+ без 2:  (1, 4, 3), (1, 3, 4), (4, 1, 3), (4, 3, 1), (3, 1, 4), (3, 4, 1)\n",
    "+ без 1:  (4, 2, 3), (4, 3, 2), (2, 4, 3), (2, 3, 4), (3, 4, 2), (3, 2, 4)"
   ]
  },
  {
   "cell_type": "markdown",
   "metadata": {},
   "source": [
    "В каждой группе $P_k = k!$ элементов."
   ]
  },
  {
   "cell_type": "markdown",
   "metadata": {},
   "source": [
    "Тогда  \n",
    "  \n",
    "  $C_n^k = \\frac{A_n^k}{P_k}$  $\\!$   $\\!$(1)"
   ]
  },
  {
   "cell_type": "markdown",
   "metadata": {},
   "source": [
    "Так, как $A_n^k = \\frac{n!}{(n - k)!}$ получем:  \n",
    "  \n",
    "  $C_n^k = \\frac{n!}{k! \\cdot (n - k)!}$   $\\!$ (2)"
   ]
  },
  {
   "cell_type": "markdown",
   "metadata": {},
   "source": [
    "Заменим в формуле $(2)$ число $k$ на число $n - k$:  \n",
    "  \n",
    "  $C_n^{n - k} = \\frac{n!}{(n - k)! \\cdot k!} = C_n^k$"
   ]
  },
  {
   "cell_type": "markdown",
   "metadata": {},
   "source": [
    "Получили $C_n^{n - k} = C_n^k$ $\\!$ (3)"
   ]
  },
  {
   "cell_type": "markdown",
   "metadata": {},
   "source": [
    "Равенство (3) совершенно очевидно: каждой выборке, содержащей $k$ элементов из имеющихся $n$, соответствует выборка из $(n - k)$ оставшихся элементов."
   ]
  },
  {
   "cell_type": "markdown",
   "metadata": {},
   "source": [
    "**Задача 1.**  \n",
    "  \n",
    "  В классе 25 учеников. Сколькими способами можно из них выбрать четырех учащихся для дежурства на вечере?"
   ]
  },
  {
   "cell_type": "markdown",
   "metadata": {},
   "source": [
    "***Решение:***  \n",
    "  \n",
    "  Ответ равен $C_{25}^4 = \\frac{25 \\cdot \\ 24 \\cdot 23 \\cdot 22}{1 \\cdot 2 \\cdot 3 \\cdot 4} = 12650$"
   ]
  },
  {
   "cell_type": "code",
   "execution_count": null,
   "metadata": {},
   "outputs": [],
   "source": []
  }
 ],
 "metadata": {
  "kernelspec": {
   "display_name": "Python 3",
   "language": "python",
   "name": "python3"
  },
  "language_info": {
   "codemirror_mode": {
    "name": "ipython",
    "version": 3
   },
   "file_extension": ".py",
   "mimetype": "text/x-python",
   "name": "python",
   "nbconvert_exporter": "python",
   "pygments_lexer": "ipython3",
   "version": "3.7.2"
  }
 },
 "nbformat": 4,
 "nbformat_minor": 2
}
