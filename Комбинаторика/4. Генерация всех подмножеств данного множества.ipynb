{
 "cells": [
  {
   "cell_type": "markdown",
   "metadata": {},
   "source": [
    "### Генерация всех подмножеств данного множества."
   ]
  },
  {
   "cell_type": "markdown",
   "metadata": {},
   "source": [
    "#### Пример 1.  \n",
    "  \n",
    "  Дано множество $A = \\left \\{1, 3, 5, 2 \\right \\}$  \n",
    "  Перечислим все его подмножества и ответим на вопрос, сколько всего существует подмножеств данного множества:  \n",
    "  \n",
    "  Пустое множество:$\\left \\{ \\varnothing  \\right \\}$  \n",
    "  Одноэлементные подмножества: $\\left \\{ 1 \\right \\}, \\left \\{2 \\right \\}, \\left \\{3 \\right \\}, \\left \\{5\\right \\}$  \n",
    "  Двухэлементные подмножества: $\\left \\{ 1, 2 \\right \\},\\left \\{1, 3 \\right \\},\\left \\{1, 5 \\right \\},\\left \\{2, 3 \\right \\},\\left \\{2, 5 \\right \\},\\left \\{3, 5 \\right \\}$  \n",
    "  Трехэлементные подмножества:  $\\left \\{1, 2, 3 \\right \\}, \\left \\{ 1, 2, 5 \\right \\}, \\left \\{ 1, 3, 5 \\right \\},\\left \\{2, 3, 5 \\right \\}$  \n",
    "  Четырехэлементное подмножество:  $\\left \\{1, 2, 3, 5 \\right \\}$   \n",
    "  \n",
    "  Всего подмножеств - 16 или $2^N$, где $N$ - количество элементов в множестве $A$.\n",
    "  \n",
    "  \n",
    "  \n"
   ]
  },
  {
   "cell_type": "markdown",
   "metadata": {},
   "source": [
    "Подмножество  $N$ -элементного множества задается  **маской** - строкой из  $N$  цифр $0$ или $1$. Задача перебора всех подмножеств заключается в том, что надо вывести их все, причем в **лексикографическом порядке**."
   ]
  },
  {
   "cell_type": "markdown",
   "metadata": {},
   "source": [
    "#### 1. Генерация всех битовых масок длины $N$.  \n",
    "  \n",
    "  Есть несколько способов генерации всех битовых масок длины $N$:"
   ]
  },
  {
   "cell_type": "markdown",
   "metadata": {},
   "source": [
    "+ 1.1 Напечатать все числа от $0$ до $2^N-1$ в двоичном представлении.\n",
    "+ 1.2 Рекурсивный перебор.\n",
    "+ 1.3 Библиотечный метод."
   ]
  },
  {
   "cell_type": "markdown",
   "metadata": {},
   "source": [
    "#### 1.1  Все числа от $0$ до $2^N - 1$ в двоичном представлении:"
   ]
  },
  {
   "cell_type": "code",
   "execution_count": 1,
   "metadata": {},
   "outputs": [
    {
     "name": "stdout",
     "output_type": "stream",
     "text": [
      "0000\n",
      "0001\n",
      "0010\n",
      "0011\n",
      "0100\n",
      "0101\n",
      "0110\n",
      "0111\n",
      "1000\n",
      "1001\n",
      "1010\n",
      "1011\n",
      "1100\n",
      "1101\n",
      "1110\n",
      "1111\n"
     ]
    }
   ],
   "source": [
    "n = 4\n",
    "for i in range(2 ** n):\n",
    "    print(bin(i)[2:].zfill(n))"
   ]
  },
  {
   "cell_type": "markdown",
   "metadata": {},
   "source": [
    "#### 1.2 Рекурсивный способ генерации всех битовых масок длины $N$ в лексикографическом порядке:"
   ]
  },
  {
   "cell_type": "code",
   "execution_count": 16,
   "metadata": {},
   "outputs": [],
   "source": [
    "pass"
   ]
  },
  {
   "cell_type": "markdown",
   "metadata": {},
   "source": [
    "#### 1.3 Библиотечный метод."
   ]
  },
  {
   "cell_type": "code",
   "execution_count": 2,
   "metadata": {},
   "outputs": [
    {
     "name": "stdout",
     "output_type": "stream",
     "text": [
      "0000\n",
      "0001\n",
      "0010\n",
      "0011\n",
      "0100\n",
      "0101\n",
      "0110\n",
      "0111\n",
      "1000\n",
      "1001\n",
      "1010\n",
      "1011\n",
      "1100\n",
      "1101\n",
      "1110\n",
      "1111\n"
     ]
    }
   ],
   "source": [
    "from itertools import product\n",
    "\n",
    "for i in product('01', repeat=n):\n",
    "    print(''.join(i))\n"
   ]
  },
  {
   "cell_type": "code",
   "execution_count": null,
   "metadata": {},
   "outputs": [],
   "source": []
  }
 ],
 "metadata": {
  "kernelspec": {
   "display_name": "Python 3",
   "language": "python",
   "name": "python3"
  },
  "language_info": {
   "codemirror_mode": {
    "name": "ipython",
    "version": 3
   },
   "file_extension": ".py",
   "mimetype": "text/x-python",
   "name": "python",
   "nbconvert_exporter": "python",
   "pygments_lexer": "ipython3",
   "version": "3.7.2"
  }
 },
 "nbformat": 4,
 "nbformat_minor": 2
}
