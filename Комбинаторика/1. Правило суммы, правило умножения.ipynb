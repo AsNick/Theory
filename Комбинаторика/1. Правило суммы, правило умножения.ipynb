{
 "cells": [
  {
   "cell_type": "markdown",
   "metadata": {},
   "source": [
    "### 1. Правило суммы."
   ]
  },
  {
   "cell_type": "markdown",
   "metadata": {},
   "source": [
    "Если элемент $a$ можно выбрать $m$ способами, а элемент $b$ - $n$ способами, причем любой выбор элемента $a$ отличен от любого выбора элемента $b$, то выбор $a$ или $b$ можно сделать $m + n$ способами."
   ]
  },
  {
   "cell_type": "markdown",
   "metadata": {},
   "source": [
    "На языке теории множеств это правило формулируется следующим образом:"
   ]
  },
  {
   "cell_type": "markdown",
   "metadata": {},
   "source": [
    "#### Теорема 1.  \n",
    "Если пересечение конечных множеств $A$ и $B$ пусто, то число элементов в их объединении равно сумме чисел элементов множеств $A$ и $B$:  \n",
    "if $A \\cap B = \\varnothing$ $\\Rightarrow$ $n(A \\bigcup B) = n(a) + n(B)$"
   ]
  },
  {
   "cell_type": "markdown",
   "metadata": {},
   "source": [
    "#### Следствие 1."
   ]
  },
  {
   "cell_type": "markdown",
   "metadata": {},
   "source": [
    "Если конечные множества $A_1, A_2,..., A_k$ попарно не пересекаются, то имеет место равенство  \n",
    "  \n",
    "  $n(A_1 \\cup A_2 \\cup...\\cup A_k) = n(A_1) + n(A_2) +...+ n(A_k)$"
   ]
  },
  {
   "cell_type": "markdown",
   "metadata": {},
   "source": [
    "### 2. Правило произведения."
   ]
  },
  {
   "cell_type": "markdown",
   "metadata": {},
   "source": [
    "Пусть множество $A$ состоит из элементов $(a_1, a_2, a_3,...,a_m)$ и множество $B$ из элементов $(b_1, b_2, b_3,...,b_n)$. Пусть из множества $A$ выбирается любой из его $m$ элементов и из множества $B$ выбирается любой из его $n$ элементов. Выбранные элементы образуют пару $(a_i, b_j)$, где $a_i \\in A, b_j \\in B$. Обшее число пар равно $m \\cdot n$, т.е.  \n",
    "  \n",
    "  $N = n(A)\\cdot n(B)$"
   ]
  },
  {
   "cell_type": "markdown",
   "metadata": {},
   "source": [
    "#### Теорема 2."
   ]
  },
  {
   "cell_type": "markdown",
   "metadata": {},
   "source": [
    "Если множества $A$ и $B$ конечны, то число $N$ всевозможных пар $(a, b)$, $a \\in A, b \\in B$ равно произведению чисел этих множеств:  \n",
    "\n",
    "$N = n(A) \\cdot n(B)$"
   ]
  },
  {
   "cell_type": "markdown",
   "metadata": {},
   "source": [
    "#### Следствие 2."
   ]
  },
  {
   "cell_type": "markdown",
   "metadata": {},
   "source": [
    "Если имеется $k$ конечных множеств $A_1, A_2,...A_k$, то число $N$ всевозможных наборов  \n",
    "$(a_1, a_2,..., a_k)$, где $a_1 \\in A_1, a_2 \\in A_2,..., a_k \\in A_k$, равно  \n",
    "  \n",
    "  $N = n(A_1) \\cdot n(A_2) \\cdot...\\cdot n(A_k)$"
   ]
  }
 ],
 "metadata": {
  "kernelspec": {
   "display_name": "Python 3",
   "language": "python",
   "name": "python3"
  },
  "language_info": {
   "codemirror_mode": {
    "name": "ipython",
    "version": 3
   },
   "file_extension": ".py",
   "mimetype": "text/x-python",
   "name": "python",
   "nbconvert_exporter": "python",
   "pygments_lexer": "ipython3",
   "version": "3.7.2"
  }
 },
 "nbformat": 4,
 "nbformat_minor": 2
}
