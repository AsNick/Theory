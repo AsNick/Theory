{
 "cells": [
  {
   "cell_type": "markdown",
   "metadata": {},
   "source": [
    "## Наибольбшая возрастающая подпоследовательность (НВП)"
   ]
  },
  {
   "cell_type": "markdown",
   "metadata": {},
   "source": [
    "### Постановка задачи:"
   ]
  },
  {
   "cell_type": "markdown",
   "metadata": {},
   "source": [
    "**Дан** массив чисел длины $n:$   \n",
    "  \n",
    "  $a = [a_1, a_2, a_3, ..., a_{n-1}, a_n]$  \n",
    "  \n",
    "**Требуется** найти в этой последовательности строго возрастающую подпоследовательность наибольшей длины.  \n",
    "  \n",
    "**Формально** это выглядит следующим образом: требуется найти такую последовательность индексов $i_1 \\ldots i_k$, что:\n",
    "\n",
    " $i_1 < i_2 < \\ldots < i_k$,  \n",
    " $a[i_1] < a[i_2] < \\ldots < a[i_k]$.   \n",
    "   \n",
    " **Пример:**  \n",
    "   \n",
    "   $a = [3, 5, 4, 1, 8]$\n",
    "   \n",
    "   Видно, что сама последовательность $a$ длины $5$ не является строго возрастающей.  \n",
    "   Любая подпоследовательность последовательности $a$ длины $4$ так же не является строго возрастающей (таких подпоследовательностей у нас 5).  \n",
    "   Среди подпоследовательностей длины $3$ (их у нас 10) уже можно найти строго возрастающие:  \n",
    "     \n",
    "  $[a_1, a_2, a_5]$ -> $[3, 5, 8]$ и   $[a_1, a_3, a_5]$ -> $[3, 4, 8]$\n",
    "      "
   ]
  },
  {
   "cell_type": "markdown",
   "metadata": {},
   "source": [
    "### Решение  за $O(n^2)$: метод динамического программирования.\n",
    "\n",
    "Научимся сначала искать **длину** наидлиннейшей возрастающей подпоследовательности, а восстановлением  \n",
    "самой подпоследовательности займёмся чуть позже.  \n",
    "    \n",
    "Заведем массив $dp$ длины $n$, в котором $dp[i]$ - длина наибольшей возрастающей подпоследовательности,  \n",
    "заканчивающаяся элементом $a[i]$.  \n",
    "  \n",
    "Итак, пусть текущий индекс — $i$, т.е. мы хотим посчитать значение $dp[i]$, а все предыдущие значения $dp[0] \n",
    "\\ldots dp[i-1]$ уже подсчитаны. Тогда заметим, что у нас есть два варианта:\n",
    "\n",
    "либо $dp[i] = 1$, т.е. искомая подпоследовательность состоит только из числа $a[i]$.\n",
    "либо $dp[i] > 1$. Тогда перед числом $a[i]$ в искомой подпоследовательности стоит какое-то другое число. Давайте переберём это число: это может быть любой элемент $a[j] (j = 0 \\ldots i-1)$, но такой, что $a[j] < a[i]$. Пусть мы рассматриваем какой-то текущий индекс $j$. Поскольку динамика $dp[j]$ для него уже подсчитана, получается, что это число $a[j]$ вместе с числом $a[i]$ даёт ответ $dp[j] + 1$. Таким образом, $dp[i]$ можно считать по такой формуле:  \n",
    "  \n",
    "$dp[i] = max(dp[j] + 1)$  \n",
    "  \n",
    "где $0\\leq j < i$ и $a[j] < a[i]$  \n",
    "  "
   ]
  },
  {
   "cell_type": "code",
   "execution_count": 6,
   "metadata": {},
   "outputs": [
    {
     "name": "stdout",
     "output_type": "stream",
     "text": [
      "3 5 2 7 1 8 23 4 6\n"
     ]
    }
   ],
   "source": [
    "a = list(map(int, input().split()))\n",
    "n = len(a)\n",
    "dp = [1] * n\n",
    "\n",
    "for i in range(1, n):\n",
    "    for j in range(i):\n",
    "        if a[j] < a[i]:\n",
    "            dp[i] = max(dp[i], dp[j] + 1)\n"
   ]
  },
  {
   "cell_type": "code",
   "execution_count": 7,
   "metadata": {},
   "outputs": [
    {
     "name": "stdout",
     "output_type": "stream",
     "text": [
      "[1, 2, 1, 3, 1, 4, 5, 2, 3]\n"
     ]
    }
   ],
   "source": [
    "print(dp)"
   ]
  },
  {
   "cell_type": "code",
   "execution_count": 8,
   "metadata": {},
   "outputs": [
    {
     "name": "stdout",
     "output_type": "stream",
     "text": [
      "5\n"
     ]
    }
   ],
   "source": [
    "print(max(dp))"
   ]
  },
  {
   "cell_type": "code",
   "execution_count": 14,
   "metadata": {},
   "outputs": [
    {
     "ename": "SyntaxError",
     "evalue": "invalid syntax (<ipython-input-14-af441399911f>, line 8)",
     "output_type": "error",
     "traceback": [
      "\u001b[0;36m  File \u001b[0;32m\"<ipython-input-14-af441399911f>\"\u001b[0;36m, line \u001b[0;32m8\u001b[0m\n\u001b[0;31m    d[i] = max(d[i], d[j] + 1) if a[j] < a[i])\u001b[0m\n\u001b[0m                                             ^\u001b[0m\n\u001b[0;31mSyntaxError\u001b[0m\u001b[0;31m:\u001b[0m invalid syntax\n"
     ]
    }
   ],
   "source": [
    "n = int(input())\n",
    "*a, = map(int, input().split())\n",
    "d = [1] * n\n",
    "\n",
    "i = 1\n",
    "while n - i:\n",
    "    for j in range(i):\n",
    "        if a[j] < a[i]:\n",
    "            d[i] = max(d[i], d[j] + 1)\n",
    "    i += 1\n",
    " \n",
    "print(max(d))"
   ]
  },
  {
   "cell_type": "code",
   "execution_count": null,
   "metadata": {},
   "outputs": [],
   "source": []
  }
 ],
 "metadata": {
  "kernelspec": {
   "display_name": "Python 3",
   "language": "python",
   "name": "python3"
  },
  "language_info": {
   "codemirror_mode": {
    "name": "ipython",
    "version": 3
   },
   "file_extension": ".py",
   "mimetype": "text/x-python",
   "name": "python",
   "nbconvert_exporter": "python",
   "pygments_lexer": "ipython3",
   "version": "3.7.2"
  }
 },
 "nbformat": 4,
 "nbformat_minor": 2
}
