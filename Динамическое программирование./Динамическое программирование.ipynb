{
 "cells": [
  {
   "cell_type": "markdown",
   "metadata": {},
   "source": [
    "### Метод динамического программирования. Основные идеи и правила. "
   ]
  },
  {
   "cell_type": "markdown",
   "metadata": {},
   "source": [
    "Основная идея метода динамического программирования состоит в том, чтобы:\n",
    "\n",
    "    - свести задачу для  N  к задаче для чисел, меньших, чем  N  (с помощью формулы)\n",
    "    - хранить все ответы в массиве \n",
    "    - заполнить начало массива вручную (для которых формула не работает)\n",
    "    - обойти массив и заполнить ответы по формуле\n",
    "    - вывести ответ откуда-то из этого массива  \n",
    "    \n",
    "Чтобы решить задачу по динамике вы должны ответить на 5 вопросов:\n",
    "\n",
    "    - Что лежит в массиве dp? (самый важный вопрос чаще всего)  \n",
    "    - Как инициализировать начало массива?\n",
    "    - Как обходить массив? (чаще всего слева направо, но не всегда)\n",
    "    - Какой формулой считать элементы массива?\n",
    "    - Где в массиве лежит ответ?"
   ]
  },
  {
   "cell_type": "markdown",
   "metadata": {},
   "source": [
    "### Разбор задач."
   ]
  },
  {
   "cell_type": "markdown",
   "metadata": {},
   "source": [
    "#### 1. Числа Фибоначчи."
   ]
  },
  {
   "cell_type": "markdown",
   "metadata": {},
   "source": [
    "Нужно найти число Фибоначчи с номером $N$.  \n",
    "\n",
    "Схема решения:\n",
    "1. Заведем массив $F$ длины $n+1$. Изначально он заполнен нулями.  \n",
    "2. Что лежит в мвссиве: в ячейке с номером $i$ находится $i-ое$ число Фибоначчи.  \n",
    "3. Инициализация массива: $F[0] = 0, F[1] = 1$ (по определению).  \n",
    "4. Рекуррентное соотношение (связь задачи с большим номером с уже решенными задачами с меньшими номерами):  \n",
    "    $F[i] = F[i - 1] + F[i - 2]$  \n",
    "5. Заполняем последовательно массив $F$. \n",
    "6. Ответ лежит в $F[n].$\n",
    "    \n",
    "\n"
   ]
  },
  {
   "cell_type": "code",
   "execution_count": 1,
   "metadata": {},
   "outputs": [
    {
     "name": "stdout",
     "output_type": "stream",
     "text": [
      "10\n",
      "55\n"
     ]
    }
   ],
   "source": [
    "n = int(input())\n",
    "f = [0] * (n + 1)\n",
    "f[1] = 1\n",
    "for i in range(2, n + 1):\n",
    "    f[i] = f[i - 1] + f[i - 2]\n",
    "\n",
    "print(f[n])\n"
   ]
  },
  {
   "cell_type": "markdown",
   "metadata": {},
   "source": [
    "**2. Задача acmp 680 \"Садовник-художник\".** \n"
   ]
  },
  {
   "cell_type": "markdown",
   "metadata": {},
   "source": [
    "*Комбинаторное решение.*"
   ]
  },
  {
   "cell_type": "code",
   "execution_count": null,
   "metadata": {},
   "outputs": [],
   "source": [
    "n = int(input())\n",
    "print(3 * 2 ** (n -1))"
   ]
  },
  {
   "cell_type": "markdown",
   "metadata": {},
   "source": [
    "*Решение методом динамического программирования.*"
   ]
  },
  {
   "cell_type": "code",
   "execution_count": 1,
   "metadata": {},
   "outputs": [
    {
     "name": "stdout",
     "output_type": "stream",
     "text": [
      "10\n",
      "1536\n"
     ]
    }
   ],
   "source": [
    "n = int(input())\n",
    "dp = [0] * (n + 1)\n",
    "dp[1] = 3\n",
    "for i in range(2, n + 1):\n",
    "    dp[i] = 2 * dp[i - 1]\n",
    "    \n",
    "print(dp[n])"
   ]
  },
  {
   "cell_type": "markdown",
   "metadata": {},
   "source": [
    "**3. Задача про кузнечика.**  \n",
    "e-olymp 4051"
   ]
  },
  {
   "cell_type": "markdown",
   "metadata": {},
   "source": [
    "План решения.  \n",
    "  \n",
    "1. Заведем массив $dp$ длины $n + 1$.\n",
    "2. $dp[i]$ - количество способов добраться до позиции $i$ из позиции $1$.  \n",
    "3. Вручную решим несколько первых задач, найдем закономерность и сконструируем реккурентное соотношение:  \n",
    "  \n",
    "    $dp[i] = 2 \\cdot dp[i - 1]$ if $i \\leq k + 1$  \n",
    "    $dp[i] = sum(dp[i - k:i])$  if $i > k + 1$   \n",
    "    \n",
    "       \n",
    "4. Заполним массив $dp$\n",
    "5. Ответ лежит в $dp[n]$"
   ]
  },
  {
   "cell_type": "code",
   "execution_count": 5,
   "metadata": {},
   "outputs": [
    {
     "name": "stdout",
     "output_type": "stream",
     "text": [
      "8 2\n",
      "21\n"
     ]
    }
   ],
   "source": [
    "n, k = map(int, input().split())\n",
    "dp = [0] * (n + 1)\n",
    "dp[1] = 1\n",
    "if n > 1:\n",
    "    dp[2] = 1\n",
    "    for i in range(3, n + 1):\n",
    "        if i <= k + 1:\n",
    "            dp[i] = 2 * dp[i - 1]\n",
    "        else:\n",
    "            dp[i] = sum(dp[i - k:i])\n",
    "\n",
    "print(dp[n])\n"
   ]
  }
 ],
 "metadata": {
  "kernelspec": {
   "display_name": "Python 3",
   "language": "python",
   "name": "python3"
  },
  "language_info": {
   "codemirror_mode": {
    "name": "ipython",
    "version": 3
   },
   "file_extension": ".py",
   "mimetype": "text/x-python",
   "name": "python",
   "nbconvert_exporter": "python",
   "pygments_lexer": "ipython3",
   "version": "3.7.2"
  }
 },
 "nbformat": 4,
 "nbformat_minor": 2
}
