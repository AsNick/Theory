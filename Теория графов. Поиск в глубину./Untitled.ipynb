{
 "cells": [
  {
   "cell_type": "markdown",
   "metadata": {},
   "source": [
    "## Теория графов. Поиск в глубину.  "
   ]
  },
  {
   "cell_type": "markdown",
   "metadata": {},
   "source": [
    "### Определение.  \n",
    "Dfs (depth first search, поиск в глубину) - один из способов обхода графа. Здесь и далее речь будет идти о работе с неориентированными графами."
   ]
  },
  {
   "cell_type": "markdown",
   "metadata": {},
   "source": [
    "### Реализация.   \n",
    "Для реализации необходимо написать функцию **dfs(v, used)**, которая принимает вершину v и информацию о посещенных вершинах **used**, и обходит все ранее не посещенные вершины, до которых можно добраться из **v**. Для проверки того, была ли посещена вершина, достаточно завести массив **used**, в котором при каждом входе в очередную вершину отмечать соответствующее значение единичкой.\n",
    "\n",
    "Таким образом, весь **dfs** может быть реализован следующим образом:"
   ]
  },
  {
   "cell_type": "code",
   "execution_count": 1,
   "metadata": {},
   "outputs": [],
   "source": [
    "def dfs(v):\n",
    "    used[v] = 1\n",
    "    for to in g[v]:\n",
    "        if not used[to]:\n",
    "            dfs(to)"
   ]
  },
  {
   "cell_type": "markdown",
   "metadata": {},
   "source": [
    "#### Задание №1.    \n",
    "  Для графа на рисунке ниже (см. рис. 3), вручную определить какие из ребер будут образовывать ориентированное дерево, а какие вести в предка после вызова dfs(1). Учитывать, что вершины в списках смежности  𝑔[𝑣]  идут в порядке слева направо на рисунке (например  𝑔[3]=[7,10,6] )."
   ]
  },
  {
   "cell_type": "markdown",
   "metadata": {},
   "source": [
    "#### Решение №1.  \n",
    "##### Список ребер, образующих ориентированное дерево:  \n",
    "  \n",
    "  $[1, 3], [3, 7], [3, 10], [10, 6], [1, 8], [8, 4], [1, 2], [2, 5], [2, 9]$  \n",
    "    \n",
    "##### Список рёбер, ведущих в предка после вызова  dfs(1):  \n",
    "  \n",
    "  $[3, 6], [1, 6], [1, 4]$"
   ]
  },
  {
   "cell_type": "markdown",
   "metadata": {},
   "source": [
    "#### Задание №2.  \n",
    "Реализовать функцию **dfs** и проверить на графе из рисунка 3, правильность типа каждого ребра после вызовы **dfs(1)**."
   ]
  },
  {
   "cell_type": "markdown",
   "metadata": {},
   "source": [
    "##### Описание графа.  \n",
    "\n",
    "1. Зададим граф **g** з списком смежности.  \n",
    "  \n",
    "  $g = [[3, 6, 8, 4, 2], [1, 5, 9], [1, 7, 10, 6], [8, 1], [2], [10, 3, 1], [3], [1, 4], [2], [3, 6]]$\n"
   ]
  },
  {
   "cell_type": "code",
   "execution_count": 21,
   "metadata": {},
   "outputs": [],
   "source": [
    "g = [[3, 6, 8, 4, 2], [1, 5, 9], [1, 7, 10, 6], [8, 1], [2], [10, 3, 1], [3], [1, 4], [2], [3, 6]]"
   ]
  },
  {
   "cell_type": "markdown",
   "metadata": {},
   "source": [
    "2. Модернизируем наш dfs для поставленной задачи."
   ]
  },
  {
   "cell_type": "code",
   "execution_count": 22,
   "metadata": {},
   "outputs": [],
   "source": [
    "def dfs(v):\n",
    "    used[v - 1] = 1\n",
    "    for to in g[v - 1]:\n",
    "        if not used[to - 1]:\n",
    "            type1.append((v, to))\n",
    "            h[to - 1] = h[v - 1] + 1\n",
    "            dfs(to)\n",
    "        else:\n",
    "            #if [v, to] not in type1 and [to, v] not in type1 and [v, to] not in type2 and [to, v] not in type2:\n",
    "            if h[to - 1] > h[v - 1]:\n",
    "                type2.append((to, v))"
   ]
  },
  {
   "cell_type": "code",
   "execution_count": 23,
   "metadata": {},
   "outputs": [
    {
     "name": "stdout",
     "output_type": "stream",
     "text": [
      "[(1, 3), (3, 7), (3, 10), (10, 6), (1, 8), (8, 4), (1, 2), (2, 5), (2, 9)]\n",
      "[(6, 3), (6, 1), (4, 1)]\n"
     ]
    }
   ],
   "source": [
    "n = 10\n",
    "used = [0] * n\n",
    "type1 = []\n",
    "type2 = []\n",
    "h = [-1] * n\n",
    "dfs(1)\n",
    "print(type1, type2, sep='\\n')\n",
    "\n"
   ]
  },
  {
   "cell_type": "markdown",
   "metadata": {},
   "source": [
    "### Задача e-olymp 0978 \"Получи дерево\"."
   ]
  },
  {
   "cell_type": "code",
   "execution_count": null,
   "metadata": {},
   "outputs": [],
   "source": []
  }
 ],
 "metadata": {
  "kernelspec": {
   "display_name": "Python 3",
   "language": "python",
   "name": "python3"
  },
  "language_info": {
   "codemirror_mode": {
    "name": "ipython",
    "version": 3
   },
   "file_extension": ".py",
   "mimetype": "text/x-python",
   "name": "python",
   "nbconvert_exporter": "python",
   "pygments_lexer": "ipython3",
   "version": "3.7.2"
  }
 },
 "nbformat": 4,
 "nbformat_minor": 2
}
