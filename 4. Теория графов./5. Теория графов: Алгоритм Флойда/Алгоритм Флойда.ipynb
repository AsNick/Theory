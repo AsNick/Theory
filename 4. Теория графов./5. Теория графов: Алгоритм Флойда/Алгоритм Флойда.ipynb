{
 "cells": [
  {
   "cell_type": "markdown",
   "metadata": {},
   "source": [
    "### Теория графов. Алгоритм Флойда."
   ]
  },
  {
   "cell_type": "markdown",
   "metadata": {},
   "source": [
    "#### Важные определения."
   ]
  },
  {
   "cell_type": "markdown",
   "metadata": {},
   "source": [
    "$1$. ***Путь*** - это такая последовательность вершин $v_0,v_1,...,v_{k-1}$, $(1 \\leq k)$, что между каждой парой соседних вершин $v_i, v_{i+1}$ $(0 \\leq i <  k - 1)$  существует ребро.  \n",
    "  \n",
    "$2$. ***Цикл*** - это путь, у которого $v_0 = v_{k-1}$.   \n",
    "  \n",
    "$3$. ***Простой путь*** - это путь, все вершины которого попарно различны.  \n",
    "  \n",
    "$4$. ***Простой цикл*** - это цикл, с единственной парой одинаковых вершин $v_0=v_{k-1}$.  \n",
    "  \n",
    "$5$. ***Промежуточными вершинами пути*** называются все вершины, кроме первой и последней: $v_1, v_2,..., v_{k - 2}$. \n",
    "  \n",
    "$6^*$. Простой путь из $a$ в $b$ - это простой путь в случае когда $a \\neq b$, и простой цикл иначе, при этом $v_0 = a,v_{k-1} = b$.\n",
    "  \n",
    "  \n"
   ]
  },
  {
   "cell_type": "markdown",
   "metadata": {},
   "source": [
    "$7$. Весом пути называется сумма весов всех ребер пути, т.е. $\\sum_{i = 0}^{k - 2}a[v_i][v_{i + 1}]$, где $a[u][v]$ означает вес ребра между вершинами $u$ и $v$.\n"
   ]
  },
  {
   "attachments": {
    "graph%20%2812%29.png": {
     "image/png": "[encoded data removed]"
    }
   },
   "cell_type": "markdown",
   "metadata": {},
   "source": [
    "![graph%20%2812%29.png](attachment:graph%20%2812%29.png)"
   ]
  },
  {
   "cell_type": "markdown",
   "metadata": {},
   "source": [
    "**Задание** $№\\, 1^*.$ На заданном графе  выписать все существующие пути."
   ]
  },
  {
   "cell_type": "markdown",
   "metadata": {},
   "source": [
    "**Решение:**"
   ]
  },
  {
   "cell_type": "markdown",
   "metadata": {},
   "source": [
    "Выписать **все** пути не представляется возможным, их бесконечное количество, так как в графе есть цикл $0 \\rightarrow 2 \\rightarrow 3 \\rightarrow 0$ и ходить по нему можно сколько угодно раз.   \n",
    "  \n",
    "Если в неориентированном графе есть хотя-бы одно ребро, ходить по нему вперед - назад можно сколько угодно раз.\n"
   ]
  },
  {
   "cell_type": "markdown",
   "metadata": {},
   "source": [
    "**Задание** $№\\, 2^*$. На заданном графе выписать все существующие циклы.  \n"
   ]
  },
  {
   "cell_type": "markdown",
   "metadata": {},
   "source": [
    "**Решение:**"
   ]
  },
  {
   "cell_type": "markdown",
   "metadata": {},
   "source": [
    "Исходя из определения цикла, и наличия четырех ребер в нашем графе, получаем, что циклов в графе №$1$ бесконечно много."
   ]
  },
  {
   "cell_type": "markdown",
   "metadata": {},
   "source": [
    "**Задание** $№\\,3.$ На заданном графе выписать все существующие простые пути.\n"
   ]
  },
  {
   "cell_type": "markdown",
   "metadata": {},
   "source": [
    "**Решение:**"
   ]
  },
  {
   "cell_type": "markdown",
   "metadata": {},
   "source": [
    "$1$. Все простые пути состоящие из одного ребра:  \n",
    "   + $(1, 0), (0, 1), (0, 2), (2, 0), (0, 3), (3, 0), (2, 3), (3, 2)$  \n",
    "   \n",
    "$2$. Все простые пути, состоящие из двух рёбер:  \n",
    "   + $(1, 0, 2), (2, 0, 1), (1, 0, 3), (3, 0, 1), (0, 2, 3), (3, 2, 0), (0, 3, 2), (2, 3, 0), (2, 0, 3), (3, 0, 2)$  \n",
    "\n",
    "$3$. Все простые пути, состоящие из трёх рёбер:  \n",
    "   + $(1, 0, 2, 3), (1, 0, 3, 2), (2, 3, 0, 1), (3, 2, 0, 1)$"
   ]
  },
  {
   "cell_type": "markdown",
   "metadata": {},
   "source": [
    "**Задание** $№\\,4.$ На заданном графе выписать все существующие простые циклы."
   ]
  },
  {
   "cell_type": "markdown",
   "metadata": {},
   "source": [
    "**Решение:**"
   ]
  },
  {
   "cell_type": "markdown",
   "metadata": {},
   "source": [
    "+ $(1, 0, 1), (0, 1, 0), (0, 2, 0), (2, 0, 2), (0, 3, 0), (3, 0, 3), (2, 3, 2), (3, 2, 3)$  \n",
    "+ $(0, 2, 3, 0), (0, 3, 2, 0), (2, 0, 3, 2), (2, 3, 0, 2), (3, 2, 0, 3), (3, 0, 2, 3)$\n"
   ]
  },
  {
   "cell_type": "markdown",
   "metadata": {},
   "source": [
    "### 1. Нахождение матрицы кратчайших расстояний с помощью алгоритма Флойда.\n"
   ]
  },
  {
   "cell_type": "markdown",
   "metadata": {},
   "source": [
    "#### 1.1 Постановка задачи.\n"
   ]
  },
  {
   "cell_type": "markdown",
   "metadata": {},
   "source": [
    "Пусть граф задан с помощью матрицы смежности, т.е. $g[u][v]$ означает длину ребра из вершины $u$ в $v$  \n",
    "(при этом для любой вершины $v$ выполняется $g[v][v]=0$, а в случае отсутствия ребра $(u,v)$, значение $g[u][v] = \\infty $.  \n",
    "При этом известно, что в заданном графе отсутствуют *циклы отрицательного веса*.\n"
   ]
  },
  {
   "cell_type": "markdown",
   "metadata": {},
   "source": [
    "Необходимо вычислить матрицу кратчайших расстояний $d$,   \n",
    "где $d[u][v]$ будет означать длину кратчайшего пути из вершины $u$ в вершину $v$  \n",
    "(в случае, когда пути из $u$ в $v$ не существует, значение $d[u][v]$ должно быть равно $\\infty$).\n"
   ]
  },
  {
   "cell_type": "markdown",
   "metadata": {},
   "source": [
    "#### 1.2 Алгоритм Флойда."
   ]
  },
  {
   "cell_type": "markdown",
   "metadata": {},
   "source": [
    "Заметим, что в случае отсутствия в графе циклов отрицательного веса, длина кратчайшего *пути* из вершины $u$ в $v$ равна длине кратчайшего *простого пути* из $u$ в $v$. Действительно если в кратчайшем пути какая-то вершина присутствует два раза, то участок пути от первого вхождения этой вершины до последнего образует цикл и вносит неотрицательный вклад в итоговую длину пути, а значит этот участок можно удалить:\n"
   ]
  },
  {
   "cell_type": "markdown",
   "metadata": {},
   "source": [
    "$v_0,v_1,...,v_x = A, v_{x+1},v_y = A,v_{y+1},v_{y+2},...,v_k $ \n",
    "\n",
    "$v_0,v_1,...,v_x = A,v_{y+1},v_{y+2},...,v_k$\n"
   ]
  },
  {
   "cell_type": "markdown",
   "metadata": {},
   "source": [
    "Таким образом, задача нахождения кратчайшего пути между всеми парами вершин свелась к задаче нахождения кратчайшего простого пути между всеми парами вершин.\n"
   ]
  },
  {
   "cell_type": "markdown",
   "metadata": {},
   "source": [
    "**Задание** $№\\, 5.$ Вычислите длину пути из вершины $1$ в вершину $3:\\,\\,\\,$ $1 \\rightarrow 0 \\rightarrow 2 \\rightarrow 0\\rightarrow 1\\rightarrow 0 \\rightarrow 3$. Затем преобразуйте этот путь так, чтобы он стал простым путем. Вычислите длину нового пути и убедитесь, что она уменьшилась."
   ]
  },
  {
   "cell_type": "markdown",
   "metadata": {},
   "source": [
    "#### Решение."
   ]
  },
  {
   "cell_type": "markdown",
   "metadata": {},
   "source": [
    "Длина пути $1 \\rightarrow 0 \\rightarrow 2 \\rightarrow 0\\rightarrow 1\\rightarrow 0 \\rightarrow 3$ равна: $3 + 7 + 7 + 3 + 3 + 50 = 73$  \n",
    "  \n",
    "Сделаем путь простым:  \n",
    "$1 \\rightarrow 0 \\rightarrow 3$  \n",
    "\n",
    "Длина простого пути из вершины $1$ в вершину $3$ равна $3 + 50 = 53$\n"
   ]
  },
  {
   "cell_type": "markdown",
   "metadata": {},
   "source": [
    "**Построение решения.**  \n",
    "**Step 1.**"
   ]
  },
  {
   "cell_type": "markdown",
   "metadata": {},
   "source": [
    "Введем вспомогательную величину $d_S[u][v]$ - минимальная длина пути из $u$ в $v$ среди тех путей, у которых все промежуточные вершины принадлежат множеству $S$."
   ]
  },
  {
   "cell_type": "markdown",
   "metadata": {},
   "source": [
    "Для удобства, обозначим множество всех таких путей как $paths_S[u][v]$,  \n",
    "тогда $d_S[u][v] = min(length(path))$, $path \\in  paths_S[u][v]$"
   ]
  },
  {
   "cell_type": "markdown",
   "metadata": {},
   "source": [
    "**Задание** $№\\,6.$ Выписать все простые пути, у которых все промежуточные вершины принадлежат множеству $S = \\left \\{ \\, \\right \\}$  (пустое множество).\n"
   ]
  },
  {
   "cell_type": "markdown",
   "metadata": {},
   "source": [
    "**Решение:**"
   ]
  },
  {
   "cell_type": "markdown",
   "metadata": {},
   "source": [
    "$(0), (1), (2), (3), (1, 0), (0, 1), (0, 2), (2, 0), (0, 3), (3, 0), (3, 2), (2, 3)$"
   ]
  },
  {
   "cell_type": "markdown",
   "metadata": {},
   "source": [
    "**Задание** $№\\,7.1$ Выписать все простые пути, у которых все промежуточные вершины принадлежат множеству $S=\\left \\{0  \\right \\}$."
   ]
  },
  {
   "cell_type": "markdown",
   "metadata": {},
   "source": [
    "**Решение:**"
   ]
  },
  {
   "cell_type": "markdown",
   "metadata": {},
   "source": [
    "$(1, 0, 2), (2, 0, 1), (1, 0, 3), (3, 0, 1), (2, 0, 3), (3, 0, 2), (1, 0), (0, 1), (0, 2), (2, 0), (0, 3), (3, 0), (3, 2), (2, 3)$"
   ]
  },
  {
   "cell_type": "markdown",
   "metadata": {},
   "source": [
    "**Задание** $№\\,7.2.$ Выписать все простые циклы, у которых все промежуточные вершины принадлежат множеству $S=\\left \\{0  \\right \\}$.\n"
   ]
  },
  {
   "cell_type": "markdown",
   "metadata": {},
   "source": [
    "**Решение:**"
   ]
  },
  {
   "cell_type": "markdown",
   "metadata": {},
   "source": [
    "$(1, 0, 1), (2, 0, 2), (3, 0, 3)$"
   ]
  },
  {
   "cell_type": "markdown",
   "metadata": {},
   "source": [
    "**Задание** $№\\,8.1.$ Выписать все простые пути, у которых все промежуточные вершины принадлежат множеству $S=\\left \\{0, 1  \\right \\}$."
   ]
  },
  {
   "cell_type": "markdown",
   "metadata": {},
   "source": [
    "**Решение:**"
   ]
  },
  {
   "cell_type": "markdown",
   "metadata": {},
   "source": [
    "$(1, 0, 2), (2, 0, 1), (1, 0, 3), (3, 0, 1), (2, 0, 3), (3, 0, 2), (1, 0), (0, 1), (0, 2), (2, 0), (0, 3), (3, 0), (3, 2), (2, 3)$"
   ]
  },
  {
   "cell_type": "markdown",
   "metadata": {},
   "source": [
    "**Задание** $№\\,8.2.$ Выписать все простые циклы, у которых все промежуточные вершины принадлежат множеству $S=\\left \\{0, 1  \\right \\}$."
   ]
  },
  {
   "cell_type": "markdown",
   "metadata": {},
   "source": [
    "**Решение:**"
   ]
  },
  {
   "cell_type": "markdown",
   "metadata": {},
   "source": [
    "$(1, 0, 1), (2, 0, 2), (3, 0, 3), (0, 1, 0)$"
   ]
  },
  {
   "cell_type": "markdown",
   "metadata": {},
   "source": [
    "**Задание** $№\\,9.1$. Выписать все простые пути, у которых все промежуточные вершины принадлежат множеству $S = \\left \\{0, 1, 2  \\right \\}$."
   ]
  },
  {
   "cell_type": "markdown",
   "metadata": {},
   "source": [
    "**Решение:**"
   ]
  },
  {
   "cell_type": "markdown",
   "metadata": {},
   "source": [
    "$(1, 0), (0, 1), (0, 3), (3, 0), (0, 2), (2, 0), (2, 3), (3, 2), (1, 0, 3), (3, 0, 1), (1, 0, 2), (2, 0, 1), (2, 0, 3), (3, 0, 2), (0, 2, 3), (3, 2, 0), (1, 0, 2, 3), (3, 2, 0, 1)$ "
   ]
  },
  {
   "cell_type": "markdown",
   "metadata": {},
   "source": [
    "**Задание** $№\\,9.2.$ Выписать все простые циклы, у которых все промежуточные вершины принадлежат множеству $S = \\left \\{0, 1, 2  \\right \\}$.\n"
   ]
  },
  {
   "cell_type": "markdown",
   "metadata": {},
   "source": [
    "**Решение:**"
   ]
  },
  {
   "cell_type": "markdown",
   "metadata": {},
   "source": [
    "$(1,0,1), (2,0,2), (3,0,3), (0,1,0), (0, 2, 0), (3, 2, 3), (3, 2, 0, 3), (3, 0, 2, 3)$"
   ]
  },
  {
   "cell_type": "markdown",
   "metadata": {},
   "source": [
    "**Задание** №$\\,10$. Вручную вычислить матрицу $d_{\\left \\{\\,  \\right \\}}[u][v]$, используя выписанные ранее пути в задании $№\\,6$.\n"
   ]
  },
  {
   "cell_type": "markdown",
   "metadata": {},
   "source": [
    "$(1, 0), (0, 1), (0, 2), (2, 0), (0, 3), (3, 0), (3, 2), (2, 3)$"
   ]
  },
  {
   "cell_type": "markdown",
   "metadata": {},
   "source": [
    "$d_{\\left \\{  \\right \\}}[u][v]$ =   $\\begin{pmatrix}\n",
    " 0&  3&  7& 50& \\\\ \n",
    " 3&  0&  \\infty& \\infty&\\\\ \n",
    " 7&  \\infty&  0& 10&\\\\ \n",
    " 50& \\infty &  10& 0&\n",
    "\\end{pmatrix}$"
   ]
  },
  {
   "cell_type": "markdown",
   "metadata": {},
   "source": [
    "**Задание** №$\\,11.$ Вручную вычислить матрицу $d_{\\left \\{ 0 \\right \\}}[u][v]$, используя выписанные ранее пути в заданиях $№\\,6, №\\,7$.\n"
   ]
  },
  {
   "cell_type": "markdown",
   "metadata": {},
   "source": [
    "**Решение:**  \n",
    "  \n",
    "Найденные ранее простые пути: "
   ]
  },
  {
   "cell_type": "markdown",
   "metadata": {},
   "source": [
    "$(1, 0), (0, 1), (0, 2), (2, 0), (0, 3), (3, 0), (3, 2), (2, 3), (1, 0, 2), (2, 0, 1), (1, 0, 3), (3, 0, 1), (2, 0, 3), (3, 0, 2)$"
   ]
  },
  {
   "cell_type": "markdown",
   "metadata": {},
   "source": [
    "$d_{\\left \\{ 0 \\right \\}}[u][v]$ =   $\\begin{pmatrix}\n",
    " 0&  3&  7& 50& \\\\ \n",
    " 3&  0&  10& 53&\\\\ \n",
    " 7&  10&  0& 10&\\\\ \n",
    " 50& 53&  10& 0&\n",
    "\\end{pmatrix}$"
   ]
  },
  {
   "cell_type": "markdown",
   "metadata": {},
   "source": [
    "**Задание** №$\\,12.$ Вручную вычислить матрицу $d_{\\left \\{ 0, 1 \\right \\}}[u][v]$, используя выписанные ранее пути в заданиях $№\\,6, №\\,7, №\\,8$."
   ]
  },
  {
   "cell_type": "markdown",
   "metadata": {},
   "source": [
    "**Решение:**  \n",
    "  \n",
    "Найденные ранее простые пути: "
   ]
  },
  {
   "cell_type": "markdown",
   "metadata": {},
   "source": [
    "$(1, 0), (0, 1), (0, 2), (2, 0), (0, 3), (3, 0), (3, 2), (2, 3), (1, 0, 2), (2, 0, 1), (1, 0, 3), (3, 0, 1), (2, 0, 3), (3, 0, 2)$"
   ]
  },
  {
   "cell_type": "markdown",
   "metadata": {},
   "source": [
    "С добавлением вершины $1$ в множество промежуточных вершин  новых простых путей не появилось, соответственно матрица расстояний осталась прежней."
   ]
  },
  {
   "cell_type": "markdown",
   "metadata": {},
   "source": [
    "$d_{\\left \\{ 0, 1 \\right \\}}[u][v]$ =   $\\begin{pmatrix}\n",
    " 0&  3&  7& 50& \\\\ \n",
    " 3&  0&  10& 53&\\\\ \n",
    " 7&  10&  0& 10&\\\\ \n",
    " 50& 53&  10& 0&\n",
    "\\end{pmatrix}$"
   ]
  },
  {
   "cell_type": "markdown",
   "metadata": {},
   "source": [
    "**Задание**  №$\\,13.$ Вручную вычислить матрицу $d_{\\left \\{ 0, 1, 2 \\right \\}}[u][v]$, используя выписанные ранее пути в заданиях $№\\,6, №\\,7, №\\,8, №\\,9$."
   ]
  },
  {
   "cell_type": "markdown",
   "metadata": {},
   "source": [
    "**Решение:**  \n",
    "  \n",
    "Найденные ранее простые пути при $S = \\left \\{0, 1, 2  \\right \\}$: "
   ]
  },
  {
   "cell_type": "markdown",
   "metadata": {},
   "source": [
    "$(1, 0), (0, 1), (0, 3), (3, 0), (0, 2), (2, 0), (2, 3), (3, 2), (1, 0, 3), (3, 0, 1), (1, 0, 2), (2, 0, 1), (2, 0, 3), (3, 0, 2), (0, 2, 3), (3, 2, 0), (1, 0, 2, 3), (3, 2, 0, 1)$ "
   ]
  },
  {
   "cell_type": "markdown",
   "metadata": {},
   "source": [
    "Добавились новые простые пути:  \n",
    "\n",
    "$(0, 2, 3), (3, 2, 0), (1, 0, 2, 3), (3, 2, 0, 1)$\n",
    "\n",
    "Пути $(0, 2, 3)$ и $(3, 2, 0)$ дают улучшение, $17$ вместо $50$.  \n",
    "Пути $(1, 0, 2, 3)$ и $(3, 2, 0, 1)$ так же дают улучшение, $20$ вместо $53$.  \n",
    "Итоговая матрица примет вид:"
   ]
  },
  {
   "cell_type": "markdown",
   "metadata": {},
   "source": [
    "$d_{\\left \\{ 0, 1, 2 \\right \\}}[u][v]$ =   $\\begin{pmatrix}\n",
    " 0&  3&  7& 17& \\\\ \n",
    " 3&  0&  10& 20&\\\\ \n",
    " 7&  10&  0& 10&\\\\ \n",
    " 17& 20&  10& 0&\n",
    "\\end{pmatrix}$"
   ]
  },
  {
   "cell_type": "markdown",
   "metadata": {},
   "source": [
    "#### 1.3 Вычисление вспомогательной матрицы $d_S$."
   ]
  },
  {
   "cell_type": "markdown",
   "metadata": {},
   "source": [
    "Заметим, что $d_{\\left \\{ \\, \\right \\}}[u][v] = g[u][v]$, поскольку существует только один путь из $u$ в $v$, не содержащий промежуточных вершин (путь из одного ребра $(u, v)$).\n"
   ]
  },
  {
   "cell_type": "markdown",
   "metadata": {},
   "source": [
    "Посмотрим, как можно вычислить матрицу значений $d_{S \\, \\cup \\, \\{k\\}}[u][v]$.  \n",
    "  \n",
    "Для этого рассмотрим два случая:  "
   ]
  },
  {
   "cell_type": "markdown",
   "metadata": {},
   "source": [
    "$1$. Кратчайший путь из $paths_{S \\,\\cup \\{k\\}}[u][v]$ не содержит вершину $k$.  \n",
    "  \n",
    "В таком случае $d_{S \\,\\cup \\{k\\}}[u][v]=d_S[u][v]$, поскольку все промежуточные вершины могут принадлежать только множеству $S$.\n",
    "  "
   ]
  },
  {
   "cell_type": "markdown",
   "metadata": {},
   "source": [
    "$2$. Кратчайший путь из $paths_{S \\,\\cup \\{k\\}}[u][v]$ содержит вершину $k$.  \n",
    "  \n",
    "  В таком случае этот путь разбивается на два участка: простой путь от $u$ до $k$, и простой путь от $k$ до $v$.  \n",
    "  Но поскольку на всем пути вершина $k$ встречалась ровно один раз, то в каждом из двух участков все промежуточные вершины могут принадлежать только множеству $S$.  \n",
    "  В таком случае, $d_{S \\,\\cup \\{k\\}}[u][v]=d_S[u][k]+d_S[k][v]$.\n"
   ]
  },
  {
   "cell_type": "markdown",
   "metadata": {},
   "source": [
    "Объединяя эти два случая, получаем формулу для вычисления $d_{S \\,\\cup \\{k\\}}[u][v]$:\n"
   ]
  },
  {
   "cell_type": "markdown",
   "metadata": {},
   "source": [
    "$d_{S \\,\\cup \\{k\\}}[u][v]=min(d_S[u][v],d_S[u][k]+d_S[k][v])$.\n"
   ]
  },
  {
   "cell_type": "markdown",
   "metadata": {},
   "source": [
    "Заметим, что длина кратчайшего пути из $u$ в $v$ по определению равна $d_{\\{0, 1,...n - 1\\}}[u][v]$,  \n",
    "поэтому для нахождения матрицы кратчайших расстояний достаточно вычислить матрицу   \n",
    "$d_{\\{0, 1,...n - 1\\}}$.  \n",
    "Будем вычислять ее итеративно, начиная с $d_{\\{\\}}$, и поочередно добавляя к текущему множеству вершин $S$ очередную вершину $k$ (начиная от $k=0$, заканчивая вершиной $k=n-1$).\n"
   ]
  },
  {
   "cell_type": "markdown",
   "metadata": {},
   "source": [
    "**Задание** №$\\,14$. Реализовать алгоритм вычисления $d_S$. Для этого завести трехмерный массив $d$ размера $(n + 1)\\times n \\times n$,  \n",
    "при этом $d_0$ должно соответствовать матрице $d_{\\{\\}}$, $d_1$ - матрице $d_{\\{0\\}}$, …, $d_n$ - матрице $d_{\\{0, 1...n - 1\\}}$.  \n",
    "\n",
    "Вывести все $n+1$ матриц и убедиться, что матрицы $d_0$, $d_1$,$d_2$,$d_3$ совпадают с найденными в заданиях $№\\,8-№\\,11$ матрицами $d_{\\{\\}}$,$d_{\\{0\\}}$, $d_{\\{0, 1\\}}$, $d_{\\{0, 1, 2\\}}$."
   ]
  },
  {
   "cell_type": "code",
   "execution_count": 1,
   "metadata": {},
   "outputs": [],
   "source": [
    "n = 4\n",
    "INF = 1000\n",
    "g = [[INF] * n for i in range(n)]\n",
    "g[0][1], g[1][0] = 3, 3\n",
    "g[0][3], g[3][0] = 50, 50\n",
    "g[0][2], g[2][0] = 7, 7\n",
    "g[2][3], g[3][2] = 10, 10\n",
    "\n",
    "for i in range(n):\n",
    "    g[i][i] = 0"
   ]
  },
  {
   "cell_type": "code",
   "execution_count": 2,
   "metadata": {},
   "outputs": [],
   "source": [
    "from copy import deepcopy\n",
    "\n",
    "d = [[[None] * n for i in range(n)] for i in range(n + 1)]\n",
    "d[0] = deepcopy(g)\n",
    "\n",
    "for k in range(n):\n",
    "    for u in range(n):\n",
    "        for v in range(n):\n",
    "            d[k + 1][u][v] = min(d[k][u][v], d[k][u][k] + d[k][k][v])"
   ]
  },
  {
   "cell_type": "code",
   "execution_count": 3,
   "metadata": {},
   "outputs": [],
   "source": [
    "def write(x):\n",
    "    for row in x:\n",
    "        print(row)"
   ]
  },
  {
   "cell_type": "code",
   "execution_count": 4,
   "metadata": {},
   "outputs": [
    {
     "name": "stdout",
     "output_type": "stream",
     "text": [
      "[0, 3, 7, 50]\n",
      "[3, 0, 1000, 1000]\n",
      "[7, 1000, 0, 10]\n",
      "[50, 1000, 10, 0]\n",
      "\n",
      "[0, 3, 7, 50]\n",
      "[3, 0, 10, 53]\n",
      "[7, 10, 0, 10]\n",
      "[50, 53, 10, 0]\n",
      "\n",
      "[0, 3, 7, 50]\n",
      "[3, 0, 10, 53]\n",
      "[7, 10, 0, 10]\n",
      "[50, 53, 10, 0]\n",
      "\n",
      "[0, 3, 7, 17]\n",
      "[3, 0, 10, 20]\n",
      "[7, 10, 0, 10]\n",
      "[17, 20, 10, 0]\n",
      "\n",
      "[0, 3, 7, 17]\n",
      "[3, 0, 10, 20]\n",
      "[7, 10, 0, 10]\n",
      "[17, 20, 10, 0]\n",
      "\n"
     ]
    }
   ],
   "source": [
    "for k in range(n + 1):\n",
    "    write(d[k])\n",
    "    print()"
   ]
  },
  {
   "cell_type": "markdown",
   "metadata": {},
   "source": [
    "#### 1.4 Удобный способ реализации алгоритма Флойда."
   ]
  },
  {
   "cell_type": "markdown",
   "metadata": {},
   "source": [
    "Можно заметить, что хранение всех $n + 1$ матриц на самом деле не нужно, поскольку для вычисления следующей нужно знать только предыдущую. Более того, обновлять значения текущей матрицы $d_S$ можно прямо в ней же, поскольку обновленные значения никак не будут использоваться для обновления следующих значений.  \n",
    "\n",
    "Поэтому для получения матрицы $d_{S \\,\\cup \\{k\\}}$ из $d_S$ достаточно сделать следующий двойной цикл:\n"
   ]
  },
  {
   "cell_type": "code",
   "execution_count": 5,
   "metadata": {},
   "outputs": [],
   "source": [
    "k = 0\n",
    "for u in range(n):\n",
    "    for v in range(n):\n",
    "        d[u][v] = min(d[u][v], d[u][k] + d[k][v])"
   ]
  },
  {
   "cell_type": "markdown",
   "metadata": {},
   "source": [
    "и так по всем вершинам с номером $k$:"
   ]
  },
  {
   "cell_type": "code",
   "execution_count": 6,
   "metadata": {},
   "outputs": [],
   "source": [
    "for k in range(n):\n",
    "    for u in range(n):\n",
    "        for v in range(n):\n",
    "            d[u][v] = min(d[u][v], d[u][k] + d[k][v])"
   ]
  },
  {
   "cell_type": "markdown",
   "metadata": {},
   "source": [
    "**Задание** №$\\,15$. Реализовать алгоритм вычисления $d_S$ используя всего лишь одну матрицу $d$. На каждой итерации вывести полученные промежуточные матрицы и убедиться, что результат совпадает с результатом в задании №$10$."
   ]
  },
  {
   "cell_type": "code",
   "execution_count": 7,
   "metadata": {},
   "outputs": [],
   "source": [
    "n = 4\n",
    "INF = 1000\n",
    "g = [[INF] * n for i in range(n)]\n",
    "g[0][1], g[1][0] = 3, 3\n",
    "g[0][3], g[3][0] = 50, 50\n",
    "g[0][2], g[2][0] = 7, 7\n",
    "g[2][3], g[3][2] = 10, 10\n",
    "\n",
    "for i in range(n):\n",
    "    g[i][i] = 0\n",
    "\n",
    "d = deepcopy(g)"
   ]
  },
  {
   "cell_type": "code",
   "execution_count": 8,
   "metadata": {},
   "outputs": [
    {
     "name": "stdout",
     "output_type": "stream",
     "text": [
      "[0, 3, 7, 50]\n",
      "[3, 0, 10, 53]\n",
      "[7, 10, 0, 10]\n",
      "[50, 53, 10, 0]\n",
      "\n",
      "[0, 3, 7, 50]\n",
      "[3, 0, 10, 53]\n",
      "[7, 10, 0, 10]\n",
      "[50, 53, 10, 0]\n",
      "\n",
      "[0, 3, 7, 17]\n",
      "[3, 0, 10, 20]\n",
      "[7, 10, 0, 10]\n",
      "[17, 20, 10, 0]\n",
      "\n",
      "[0, 3, 7, 17]\n",
      "[3, 0, 10, 20]\n",
      "[7, 10, 0, 10]\n",
      "[17, 20, 10, 0]\n",
      "\n"
     ]
    }
   ],
   "source": [
    "for k in range(n):\n",
    "    for u in range(n):\n",
    "        for v in range(n):\n",
    "            d[u][v] = min(d[u][v], d[u][k] + d[k][v])\n",
    "    write(d)\n",
    "    print()"
   ]
  },
  {
   "cell_type": "markdown",
   "metadata": {},
   "source": [
    "**Задание** №$\\,16$. Сдать первые $4$ задачи из курса acmp: \n",
    "\n",
    "https://acmp.ru/asp/do/index.asp?main=section&id_course=2&id_section=32"
   ]
  },
  {
   "cell_type": "markdown",
   "metadata": {},
   "source": [
    "**Задание** №$\\,17$. Сдать задачу https://codeforces.com/contest/295/problem/B.\n"
   ]
  },
  {
   "cell_type": "markdown",
   "metadata": {},
   "source": [
    "### 2. Нахождения цикла отрицательного веса."
   ]
  },
  {
   "cell_type": "markdown",
   "metadata": {},
   "source": [
    "Заметим, что в случае наличия в графе цикла отрицательного веса, обязательно существует простой цикл отрицательного веса. Действительно, если в цикле отрицательного веса какая-то промежуточная вершина присутствует два раза, то участок пути от первого вхождения этой вершины до последнего либо образует цикл отрицательного веса (в таком случае все можно оставить только этот участок пути), либо образует цикл \tнеотрицательного веса, а значит вносит не отрицательный вклад в итоговую длину пути и его можно удалить:\n"
   ]
  },
  {
   "cell_type": "markdown",
   "metadata": {},
   "source": [
    "1. $v_0, v_1,...,v_x = A, v_{x+1},v_y = A, v_{y+1}, v_{y+2},...,v_k$  \n",
    "\n",
    "$\\;\\;\\;\\;\\;v_x = A, v_{x+1},... ,v_y = A$\n"
   ]
  },
  {
   "cell_type": "markdown",
   "metadata": {},
   "source": [
    "2. $v_0,v_1,...,v_x = A, v_{x+1},v_y = A, v_{y+1},v_{y+2},...,v_k$ \n",
    "\n",
    "$\\;\\;\\;\\;v_0,v_1,...,v_x = A,v_{y+1},v_{y+2},...,v_k$\n"
   ]
  },
  {
   "attachments": {
    "graph%20%2813%29.png": {
     "image/png": "[encoded data removed]"
    }
   },
   "cell_type": "markdown",
   "metadata": {},
   "source": [
    "![graph%20%2813%29.png](attachment:graph%20%2813%29.png)"
   ]
  },
  {
   "cell_type": "markdown",
   "metadata": {},
   "source": [
    "**Задание** №$18$. Вычислите длину цикла, начинающегося и заканчивающегося в вершине $0$:  \n",
    "  \n",
    "  $0\\rightarrow1\\rightarrow2\\rightarrow3\\rightarrow4\\rightarrow5\\rightarrow2\\rightarrow6\\rightarrow1\\rightarrow2\\rightarrow6\\rightarrow0$"
   ]
  },
  {
   "cell_type": "markdown",
   "metadata": {},
   "source": [
    "**Решение.**"
   ]
  },
  {
   "cell_type": "markdown",
   "metadata": {},
   "source": [
    "TODO"
   ]
  },
  {
   "cell_type": "markdown",
   "metadata": {},
   "source": [
    "18.1 Последовательно преобразуйте этот цикл так, чтобы он стал простым циклом (сначала нужно выполнить преобразование для вершины $A=1$, затем для $A=2$). После каждого преобразования нужно вычислить длину нового цикла и убедиться, что она осталась отрицательной.\n"
   ]
  },
  {
   "cell_type": "markdown",
   "metadata": {},
   "source": [
    "**Решение.**"
   ]
  },
  {
   "cell_type": "markdown",
   "metadata": {},
   "source": [
    "**Задание** №$19$. Придумать граф, в котором для определенной вершины существует цикл отрицательного веса, который начинается и заканчивается в ней, но не существует простой цикл отрицательного веса."
   ]
  },
  {
   "cell_type": "markdown",
   "metadata": {},
   "source": [
    "TODO"
   ]
  },
  {
   "cell_type": "markdown",
   "metadata": {},
   "source": [
    "#### 2.1 Проверка существования цикла отрицательного веса в графе."
   ]
  },
  {
   "cell_type": "markdown",
   "metadata": {},
   "source": [
    "Поскольку мы выяснили, что в случае существования цикла отрицательного веса в графе, обязательно существует простой цикл отрицательного веса, то достаточно проверить наличие простого цикла отрицательного веса.  \n",
    "Но как было показано раньше, алгоритм Флойда как раз и находит веса \n",
    "всех минимальных простых путей/циклов, поэтому для проверки наличия простого цикла отрицательного веса достаточно проверить, что какое-то значение $d_{\\{0,1,...,n-1\\}}[v][v]<0$."
   ]
  },
  {
   "cell_type": "markdown",
   "metadata": {},
   "source": [
    "**Задание** №$20$. Сдать задачу “E. Самый короткий путь”.\n"
   ]
  },
  {
   "cell_type": "markdown",
   "metadata": {},
   "source": [
    "#### 2.2 Построение матрицы достижимости."
   ]
  },
  {
   "cell_type": "markdown",
   "metadata": {},
   "source": [
    "Постановка задачи. Пусть граф задан с помощью матрицы смежности, т.е. $a[u][v]$ означает наличие ребра из вершины $u$ в $v$."
   ]
  },
  {
   "cell_type": "markdown",
   "metadata": {},
   "source": [
    "Необходимо вычислить матрицу достижимости $reachable$, где $reachable[u][v]$ будет означать наличие пути из вершины $u$ в вершину $v$ (в случае, когда пути из $u$ в $v$ не существует, значение $reachable[u][v]$ должно быть равно $0$, в противном случае $reachable[u][v]=1$).\n"
   ]
  },
  {
   "cell_type": "markdown",
   "metadata": {},
   "source": [
    "Немного изменим алгоритм Флойда для нахождения матрицы кратчайших расстояний. А именно, пусть $reachable_S[u][v]$ - означает существование пути из $u$ в $v$, если рассматривать только те пути, у которых все промежуточные вершины принадлежат множеству S. В рамках предыдущих определений, $reachable_S[u][v]=|paths_S[u][v]| >0$ (т.е. множество путей $paths_S[u][v]$ не равно пустому множеству)."
   ]
  },
  {
   "cell_type": "markdown",
   "metadata": {},
   "source": [
    "**Задание** №$21$. Вручную вычислить матрицу достижимости $reachable_{\\{\\}}[u][v]$, используя выписанные ранее пути в задании №$6$."
   ]
  },
  {
   "cell_type": "markdown",
   "metadata": {},
   "source": [
    "**Решение:**"
   ]
  },
  {
   "cell_type": "markdown",
   "metadata": {},
   "source": [
    "TODO"
   ]
  },
  {
   "cell_type": "markdown",
   "metadata": {},
   "source": [
    "**Задание** №$22$. Вручную вычислить матрицу достижимости $reachable_{\\{0\\}}[u][v]$, используя выписанные ранее пути в заданиях №$6$, №$7$.\n"
   ]
  },
  {
   "cell_type": "markdown",
   "metadata": {},
   "source": [
    "**Решение:**"
   ]
  },
  {
   "cell_type": "markdown",
   "metadata": {},
   "source": [
    "TODO"
   ]
  },
  {
   "cell_type": "markdown",
   "metadata": {},
   "source": [
    "#### 2.3 Вычисление вспомогательной матрицы достижимости $reachable_S$."
   ]
  },
  {
   "cell_type": "markdown",
   "metadata": {},
   "source": [
    "Посмотрим, как можно вычислить матрицу достижимости $reachable_{S\\,\\cup\\left \\{ k \\right \\}}[u][v]$. Для этого рассмотрим два случая:\n"
   ]
  },
  {
   "cell_type": "markdown",
   "metadata": {},
   "source": [
    "1. Путь из $paths_{S\\,\\cup\\left \\{ k \\right \\}}[u][v]$ не содержит вершину $k$. В таком случае $reachable_{S\\,\\cup\\left \\{ k \\right \\}}[u][v]=reachable_S[u][v]$, поскольку все промежуточные вершины могут принадлежать только множеству $S$."
   ]
  },
  {
   "cell_type": "markdown",
   "metadata": {},
   "source": [
    "2. Путь из $paths_{S\\,\\cup\\left \\{ k \\right \\}}[u][v]$ содержит вершину $k$. В таком случае этот путь разбивается на два участка: простой путь от $u$ до $k$, и простой путь от $k$ до $v$. Но поскольку на всем пути вершина $k$ встречалась ровно один раз, то в каждом из двух участков все промежуточные вершины могут принадлежать только множеству $S$. В таком случае, $reachable_{S\\,\\cup\\left \\{ k \\right \\}}[u][v]$=$reachable_S[u][k]$ & $reachable_S[k][v]$, т.е. путь из $u$ в $v$ будет существовать в случае одновременного существования пути из $u$ в $k$ и из $k$ в $v$.\n"
   ]
  },
  {
   "cell_type": "markdown",
   "metadata": {},
   "source": [
    "Объединяя эти два случая, получаем формулу для вычисления $reachable_{S\\,\\cup\\left \\{ k \\right \\}}[u][v]$:"
   ]
  },
  {
   "cell_type": "markdown",
   "metadata": {},
   "source": [
    "$reachable_{S\\,\\cup\\left \\{ k \\right \\}}[u][v]=reachable_S[u][v] \\,|\\, (reachable_S[u][k] \\,\\&\\, reachable_S[k][v]$  \n",
    "$reachable_{S\\,\\cup\\left \\{ k \\right \\}}[u][v]=reachableS[u][v] \\,or\\, (reachableS[u][k] \\,and\\, reachableS[k][v])$\n"
   ]
  },
  {
   "cell_type": "markdown",
   "metadata": {},
   "source": [
    "**Задание** №$25$. Реализовать алгоритм вычисления $reachable_S$ используя всего лишь одну матрицу $reachable$. На каждой итерации вывести полученные промежуточные матрицы достижимости и убедиться, что результат совпадает с результатом в заданиях №$21-24$.\n"
   ]
  },
  {
   "cell_type": "code",
   "execution_count": 21,
   "metadata": {},
   "outputs": [],
   "source": [
    "# TODO"
   ]
  },
  {
   "cell_type": "markdown",
   "metadata": {},
   "source": [
    "**Задание** №$26$. Сдать задачу G. \"Транзитивное замыкание\"."
   ]
  },
  {
   "cell_type": "code",
   "execution_count": 22,
   "metadata": {},
   "outputs": [],
   "source": [
    "# TODO"
   ]
  },
  {
   "cell_type": "markdown",
   "metadata": {},
   "source": [
    "#### 2.4 Аналог поиска цикла отрицательного веса в случае подсчета матрицы достижимости."
   ]
  },
  {
   "cell_type": "markdown",
   "metadata": {},
   "source": [
    "Нахождение матрицы достижимости является упрощенной задачей нахождения матрицы кратчайших расстояний. Аналогичным упрощениям является нахождение обычного цикла в графе. Действительно, используя аналогичные рассуждения, можно показать, что в случае наличия цикла в графе, существует также и простой цикл в графе.\n",
    "Поэтому для проверки наличия цикла в графе достаточно построить матрицы достижимости и проверить, существует ли такая вершина $v$, что $reachable_{\\{0,1,...,n-1\\}}[v][v]=1$.\n"
   ]
  },
  {
   "cell_type": "markdown",
   "metadata": {},
   "source": [
    "**Задание** №$27$. Сдать задачу “Есть ли цикл?”."
   ]
  },
  {
   "cell_type": "code",
   "execution_count": null,
   "metadata": {},
   "outputs": [],
   "source": [
    "#TODO"
   ]
  },
  {
   "cell_type": "markdown",
   "metadata": {},
   "source": [
    "#### 2.5 Нахождение матрицы кратчайших расстояний в случае наличия циклов отрицательного веса."
   ]
  },
  {
   "cell_type": "markdown",
   "metadata": {},
   "source": [
    "Посмотрим, как может выглядеть кратчайший путь из $u$ в $v$:  \n",
    "    \n",
    "1. В нем присутствует цикл отрицательного веса. Тогда по этому циклу можно проходить бесконечно много раз, а значит длина кратчайшего пути от $u$ до $v$ равна $\\,-\\infty$.\n",
    "2. В нем отсутствуют циклы отрицательного веса. Это значит, что его можно преобразовать в простой путь путем удаление всех циклов неотрицательного веса, как рассказывалось в первом разделе.\n"
   ]
  },
  {
   "cell_type": "markdown",
   "metadata": {},
   "source": [
    "Заметим, что обычный алгоритм Флойда правильно вычислит длины всех кратчайших путей второго типа.  \n",
    "Поэтому единственное, что нужно сделать - это записать в определенные ячейки матрицы $d$ значение $\\,-\\infty$.  \n",
    "Как определить, что между вершинами $u$ и $v$ существует путь длины $\\,-\\infty$?  \n",
    "Заметим, что если такой путь существует, то он имеет следующую структуру:\n"
   ]
  },
  {
   "cell_type": "markdown",
   "metadata": {},
   "source": [
    "1. сначала он доходит от вершины $u$ до определенной вершины $k$, которая принадлежит простому циклу отрицательного веса;\n",
    "2. затем он бесконечное кол-во раз проходит по этому простому циклу $k\\rightarrow...\\rightarrow k$;\n",
    "3. и наконец из вершины $k$ переходит в вершину $v$.\n"
   ]
  },
  {
   "cell_type": "markdown",
   "metadata": {},
   "source": [
    "Поскольку в предыдущих разделах мы уже научились вычислять матрицу достижимости, а также определять все вершины, которые принадлежат простому циклу отрицательного веса (должно выполняться условие $d_{\\{0,1,...,n-1\\}}[v][v]<0)$, то можно очень легко проверить, существует ли путь длины $-\\infty$ между вершинами $u$ и $v$. Для этого необходимо перебрать все возможные вершины $k$ и проверить, выполняется ли для какой-то из них условие   \n",
    "$reachable[u][k]$ and $d_{\\{0,1,...,n-1\\}}[v][v]<0$ and $reachable[k][v]$. \n"
   ]
  },
  {
   "cell_type": "markdown",
   "metadata": {},
   "source": [
    "Сложность такой проверки для конкретной пары вершин - $O(n)$, а значит для всех пар вершин - $O(n^3)$, что совпадает со скоростью обычного алгоритма Флойда. \n"
   ]
  },
  {
   "cell_type": "markdown",
   "metadata": {},
   "source": [
    "**Задание** №$28$. Выписать структуру кратчайших путей между следующими парами вершин:  \n",
    "$u=1,v=2$;  \n",
    "$u=0,v=4$;  \n",
    "$u=5,v=0$;  \n",
    "$u=5,v=2$;  \n",
    "\n"
   ]
  },
  {
   "cell_type": "markdown",
   "metadata": {},
   "source": [
    " TODO"
   ]
  },
  {
   "cell_type": "markdown",
   "metadata": {},
   "source": [
    "**Задание** №$29$. Сдать задачу “Существование пути”.\n"
   ]
  },
  {
   "cell_type": "code",
   "execution_count": null,
   "metadata": {},
   "outputs": [],
   "source": []
  }
 ],
 "metadata": {
  "kernelspec": {
   "display_name": "Python 3",
   "language": "python",
   "name": "python3"
  },
  "language_info": {
   "codemirror_mode": {
    "name": "ipython",
    "version": 3
   },
   "file_extension": ".py",
   "mimetype": "text/x-python",
   "name": "python",
   "nbconvert_exporter": "python",
   "pygments_lexer": "ipython3",
   "version": "3.7.2"
  }
 },
 "nbformat": 4,
 "nbformat_minor": 2
}
