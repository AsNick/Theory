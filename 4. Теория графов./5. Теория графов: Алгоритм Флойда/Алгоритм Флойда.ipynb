{
 "cells": [
  {
   "cell_type": "markdown",
   "metadata": {},
   "source": [
    "### Теория графов. Алгоритм Флойда."
   ]
  },
  {
   "cell_type": "markdown",
   "metadata": {},
   "source": [
    "#### Важные определения."
   ]
  },
  {
   "cell_type": "markdown",
   "metadata": {},
   "source": [
    "$1$. ***Путь*** - это такая последовательность вершин $v_0,v_1,...,v_{k-1}$, $(2 \\leq k)$, что между каждой парой соседних вершин $v_i, v_{i+1}$ $(0 \\leq i <  k - 1)$  существует ребро.  \n",
    "  \n",
    "$2$. ***Цикл*** - это путь, у которого $v_0 = v_{k-1}$.   \n",
    "  \n",
    "$3$. ***Простой путь*** - это путь, все вершины которого попарно различны.  \n",
    "  \n",
    "$4$. ***Простой цикл*** - это цикл, с единственной парой одинаковых вершин $v_0=v_{k-1}$.  \n",
    "  \n",
    "$5$. ***Промежуточными вершинами пути*** называются все вершины, кроме первой и последней: $v_1, v_2,..., v_{k - 2}$. \n",
    "  \n",
    "$6^*$. Простой путь из $a$ в $b$ - это простой путь в случае когда $a \\neq b$, и простой цикл иначе, при этом $v_0 = a,v_{k-1} = b$.\n",
    "  \n",
    "  \n"
   ]
  },
  {
   "cell_type": "markdown",
   "metadata": {},
   "source": [
    "$7$. Весом пути называется сумма весов всех ребер пути, т.е. $\\sum_{i = 0}^{k - 2}a[v_i][v_{i + 1}]$, где $a[u][v]$ означает вес ребра между вершинами $u$ и $v$.\n"
   ]
  },
  {
   "attachments": {
    "graph%20%2812%29.png": {
     "image/png": "[encoded data removed]"
    }
   },
   "cell_type": "markdown",
   "metadata": {},
   "source": [
    "![graph%20%2812%29.png](attachment:graph%20%2812%29.png)"
   ]
  },
  {
   "cell_type": "markdown",
   "metadata": {},
   "source": [
    "**Задание** $№\\, 1^*.$ На заданном графе  выписать все существующие пути."
   ]
  },
  {
   "cell_type": "markdown",
   "metadata": {},
   "source": [
    "**Решение:**"
   ]
  },
  {
   "cell_type": "markdown",
   "metadata": {},
   "source": [
    "Выписать **все** пути не представляется возможным, их бесконечное количество, так как в графе есть цикл $0 \\rightarrow 2 \\rightarrow 3 \\rightarrow 0$ и ходить по нему можно сколько угодно раз.   \n",
    "  \n",
    "Если в неориентированном графе есть хотя-бы одно ребро, ходить по нему вперед - назад можно сколько угодно раз.\n"
   ]
  },
  {
   "cell_type": "markdown",
   "metadata": {},
   "source": [
    "**Задание** $№\\, 2^*$. На заданном графе выписать все существующие циклы.  \n"
   ]
  },
  {
   "cell_type": "markdown",
   "metadata": {},
   "source": [
    "**Решение:**"
   ]
  },
  {
   "cell_type": "markdown",
   "metadata": {},
   "source": [
    "Исходя из определения цикла, и наличия четырех ребер в нашем графе, получаем, что циклов в графе №1 бесконечно много."
   ]
  },
  {
   "cell_type": "markdown",
   "metadata": {},
   "source": [
    "**Задание** $№\\,3.$ На заданном графе выписать все существующие простые пути.\n"
   ]
  },
  {
   "cell_type": "markdown",
   "metadata": {},
   "source": [
    "**Решение:**"
   ]
  },
  {
   "cell_type": "markdown",
   "metadata": {},
   "source": [
    "$1$. Все простые пути состоящие из одного ребра:  \n",
    "   + $(1, 0), (0, 1), (0, 2), (2, 0), (0, 3), (3, 0), (2, 3), (3, 2)$  \n",
    "   \n",
    "$2$. Все простые пути, состоящие из двух рёбер:  \n",
    "   + $(1, 0, 2), (2, 0, 1), (1, 0, 3), (3, 0, 1), (0, 2, 3), (3, 2, 0), (0, 3, 2), (2, 3, 0), (2, 0, 3), (3, 0, 2)$  \n",
    "\n",
    "$3$. Все простые пути, состоящие из трёх рёбер:  \n",
    "   + $(1, 0, 2, 3), (1, 0, 3, 2), (2, 3, 0, 1), (3, 2, 0, 1)$"
   ]
  },
  {
   "cell_type": "markdown",
   "metadata": {},
   "source": [
    "**Задание** $№\\,4.$ На заданном графе выписать все существующие простые циклы."
   ]
  },
  {
   "cell_type": "markdown",
   "metadata": {},
   "source": [
    "**Решение:**"
   ]
  },
  {
   "cell_type": "markdown",
   "metadata": {},
   "source": [
    "+ $(1, 0, 1), (0, 1, 0), (0, 2, 0), (2, 0, 2), (0, 3, 0), (3, 0, 3), (2, 3, 2), (3, 2, 3)$  \n",
    "+ $(0, 2, 3, 0), (0, 3, 2, 0), (2, 0, 3, 2), (2, 3, 0, 2), (3, 2, 0, 3), (3, 0, 2, 3)$\n"
   ]
  },
  {
   "cell_type": "markdown",
   "metadata": {},
   "source": [
    "### Нахождение матрицы кратчайших расстояний с помощью алгоритма Флойда.\n"
   ]
  },
  {
   "cell_type": "markdown",
   "metadata": {},
   "source": [
    "#### Постановка задачи.\n"
   ]
  },
  {
   "cell_type": "markdown",
   "metadata": {},
   "source": [
    "Пусть граф задан с помощью матрицы смежности, т.е. $g[u][v]$ означает длину ребра из вершины $u$ в $v$  \n",
    "(при этом для любой вершины $v$ выполняется $g[v][v]=0$, а в случае отсутствия ребра $(u,v)$, значение $g[u][v] = \\infty $.  \n",
    "При этом известно, что в заданном графе отсутствуют *циклы отрицательного веса*.\n"
   ]
  },
  {
   "cell_type": "markdown",
   "metadata": {},
   "source": [
    "Необходимо вычислить матрицу кратчайших расстояний $d$,   \n",
    "где $d[u][v]$ будет означать длину кратчайшего пути из вершины $u$ в вершину $v$  \n",
    "(в случае, когда пути из $u$ в $v$ не существует, значение $d[u][v]$ должно быть равно $\\infty$).\n"
   ]
  },
  {
   "cell_type": "markdown",
   "metadata": {},
   "source": [
    "#### Алгоритм Флойда."
   ]
  },
  {
   "cell_type": "markdown",
   "metadata": {},
   "source": [
    "Заметим, что в случае отсутствия в графе циклов отрицательного веса, длина кратчайшего *пути* из вершины $u$ в $v$ равна длине кратчайшего *простого пути* из $u$ в $v$. Действительно если в кратчайшем пути какая-то вершина присутствует два раза, то участок пути от первого вхождения этой вершины до последнего образует цикл и вносит неотрицательный вклад в итоговую длину пути, а значит этот участок можно удалить:\n"
   ]
  },
  {
   "cell_type": "markdown",
   "metadata": {},
   "source": [
    "$v_0,v_1,...,v_x = A, v_{x+1},v_y = A,v_{y+1},v_{y+2},...,v_k $ \n",
    "\n",
    "$v_0,v_1,...,v_x = A,v_{y+1},v_{y+2},...,v_k$\n"
   ]
  },
  {
   "cell_type": "markdown",
   "metadata": {},
   "source": [
    "Таким образом, задача нахождения кратчайшего пути между всеми парами вершин свелась к задаче нахождения кратчайшего простого пути между всеми парами вершин.\n"
   ]
  },
  {
   "cell_type": "markdown",
   "metadata": {},
   "source": [
    "**Задание** $№\\, 5.$ Вычислите длину пути из вершины $1$ в вершину $3:\\,\\,\\,$ $1 \\rightarrow 0 \\rightarrow 2 \\rightarrow 0\\rightarrow 1\\rightarrow 0 \\rightarrow 3$. Затем преобразуйте этот путь так, чтобы он стал простым путем. Вычислите длину нового пути и убедитесь, что она уменьшилась."
   ]
  },
  {
   "cell_type": "markdown",
   "metadata": {},
   "source": [
    "#### Решение."
   ]
  },
  {
   "cell_type": "markdown",
   "metadata": {},
   "source": [
    "Длина пути $1 \\rightarrow 0 \\rightarrow 2 \\rightarrow 0\\rightarrow 1\\rightarrow 0 \\rightarrow 3$ равна: $3 + 7 + 7 + 3 + 3 + 50 = 73$  \n",
    "  \n",
    "Сделаем путь простым:  \n",
    "$1 \\rightarrow 0 \\rightarrow 3$  \n",
    "\n",
    "Длина простого пути из вершины $1$ в вершину $3$ равна $3 + 50 = 53$\n"
   ]
  },
  {
   "cell_type": "markdown",
   "metadata": {},
   "source": [
    "**Построение решения.**  \n",
    "**Step 1.**"
   ]
  },
  {
   "cell_type": "markdown",
   "metadata": {},
   "source": [
    "Введем вспомогательную величину $d_S[u][v]$ - минимальная длина пути из $u$ в $v$ среди тех путей, у которых все промежуточные вершины принадлежат множеству $S$."
   ]
  },
  {
   "cell_type": "markdown",
   "metadata": {},
   "source": [
    "Для удобства, обозначим множество всех таких путей как $paths_S[u][v]$,  \n",
    "тогда $d_S[u][v] = min(length(path))$, $path \\in  paths_S[u][v]$"
   ]
  },
  {
   "cell_type": "markdown",
   "metadata": {},
   "source": [
    "**Задание** $№\\,6.$ Выписать все простые пути, у которых все промежуточные вершины принадлежат множеству $S = \\left \\{ \\varnothing  \\right \\}$  (пустое множество).\n"
   ]
  },
  {
   "cell_type": "markdown",
   "metadata": {},
   "source": [
    "**Решение:**"
   ]
  },
  {
   "cell_type": "markdown",
   "metadata": {},
   "source": [
    "$(1, 0), (0, 1), (0, 2), (2, 0), (0, 3), (3, 0), (3, 2), (2, 3)$"
   ]
  },
  {
   "cell_type": "markdown",
   "metadata": {},
   "source": [
    "**Задание** $№\\,7.1$ Выписать все простые пути, у которых все промежуточные вершины принадлежат множеству $S=\\left \\{0  \\right \\}$."
   ]
  },
  {
   "cell_type": "markdown",
   "metadata": {},
   "source": [
    "**Решение:**"
   ]
  },
  {
   "cell_type": "markdown",
   "metadata": {},
   "source": [
    "$(1, 0, 2), (2, 0, 1), (1, 0, 3), (3, 0, 1), (2, 0, 3), (3, 0, 2), (1, 0), (0, 1), (0, 2), (2, 0), (0, 3), (3, 0), (3, 2), (2, 3)$"
   ]
  },
  {
   "cell_type": "markdown",
   "metadata": {},
   "source": [
    "**Задание** $№\\,7.2.$ Выписать все простые циклы, у которых все промежуточные вершины принадлежат множеству $S=\\left \\{0  \\right \\}$.\n"
   ]
  },
  {
   "cell_type": "markdown",
   "metadata": {},
   "source": [
    "**Решение:**"
   ]
  },
  {
   "cell_type": "markdown",
   "metadata": {},
   "source": [
    "$(1, 0, 1), (2, 0, 2), (3, 0, 3)$"
   ]
  },
  {
   "cell_type": "markdown",
   "metadata": {},
   "source": [
    "**Задание** $№\\,8.1.$ Выписать все простые пути, у которых все промежуточные вершины принадлежат множеству $S=\\left \\{0, 1  \\right \\}$."
   ]
  },
  {
   "cell_type": "markdown",
   "metadata": {},
   "source": [
    "**Решение:**"
   ]
  },
  {
   "cell_type": "markdown",
   "metadata": {},
   "source": [
    "$(1, 0, 2), (2, 0, 1), (1, 0, 3), (3, 0, 1), (2, 0, 3), (3, 0, 2), (1, 0), (0, 1), (0, 2), (2, 0), (0, 3), (3, 0), (3, 2), (2, 3)$"
   ]
  },
  {
   "cell_type": "markdown",
   "metadata": {},
   "source": [
    "**Задание** $№\\,8.2.$ Выписать все простые циклы, у которых все промежуточные вершины принадлежат множеству $S=\\left \\{0, 1  \\right \\}$."
   ]
  },
  {
   "cell_type": "markdown",
   "metadata": {},
   "source": [
    "**Решение:**"
   ]
  },
  {
   "cell_type": "markdown",
   "metadata": {},
   "source": [
    "$(1, 0, 1), (2, 0, 2), (3, 0, 3), (0, 1, 0)$"
   ]
  },
  {
   "cell_type": "markdown",
   "metadata": {},
   "source": [
    "**Задание** $№\\,9.1$. Выписать все простые пути, у которых все промежуточные вершины принадлежат множеству $S = \\left \\{0, 1, 2  \\right \\}$."
   ]
  },
  {
   "cell_type": "markdown",
   "metadata": {},
   "source": [
    "**Решение:**"
   ]
  },
  {
   "cell_type": "markdown",
   "metadata": {},
   "source": [
    "$(1, 0), (0, 1), (0, 3), (3, 0), (0, 2), (2, 0), (2, 3), (3, 2), (1, 0, 3), (3, 0, 1), (1, 0, 2), (2, 0, 1), (2, 0, 3), (3, 0, 2), (0, 2, 3), (3, 2, 0), (1, 0, 2, 3), (3, 2, 0, 1)$ "
   ]
  },
  {
   "cell_type": "markdown",
   "metadata": {},
   "source": [
    "**Задание** $№\\,9.2.$ Выписать все простые циклы, у которых все промежуточные вершины принадлежат множеству $S = \\left \\{0, 1, 2  \\right \\}$.\n"
   ]
  },
  {
   "cell_type": "markdown",
   "metadata": {},
   "source": [
    "**Решение:**"
   ]
  },
  {
   "cell_type": "markdown",
   "metadata": {},
   "source": [
    "$(1,0,1), (2,0,2), (3,0,3), (0,1,0), (0, 2, 0), (3, 2, 3), (3, 2, 0, 3), (3, 0, 2, 3)$"
   ]
  },
  {
   "cell_type": "markdown",
   "metadata": {},
   "source": [
    "**Задание** $№\\,10$. Вручную вычислить матрицу $d_{\\left \\{  \\right \\}}[u][v]$, используя выписанные ранее пути в задании $№\\,6$.\n"
   ]
  },
  {
   "cell_type": "markdown",
   "metadata": {},
   "source": [
    "$(1, 0), (0, 1), (0, 2), (2, 0), (0, 3), (3, 0), (3, 2), (2, 3)$"
   ]
  },
  {
   "cell_type": "markdown",
   "metadata": {},
   "source": [
    "$d_{\\left \\{ \\varnothing  \\right \\}}[u][v]$ =   $\\begin{pmatrix}\n",
    " 0&  3&  7& 50& \\\\ \n",
    " 3&  0&  \\infty& \\infty&\\\\ \n",
    " 7&  \\infty&  0& 10&\\\\ \n",
    " 50& \\infty &  10& 0&\n",
    "\\end{pmatrix}$"
   ]
  },
  {
   "cell_type": "markdown",
   "metadata": {},
   "source": [
    "**Задание** $№\\,11.$ Вручную вычислить матрицу $d_{\\left \\{ 0 \\right \\}}[u][v]$, используя выписанные ранее пути в заданиях $№\\,6, №\\,7$.\n"
   ]
  },
  {
   "cell_type": "markdown",
   "metadata": {},
   "source": [
    "**Решение:**  \n",
    "  \n",
    "Найденные ранее простые пути: "
   ]
  },
  {
   "cell_type": "markdown",
   "metadata": {},
   "source": [
    "$(1, 0), (0, 1), (0, 2), (2, 0), (0, 3), (3, 0), (3, 2), (2, 3), (1, 0, 2), (2, 0, 1), (1, 0, 3), (3, 0, 1), (2, 0, 3), (3, 0, 2)$"
   ]
  },
  {
   "cell_type": "markdown",
   "metadata": {},
   "source": [
    "$d_{\\left \\{ 0 \\right \\}}[u][v]$ =   $\\begin{pmatrix}\n",
    " 0&  3&  7& 50& \\\\ \n",
    " 3&  0&  10& 53&\\\\ \n",
    " 7&  10&  0& 10&\\\\ \n",
    " 50& 53&  10& 0&\n",
    "\\end{pmatrix}$"
   ]
  },
  {
   "cell_type": "markdown",
   "metadata": {},
   "source": [
    "**Задание** $№\\,12.$ Вручную вычислить матрицу $d_{\\left \\{ 0, 1 \\right \\}}[u][v]$, используя выписанные ранее пути в заданиях $№\\,6, №\\,7, №\\,8$."
   ]
  },
  {
   "cell_type": "markdown",
   "metadata": {},
   "source": [
    "**Решение:**  \n",
    "  \n",
    "Найденные ранее простые пути: "
   ]
  },
  {
   "cell_type": "markdown",
   "metadata": {},
   "source": [
    "$(1, 0), (0, 1), (0, 2), (2, 0), (0, 3), (3, 0), (3, 2), (2, 3), (1, 0, 2), (2, 0, 1), (1, 0, 3), (3, 0, 1), (2, 0, 3), (3, 0, 2)$"
   ]
  },
  {
   "cell_type": "markdown",
   "metadata": {},
   "source": [
    "С добавлением вершины $1$ в множество промежуточных вершин  новых простых путей не появилось, соответственно матрица расстояний осталась прежней."
   ]
  },
  {
   "cell_type": "markdown",
   "metadata": {},
   "source": [
    "$d_{\\left \\{ 0, 1 \\right \\}}[u][v]$ =   $\\begin{pmatrix}\n",
    " 0&  3&  7& 50& \\\\ \n",
    " 3&  0&  10& 53&\\\\ \n",
    " 7&  10&  0& 10&\\\\ \n",
    " 50& 53&  10& 0&\n",
    "\\end{pmatrix}$"
   ]
  },
  {
   "cell_type": "markdown",
   "metadata": {},
   "source": [
    "**Задание**  $№\\,13.$ Вручную вычислить матрицу $d_{\\left \\{ 0, 1, 2 \\right \\}}[u][v]$, используя выписанные ранее пути в заданиях $№\\,6, №\\,7, №\\,8, №\\,9$."
   ]
  },
  {
   "cell_type": "markdown",
   "metadata": {},
   "source": [
    "**Решение:**  \n",
    "  \n",
    "Найденные ранее простые пути при $S = \\left \\{0, 1, 2  \\right \\}$: "
   ]
  },
  {
   "cell_type": "markdown",
   "metadata": {},
   "source": [
    "$(1, 0), (0, 1), (0, 3), (3, 0), (0, 2), (2, 0), (2, 3), (3, 2), (1, 0, 3), (3, 0, 1), (1, 0, 2), (2, 0, 1), (2, 0, 3), (3, 0, 2), (0, 2, 3), (3, 2, 0), (1, 0, 2, 3), (3, 2, 0, 1)$ "
   ]
  },
  {
   "cell_type": "markdown",
   "metadata": {},
   "source": [
    "Добавились новые простые пути:  \n",
    "\n",
    "$(0, 2, 3), (3, 2, 0), (1, 0, 2, 3), (3, 2, 0, 1)$\n",
    "\n",
    "Пути $(0, 2, 3)$ и $(3, 2, 0)$ дают улучшение, $17$ вместо $50$.  \n",
    "Пути $(1, 0, 2, 3)$ и $(3, 2, 0, 1)$ так же дают улучшение, $20$ вместо $53$.  \n",
    "Итоговая матрица примет вид:"
   ]
  },
  {
   "cell_type": "markdown",
   "metadata": {},
   "source": [
    "$d_{\\left \\{ 0, 1, 2 \\right \\}}[u][v]$ =   $\\begin{pmatrix}\n",
    " 0&  3&  7& 17& \\\\ \n",
    " 3&  0&  10& 20&\\\\ \n",
    " 7&  10&  0& 10&\\\\ \n",
    " 17& 20&  10& 0&\n",
    "\\end{pmatrix}$"
   ]
  },
  {
   "cell_type": "markdown",
   "metadata": {},
   "source": [
    "#### Вычисление вспомогательной матрицы $d_S$."
   ]
  },
  {
   "cell_type": "markdown",
   "metadata": {},
   "source": [
    "Заметим, что $d_{\\left \\{ \\varnothing  \\right \\}}[u][v] = g[u][v]$, поскольку существует только один путь из $u$ в $v$, не содержащий промежуточных вершин (путь из одного ребра $(u, v)$).\n"
   ]
  },
  {
   "cell_type": "markdown",
   "metadata": {},
   "source": [
    "Посмотрим, как можно вычислить матрицу значений $d_{S \\bigcup \\{k\\}}[u][v]$.  \n",
    "  \n",
    "Для этого рассмотрим два случая:  "
   ]
  },
  {
   "cell_type": "markdown",
   "metadata": {},
   "source": [
    "$1$. Кратчайший путь из $paths_{S \\bigcup \\{k\\}}[u][v]$ не содержит вершину $k$.  \n",
    "  \n",
    "В таком случае $d_{S \\bigcup \\{k\\}}[u][v]=d_S[u][v]$, поскольку все промежуточные вершины могут принадлежать только множеству S.\n",
    "  "
   ]
  },
  {
   "cell_type": "markdown",
   "metadata": {},
   "source": [
    "$2$. Кратчайший путь из $paths_{S \\bigcup \\{k\\}}[u][v]$ содержит вершину $k$.  \n",
    "  \n",
    "  В таком случае этот путь разбивается на два участка: простой путь от $u$ до $k$, и простой путь от $k$ до $v$.  \n",
    "  Но поскольку на всем пути вершина $k$ встречалась ровно один раз, то в каждом из двух участков все промежуточные вершины могут принадлежать только множеству $S$.  \n",
    "  В таком случае, $d_{S \\bigcup \\{k\\}}[u][v]=d_S[u][k]+d_S[k][v]$.\n"
   ]
  },
  {
   "cell_type": "markdown",
   "metadata": {},
   "source": [
    "Объединяя эти два случая, получаем формулу для вычисления $d_{S \\bigcup \\{k\\}}[u][v]$:\n"
   ]
  },
  {
   "cell_type": "markdown",
   "metadata": {},
   "source": [
    "$d_{S \\bigcup \\{k\\}}[u][v]=min(d_S[u][v],d_S[u][k]+d_S[k][v])$.\n"
   ]
  },
  {
   "cell_type": "markdown",
   "metadata": {},
   "source": [
    "Заметим, что длина кратчайшего пути из $u$ в $v$ по определению равна $d_{\\{0, 1,...n - 1\\}}[u][v]$,  \n",
    "поэтому для нахождения матрицы кратчайших расстояний достаточно вычислить матрицу   \n",
    "$d_{\\{0, 1,...n - 1\\}}$.  \n",
    "Будем вычислять ее итеративно, начиная с $d_{\\{\\}}$, и поочередно добавляя к текущему множеству вершин $S$ очередную вершину $k$ (начиная от $k=0$, заканчивая вершиной $k=n-1$).\n"
   ]
  },
  {
   "cell_type": "markdown",
   "metadata": {},
   "source": [
    "**Задание** $№\\,14$. Реализовать алгоритм вычисления $d_S$. Для этого завести трехмерный массив $d$ размера $(n + 1)\\times n \\times n$,  \n",
    "при этом $d_0$ должно соответствовать матрице $d_{\\{\\}}$, $d_1$ - матрице $d_{\\{0\\}}$, …, $d_n$ - матрице $d_{\\{0, 1...n - 1\\}}$.  \n",
    "\n",
    "Вывести все $n+1$ матриц и убедиться, что матрицы $d_0$, $d_1$,$d_2$,$d_3$ совпадают с найденными в заданиях $№\\,8-№\\,11$ матрицами $d_{\\{\\}}$,$d_{\\{0\\}}$, $d_{\\{0, 1\\}}$, $d_{\\{0, 1, 2\\}}$."
   ]
  },
  {
   "cell_type": "code",
   "execution_count": null,
   "metadata": {},
   "outputs": [],
   "source": []
  }
 ],
 "metadata": {
  "kernelspec": {
   "display_name": "Python 3",
   "language": "python",
   "name": "python3"
  },
  "language_info": {
   "codemirror_mode": {
    "name": "ipython",
    "version": 3
   },
   "file_extension": ".py",
   "mimetype": "text/x-python",
   "name": "python",
   "nbconvert_exporter": "python",
   "pygments_lexer": "ipython3",
   "version": "3.7.2"
  }
 },
 "nbformat": 4,
 "nbformat_minor": 2
}
