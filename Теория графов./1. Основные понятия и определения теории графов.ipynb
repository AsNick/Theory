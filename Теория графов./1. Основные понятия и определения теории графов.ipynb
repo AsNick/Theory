{
 "cells": [
  {
   "cell_type": "markdown",
   "metadata": {},
   "source": [
    "### Основные понятия и определения теории графов."
   ]
  },
  {
   "cell_type": "markdown",
   "metadata": {},
   "source": [
    "**Граф** - абстрактный математический объект $G(V, E, I)$, представляющий собой множество вершин $V$ и набор рёбер\n",
    "            $E$, а также отображения $I : E → V2$, сопоставляющего любому ребру $e ∈ E$ \n",
    "            неупорядоченную пару вершин ${x, y} ∈ V^2$, которую это ребро соединяет.\n",
    "            $E$ и $V$ считаются конечными множествами.\"\t\t\t\t\t\t"
   ]
  },
  {
   "cell_type": "code",
   "execution_count": 10,
   "metadata": {},
   "outputs": [
    {
     "name": "stdout",
     "output_type": "stream",
     "text": [
      "3384390.4339\n",
      "0.4339\n"
     ]
    }
   ],
   "source": [
    "a, b = input().split('.')\n",
    "print(0, b, sep='.')\n"
   ]
  },
  {
   "cell_type": "code",
   "execution_count": 3,
   "metadata": {},
   "outputs": [
    {
     "name": "stdout",
     "output_type": "stream",
     "text": [
      "3 5 6 7 4 3 2 4 5 6\n",
      "[3, 5, 6, 7, 4, 3, 2, 4, 5, 6]\n"
     ]
    }
   ],
   "source": [
    "mn = 100\n",
    "mx = 0\n",
    "for i in map(int, input().split()):\n",
    "    if i > mx:\n",
    "        \n",
    "             "
   ]
  },
  {
   "cell_type": "code",
   "execution_count": 11,
   "metadata": {},
   "outputs": [
    {
     "name": "stdout",
     "output_type": "stream",
     "text": [
      "3456.8765\n",
      "0.8764999999998508\n"
     ]
    }
   ],
   "source": [
    "n = float(input())\n",
    "print(n % 1)"
   ]
  },
  {
   "cell_type": "code",
   "execution_count": null,
   "metadata": {},
   "outputs": [],
   "source": [
    "a, b = map(int, input().split())"
   ]
  },
  {
   "cell_type": "code",
   "execution_count": 13,
   "metadata": {},
   "outputs": [
    {
     "name": "stdout",
     "output_type": "stream",
     "text": [
      "4\n",
      "9\n",
      "8\n",
      "9\n",
      "8\n",
      "4\n"
     ]
    }
   ],
   "source": [
    "a = int(input())\n",
    "b = int(input())\n",
    "c = int(input())\n",
    "d = int(input())\n",
    "\n",
    "\n",
    "(a, b) (a, c) (a, d) (b, c) (b, d) (c, d)\n",
    "\n",
    "if a > b:\n",
    "    a, b = b, a\n",
    "if a > c:\n",
    "    a, c = c, a\n",
    "if b > c:\n",
    "    b, c = c, b\n",
    "\n",
    "print(c, b, a, sep='\\n')"
   ]
  },
  {
   "cell_type": "code",
   "execution_count": 16,
   "metadata": {},
   "outputs": [
    {
     "name": "stdout",
     "output_type": "stream",
     "text": [
      "7\n",
      "2 10 2 3 -1 5 -1\n",
      "-1 2\n"
     ]
    }
   ],
   "source": [
    "n = int(input())\n",
    "\n",
    "a = list(map(int, input().split()))\n",
    "\n",
    "mn1 = min(a)\n",
    "mn2 = max(a)\n",
    "\n",
    "for i in range(n):\n",
    "    if a[i] < mn2 and a[i] != mn1:\n",
    "        mn2 = a[i]\n",
    "        \n",
    "print(mn1, mn2)"
   ]
  },
  {
   "cell_type": "code",
   "execution_count": 17,
   "metadata": {},
   "outputs": [
    {
     "name": "stdout",
     "output_type": "stream",
     "text": [
      "835\n",
      "8 3 5\n"
     ]
    }
   ],
   "source": [
    "n = int(input())\n",
    "\n",
    "a = n // 100\n",
    "b = n // 10 % 10\n",
    "c = n % 10\n",
    "\n",
    "print(a, b, c)"
   ]
  },
  {
   "cell_type": "code",
   "execution_count": null,
   "metadata": {},
   "outputs": [],
   "source": []
  }
 ],
 "metadata": {
  "kernelspec": {
   "display_name": "Python 3",
   "language": "python",
   "name": "python3"
  },
  "language_info": {
   "codemirror_mode": {
    "name": "ipython",
    "version": 3
   },
   "file_extension": ".py",
   "mimetype": "text/x-python",
   "name": "python",
   "nbconvert_exporter": "python",
   "pygments_lexer": "ipython3",
   "version": "3.7.2"
  }
 },
 "nbformat": 4,
 "nbformat_minor": 2
}
