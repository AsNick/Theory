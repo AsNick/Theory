{
 "cells": [
  {
   "cell_type": "markdown",
   "metadata": {},
   "source": [
    "### Основные понятия и определения теории графов."
   ]
  },
  {
   "cell_type": "markdown",
   "metadata": {},
   "source": [
    "**Граф** - абстрактный математический объект $G(V, E, I)$, представляющий собой множество вершин $V$ и набор рёбер\n",
    "            $E$, а также отображения $I : E → V2$, сопоставляющего любому ребру $e ∈ E$ \n",
    "            неупорядоченную пару вершин ${x, y} ∈ V^2$, которую это ребро соединяет.\n",
    "            $E$ и $V$ считаются конечными множествами.\"\t\t\t\t\t\t"
   ]
  },
  {
   "cell_type": "code",
   "execution_count": null,
   "metadata": {},
   "outputs": [],
   "source": []
  }
 ],
 "metadata": {
  "kernelspec": {
   "display_name": "Python 3",
   "language": "python",
   "name": "python3"
  },
  "language_info": {
   "codemirror_mode": {
    "name": "ipython",
    "version": 3
   },
   "file_extension": ".py",
   "mimetype": "text/x-python",
   "name": "python",
   "nbconvert_exporter": "python",
   "pygments_lexer": "ipython3",
   "version": "3.7.2"
  }
 },
 "nbformat": 4,
 "nbformat_minor": 2
}
