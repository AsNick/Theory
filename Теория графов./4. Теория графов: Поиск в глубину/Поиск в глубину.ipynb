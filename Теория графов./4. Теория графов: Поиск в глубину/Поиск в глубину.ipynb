{
 "cells": [
  {
   "cell_type": "markdown",
   "metadata": {},
   "source": [
    "## Теория графов. Поиск в глубину.  "
   ]
  },
  {
   "cell_type": "markdown",
   "metadata": {},
   "source": [
    "### Определение.  \n",
    "Dfs (depth first search, поиск в глубину) - один из способов обхода графа. Здесь и далее речь будет идти о работе с неориентированными графами."
   ]
  },
  {
   "cell_type": "markdown",
   "metadata": {},
   "source": [
    "### Реализация.   \n",
    "Для реализации необходимо написать функцию **dfs(v, used)**, которая принимает вершину v и информацию о посещенных вершинах **used**, и обходит все ранее не посещенные вершины, до которых можно добраться из **v**. Для проверки того, была ли посещена вершина, достаточно завести массив **used**, в котором при каждом входе в очередную вершину отмечать соответствующее значение единичкой.\n",
    "\n",
    "Таким образом, весь **dfs** может быть реализован следующим образом:"
   ]
  },
  {
   "cell_type": "code",
   "execution_count": 1,
   "metadata": {},
   "outputs": [],
   "source": [
    "def dfs(v):\n",
    "    used[v] = 1\n",
    "    for to in g[v]:\n",
    "        if not used[to]:\n",
    "            dfs(to)"
   ]
  },
  {
   "cell_type": "markdown",
   "metadata": {},
   "source": [
    "#### Задание №1.    \n",
    "  Для графа на рисунке ниже (см. рис. 3), вручную определить какие из ребер будут образовывать ориентированное дерево, а какие вести в предка после вызова dfs(1). Учитывать, что вершины в списках смежности  𝑔[𝑣]  идут в порядке слева направо на рисунке (например  𝑔[3]=[7,10,6] )."
   ]
  },
  {
   "cell_type": "markdown",
   "metadata": {},
   "source": [
    "#### Решение №1.  \n",
    "##### Список ребер, образующих ориентированное дерево:  \n",
    "  \n",
    "  $[1, 3], [3, 7], [3, 10], [10, 6], [1, 8], [8, 4], [1, 2], [2, 5], [2, 9]$  \n",
    "    \n",
    "##### Список рёбер, ведущих в предка после вызова  dfs(1):  \n",
    "  \n",
    "  $[6, 3], [6, 1], [4, 1]$"
   ]
  },
  {
   "cell_type": "markdown",
   "metadata": {},
   "source": [
    "#### Задание №2.  \n",
    "Реализовать функцию **dfs** и проверить на графе из рисунка 3, правильность типа каждого ребра после вызовы **dfs(1)**."
   ]
  },
  {
   "cell_type": "markdown",
   "metadata": {},
   "source": [
    "##### Описание графа.  \n",
    "\n",
    "1. Зададим граф **g** з списком смежности.  \n",
    "  \n",
    "  $g = [[2, 5, 7, 3, 1], [0, 4, 8], [0, 6, 9, 5], [7, 0], [1], [9, 2, 0], [2], [0, 3], [1], [2, 5]]$\n"
   ]
  },
  {
   "cell_type": "code",
   "execution_count": 25,
   "metadata": {},
   "outputs": [],
   "source": [
    "g = [[2, 5, 7, 3, 1], [0, 4, 8], [0, 6, 9, 5], [7, 0], [1], [9, 2, 0], [2], [0, 3], [1], [2, 5]]"
   ]
  },
  {
   "cell_type": "markdown",
   "metadata": {},
   "source": [
    "2. Модернизируем наш dfs для поставленной задачи."
   ]
  },
  {
   "cell_type": "code",
   "execution_count": 29,
   "metadata": {},
   "outputs": [],
   "source": [
    "def dfs(v):\n",
    "    used[v] = 1\n",
    "    for to in g[v]:\n",
    "        if not used[to]:\n",
    "            type1.append((v, to))\n",
    "            h[to] = h[v] + 1\n",
    "            dfs(to)\n",
    "        else:\n",
    "            if h[to] + 1 < h[v]:\n",
    "                type2.append((v, to))"
   ]
  },
  {
   "cell_type": "code",
   "execution_count": 30,
   "metadata": {},
   "outputs": [],
   "source": [
    "def sm(x):\n",
    "    return x[0] + 1, x[1] + 1"
   ]
  },
  {
   "cell_type": "code",
   "execution_count": 31,
   "metadata": {},
   "outputs": [
    {
     "name": "stdout",
     "output_type": "stream",
     "text": [
      "(1, 3) (3, 7) (3, 10) (10, 6) (1, 8) (8, 4) (1, 2) (2, 5) (2, 9)\n",
      "(6, 3) (6, 1) (4, 1)\n"
     ]
    }
   ],
   "source": [
    "n = 10\n",
    "used = [0] * n\n",
    "type1 = []\n",
    "type2 = []\n",
    "h = [0] * n\n",
    "dfs(0)\n",
    "print(*map(sm, type1))\n",
    "print(*map(sm, type2))\n",
    "\n"
   ]
  },
  {
   "cell_type": "markdown",
   "metadata": {},
   "source": [
    "#### Задание  № 3. Получи дерево (informatics 182)"
   ]
  },
  {
   "cell_type": "code",
   "execution_count": 6,
   "metadata": {},
   "outputs": [
    {
     "name": "stdout",
     "output_type": "stream",
     "text": [
      "4 4 \n",
      "1 2 \n",
      "2 3 \n",
      "3 4 \n",
      "4 1\n",
      "1 2\n",
      "2 3\n",
      "3 4\n"
     ]
    }
   ],
   "source": [
    "def dfs(v):\n",
    "    used[v] = 1\n",
    "    for to in g[v]:\n",
    "        if not used[to]:\n",
    "            type1.append((v + 1, to + 1))\n",
    "            dfs(to)\n",
    "\n",
    "\n",
    "n, m = map(int, input().split())\n",
    "g = [[] for i in range(n)]\n",
    "for i in range(m):\n",
    "    a, b = map(int, input().split())\n",
    "    g[a - 1].append(b - 1)\n",
    "    g[b - 1].append(a - 1)\n",
    "\n",
    "used = [0] * n\n",
    "type1 = []\n",
    "dfs(0)\n",
    "for i in type1:\n",
    "    print(*i)\n"
   ]
  },
  {
   "cell_type": "markdown",
   "metadata": {},
   "source": [
    "#### Задание №4. Сдать задачу “Грядки”."
   ]
  },
  {
   "cell_type": "markdown",
   "metadata": {},
   "source": [
    "На площадке e-olymp:  \n",
    "Лимит времени 1 секунда.  \n",
    "Лимит использования памяти 128 MB.\n",
    "\n",
    "Код, приведенный ниже, заходит на полный балл с глубиной стека рекурсии 35000.  \n",
    "Минимальное/максимальнное время и минимальная/максимальная задействованная память на тестах 83,93 ms / 150,80 ms и\t13 577 Kb / 30 560 Kb  соответственно."
   ]
  },
  {
   "cell_type": "code",
   "execution_count": null,
   "metadata": {},
   "outputs": [],
   "source": [
    "import sys\n",
    "sys.setrecursionlimit(40000)\n",
    "\n",
    "\n",
    "def dfs(x, y):\n",
    "    a[x][y] = 1\n",
    "    for dx, dy in zip((-1, 0, 0, 1), (0, -1, 1, 0)):\n",
    "        X = x + dx\n",
    "        Y = y + dy\n",
    "        if 0 <= X < n and 0 <= Y < m:\n",
    "            if a[X][Y] == '#':\n",
    "                dfs(X, Y)\n",
    "\n",
    "\n",
    "n, m = map(int, input().split())\n",
    "a = []\n",
    "for i in range(n):\n",
    "    a.append(list(input()))\n",
    "\n",
    "k = 0\n",
    "for i in range(n):\n",
    "    for j in range(m):\n",
    "        if a[i][j] == '#':\n",
    "            k += 1\n",
    "            dfs(i, j)\n",
    "\n",
    "print(k)\n"
   ]
  },
  {
   "cell_type": "markdown",
   "metadata": {},
   "source": [
    "На acmp эта же задача, имея ограничения по памяти 16 Mb, ожидаемо получает RT на пятом тесте."
   ]
  },
  {
   "cell_type": "markdown",
   "metadata": {},
   "source": [
    "### Нахождение цикла в графе.  \n",
    "$\\,\\,\\,\\,\\,\\,\\,\\,$Нетрудно заметить, что любое “пунктирное” ребро образует цикл вместе с ребрами дерева. Поэтому для нахождения цикла достаточно взять любое “пунктирное” ребро **v -> to**, и подниматься от вершины **v** к вершине **to** по предкам (**v = p[v])** до тех пор, пока не придем в вершину **to**.  \n",
    "$\\,\\,\\,\\,\\,\\,\\,\\,$Важно помнить, что цикл может присутствовать только в какой-то одной из всех существующих компонент связности. Поэтому нужно вызывать процедуру **dfs** из всех непосещенных вершин, так же, как и при поиске компонент связности.\n"
   ]
  },
  {
   "cell_type": "code",
   "execution_count": null,
   "metadata": {},
   "outputs": [],
   "source": []
  }
 ],
 "metadata": {
  "kernelspec": {
   "display_name": "Python 3",
   "language": "python",
   "name": "python3"
  },
  "language_info": {
   "codemirror_mode": {
    "name": "ipython",
    "version": 3
   },
   "file_extension": ".py",
   "mimetype": "text/x-python",
   "name": "python",
   "nbconvert_exporter": "python",
   "pygments_lexer": "ipython3",
   "version": "3.7.2"
  }
 },
 "nbformat": 4,
 "nbformat_minor": 2
}
